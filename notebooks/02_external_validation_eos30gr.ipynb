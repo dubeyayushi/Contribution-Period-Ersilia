{
 "cells": [
  {
   "cell_type": "markdown",
   "id": "0be57582-f353-418e-8186-02f67b6e7bf3",
   "metadata": {},
   "source": [
    "`Created by Ayushi Dubey`"
   ]
  },
  {
   "cell_type": "markdown",
   "id": "8c9338a3-386b-4d4f-a6e9-cccfd3382ae1",
   "metadata": {},
   "source": [
    "**Task T3 Performance:** can we check if the model gives accurate results in external datasets? This is more time consuming and will be done by identifying a public dataset that has not been used in model training, and running predictions to build AUROC curves - to simplify reports, we will only focus on AUROC or R2 as metrics now."
   ]
  },
  {
   "cell_type": "markdown",
   "id": "6918016b-9d2f-43c0-91de-76e66027f750",
   "metadata": {},
   "source": [
    "**Task Description:**\n",
    "\n",
    "This is a continuation from the efforts of Week 2. During this week, you will work with the mentors to find a dataset for which:\n",
    "\n",
    "- We have experimental results on the activity we are trying to predict (for example, malaria IC50)\n",
    "\n",
    "- There is no \"data leakage\", ie, molecules in this dataset are not in the training set of the model. This is a very important check!\n",
    "\n",
    "Once the dataset is curated and cleaned, we can run predictions and create performance metrics like AUROC curves."
   ]
  },
  {
   "cell_type": "markdown",
   "id": "c2bb403c-caaf-40cc-bfe6-058f7e1a36ee",
   "metadata": {},
   "source": [
    "# Data Chosen for External Validation:"
   ]
  },
  {
   "cell_type": "markdown",
   "id": "7946dbd8-bc0f-440e-9af7-a7a785e4f890",
   "metadata": {},
   "source": [
    "For validating the model in the wild, I chose the hERG blockers test data used by Li et al in their paper titled \"Modeling of the hERG K+ Channel Blockage Using Online Chemical Database and Modeling Environment (OCHEM)\".\n",
    "\n",
    "The dataset contains 1092 records in which 234 records are hERG blockers and the rest are non-blockers.\n",
    "\n",
    "- The paper can be viewed [here](https://onlinelibrary.wiley.com/doi/10.1002/minf.201700074). To view full paper click [here](https://acrobat.adobe.com/id/urn:aaid:sc:ap:01ce6a64-01b1-4369-a583-84e1c8da5015).\n",
    "- The datasets used in the paper can be viewed [here](https://ochem.eu/login/show.do?render-mode=full)"
   ]
  },
  {
   "cell_type": "markdown",
   "id": "ec8fbc03-4a00-4295-9f6f-397f2c413bbd",
   "metadata": {},
   "source": [
    "# Importing Necessary Libraries"
   ]
  },
  {
   "cell_type": "code",
   "execution_count": 1,
   "id": "aa537cdb-cc1d-4df7-90a9-6c8b2ce9de1c",
   "metadata": {},
   "outputs": [],
   "source": [
    "import pandas as pd\n",
    "import numpy as np\n",
    "import matplotlib.pyplot as plt\n",
    "import seaborn as sns\n",
    "from prettytable import PrettyTable\n",
    "from rdkit import Chem\n",
    "from rdkit.Chem.ChemUtils import SDFToCSV\n",
    "from sklearn.metrics import accuracy_score, precision_score, recall_score, f1_score, roc_auc_score, r2_score, confusion_matrix, roc_curve\n",
    "import json\n",
    "import sys\n",
    "sys.path.append('../src')\n",
    "from smiles_processing import standardise_smiles\n",
    "from inchikey_processing import standardise_inchikey"
   ]
  },
  {
   "cell_type": "markdown",
   "id": "c2b26751-dc15-4e46-b67a-e20ae2ef87cc",
   "metadata": {},
   "source": [
    "# Exploring External Dataset"
   ]
  },
  {
   "cell_type": "markdown",
   "id": "f008b2f1-b9c7-473f-8eeb-c7814c22be02",
   "metadata": {},
   "source": [
    "## Loading external dataset"
   ]
  },
  {
   "cell_type": "code",
   "execution_count": 2,
   "id": "551fde6f-7f75-4858-9446-ec505da49951",
   "metadata": {},
   "outputs": [
    {
     "data": {
      "text/html": [
       "<div>\n",
       "<style scoped>\n",
       "    .dataframe tbody tr th:only-of-type {\n",
       "        vertical-align: middle;\n",
       "    }\n",
       "\n",
       "    .dataframe tbody tr th {\n",
       "        vertical-align: top;\n",
       "    }\n",
       "\n",
       "    .dataframe thead th {\n",
       "        text-align: right;\n",
       "    }\n",
       "</style>\n",
       "<table border=\"1\" class=\"dataframe\">\n",
       "  <thead>\n",
       "    <tr style=\"text-align: right;\">\n",
       "      <th></th>\n",
       "      <th>SMILES</th>\n",
       "      <th>CASRN</th>\n",
       "      <th>EXTERNALID</th>\n",
       "      <th>N</th>\n",
       "      <th>NAME</th>\n",
       "      <th>ARTICLEID</th>\n",
       "      <th>PUBMEDID</th>\n",
       "      <th>PAGE</th>\n",
       "      <th>TABLE</th>\n",
       "      <th>hERG K+ Channel Blocking</th>\n",
       "    </tr>\n",
       "  </thead>\n",
       "  <tbody>\n",
       "    <tr>\n",
       "      <th>0</th>\n",
       "      <td>FC1=CC=C(C=C1)C(OCC[N+]2CC[N+](CC2)CCCC3=CC=CC...</td>\n",
       "      <td>-</td>\n",
       "      <td>-</td>\n",
       "      <td>1</td>\n",
       "      <td>-</td>\n",
       "      <td>A103592</td>\n",
       "      <td>28857516</td>\n",
       "      <td>-</td>\n",
       "      <td>-</td>\n",
       "      <td>yes</td>\n",
       "    </tr>\n",
       "    <tr>\n",
       "      <th>1</th>\n",
       "      <td>CC1CCCN1CCC2=CC3=CC(C4=CN=CC(C#N)=C4)=CC=C3O2</td>\n",
       "      <td>-</td>\n",
       "      <td>-</td>\n",
       "      <td>2</td>\n",
       "      <td>-</td>\n",
       "      <td>A103592</td>\n",
       "      <td>28857516</td>\n",
       "      <td>-</td>\n",
       "      <td>-</td>\n",
       "      <td>yes</td>\n",
       "    </tr>\n",
       "    <tr>\n",
       "      <th>2</th>\n",
       "      <td>COC1=NC=C(C2=CC=C(C3CC(N4CCCC4C)C3)C=C2)C=N1</td>\n",
       "      <td>-</td>\n",
       "      <td>-</td>\n",
       "      <td>3</td>\n",
       "      <td>-</td>\n",
       "      <td>A103592</td>\n",
       "      <td>28857516</td>\n",
       "      <td>-</td>\n",
       "      <td>-</td>\n",
       "      <td>yes</td>\n",
       "    </tr>\n",
       "    <tr>\n",
       "      <th>3</th>\n",
       "      <td>COC1=NC=C(C2=CC=C3C=C(CCN4CCCC4C)C=CC3=C2)C=N1</td>\n",
       "      <td>-</td>\n",
       "      <td>-</td>\n",
       "      <td>4</td>\n",
       "      <td>-</td>\n",
       "      <td>A103592</td>\n",
       "      <td>28857516</td>\n",
       "      <td>-</td>\n",
       "      <td>-</td>\n",
       "      <td>yes</td>\n",
       "    </tr>\n",
       "    <tr>\n",
       "      <th>4</th>\n",
       "      <td>COC1=CC=CC=C1OC2=CC=CC=C2CN3CCC4(CC3)CCN(C(=O)...</td>\n",
       "      <td>-</td>\n",
       "      <td>-</td>\n",
       "      <td>5</td>\n",
       "      <td>-</td>\n",
       "      <td>A103592</td>\n",
       "      <td>28857516</td>\n",
       "      <td>-</td>\n",
       "      <td>-</td>\n",
       "      <td>yes</td>\n",
       "    </tr>\n",
       "  </tbody>\n",
       "</table>\n",
       "</div>"
      ],
      "text/plain": [
       "                                              SMILES CASRN EXTERNALID  N NAME  \\\n",
       "0  FC1=CC=C(C=C1)C(OCC[N+]2CC[N+](CC2)CCCC3=CC=CC...     -          -  1    -   \n",
       "1      CC1CCCN1CCC2=CC3=CC(C4=CN=CC(C#N)=C4)=CC=C3O2     -          -  2    -   \n",
       "2       COC1=NC=C(C2=CC=C(C3CC(N4CCCC4C)C3)C=C2)C=N1     -          -  3    -   \n",
       "3     COC1=NC=C(C2=CC=C3C=C(CCN4CCCC4C)C=CC3=C2)C=N1     -          -  4    -   \n",
       "4  COC1=CC=CC=C1OC2=CC=CC=C2CN3CCC4(CC3)CCN(C(=O)...     -          -  5    -   \n",
       "\n",
       "  ARTICLEID  PUBMEDID PAGE TABLE hERG K+ Channel Blocking  \n",
       "0   A103592  28857516    -     -                      yes  \n",
       "1   A103592  28857516    -     -                      yes  \n",
       "2   A103592  28857516    -     -                      yes  \n",
       "3   A103592  28857516    -     -                      yes  \n",
       "4   A103592  28857516    -     -                      yes  "
      ]
     },
     "execution_count": 2,
     "metadata": {},
     "output_type": "execute_result"
    }
   ],
   "source": [
    "external_data = pd.read_csv('../data/external_dataset.csv')\n",
    "external_data.head()"
   ]
  },
  {
   "cell_type": "markdown",
   "id": "52b049ab-0ec5-4703-9ff8-9097cada60b1",
   "metadata": {},
   "source": [
    "## Standardizing smiles"
   ]
  },
  {
   "cell_type": "code",
   "execution_count": 3,
   "id": "177c12b4-d05f-47f1-bdb7-439e457c8d54",
   "metadata": {},
   "outputs": [
    {
     "data": {
      "text/html": [
       "<div>\n",
       "<style scoped>\n",
       "    .dataframe tbody tr th:only-of-type {\n",
       "        vertical-align: middle;\n",
       "    }\n",
       "\n",
       "    .dataframe tbody tr th {\n",
       "        vertical-align: top;\n",
       "    }\n",
       "\n",
       "    .dataframe thead th {\n",
       "        text-align: right;\n",
       "    }\n",
       "</style>\n",
       "<table border=\"1\" class=\"dataframe\">\n",
       "  <thead>\n",
       "    <tr style=\"text-align: right;\">\n",
       "      <th></th>\n",
       "      <th>SMILES</th>\n",
       "      <th>CASRN</th>\n",
       "      <th>EXTERNALID</th>\n",
       "      <th>N</th>\n",
       "      <th>NAME</th>\n",
       "      <th>ARTICLEID</th>\n",
       "      <th>PUBMEDID</th>\n",
       "      <th>PAGE</th>\n",
       "      <th>TABLE</th>\n",
       "      <th>hERG K+ Channel Blocking</th>\n",
       "      <th>standardised_smiles</th>\n",
       "    </tr>\n",
       "  </thead>\n",
       "  <tbody>\n",
       "    <tr>\n",
       "      <th>0</th>\n",
       "      <td>FC1=CC=C(C=C1)C(OCC[N+]2CC[N+](CC2)CCCC3=CC=CC...</td>\n",
       "      <td>-</td>\n",
       "      <td>-</td>\n",
       "      <td>1</td>\n",
       "      <td>-</td>\n",
       "      <td>A103592</td>\n",
       "      <td>28857516</td>\n",
       "      <td>-</td>\n",
       "      <td>-</td>\n",
       "      <td>yes</td>\n",
       "      <td>Fc1ccc(C(OCC[N+]2CC[N+](CCCc3ccccc3)CC2)c2ccc(...</td>\n",
       "    </tr>\n",
       "    <tr>\n",
       "      <th>1</th>\n",
       "      <td>CC1CCCN1CCC2=CC3=CC(C4=CN=CC(C#N)=C4)=CC=C3O2</td>\n",
       "      <td>-</td>\n",
       "      <td>-</td>\n",
       "      <td>2</td>\n",
       "      <td>-</td>\n",
       "      <td>A103592</td>\n",
       "      <td>28857516</td>\n",
       "      <td>-</td>\n",
       "      <td>-</td>\n",
       "      <td>yes</td>\n",
       "      <td>CC1CCCN1CCc1cc2cc(-c3cncc(C#N)c3)ccc2o1</td>\n",
       "    </tr>\n",
       "    <tr>\n",
       "      <th>2</th>\n",
       "      <td>COC1=NC=C(C2=CC=C(C3CC(N4CCCC4C)C3)C=C2)C=N1</td>\n",
       "      <td>-</td>\n",
       "      <td>-</td>\n",
       "      <td>3</td>\n",
       "      <td>-</td>\n",
       "      <td>A103592</td>\n",
       "      <td>28857516</td>\n",
       "      <td>-</td>\n",
       "      <td>-</td>\n",
       "      <td>yes</td>\n",
       "      <td>COc1ncc(-c2ccc(C3CC(N4CCCC4C)C3)cc2)cn1</td>\n",
       "    </tr>\n",
       "    <tr>\n",
       "      <th>3</th>\n",
       "      <td>COC1=NC=C(C2=CC=C3C=C(CCN4CCCC4C)C=CC3=C2)C=N1</td>\n",
       "      <td>-</td>\n",
       "      <td>-</td>\n",
       "      <td>4</td>\n",
       "      <td>-</td>\n",
       "      <td>A103592</td>\n",
       "      <td>28857516</td>\n",
       "      <td>-</td>\n",
       "      <td>-</td>\n",
       "      <td>yes</td>\n",
       "      <td>COc1ncc(-c2ccc3cc(CCN4CCCC4C)ccc3c2)cn1</td>\n",
       "    </tr>\n",
       "    <tr>\n",
       "      <th>4</th>\n",
       "      <td>COC1=CC=CC=C1OC2=CC=CC=C2CN3CCC4(CC3)CCN(C(=O)...</td>\n",
       "      <td>-</td>\n",
       "      <td>-</td>\n",
       "      <td>5</td>\n",
       "      <td>-</td>\n",
       "      <td>A103592</td>\n",
       "      <td>28857516</td>\n",
       "      <td>-</td>\n",
       "      <td>-</td>\n",
       "      <td>yes</td>\n",
       "      <td>COc1ccccc1Oc1ccccc1CN1CCC2(CC1)CCN(C(=O)c1ccc(...</td>\n",
       "    </tr>\n",
       "  </tbody>\n",
       "</table>\n",
       "</div>"
      ],
      "text/plain": [
       "                                              SMILES CASRN EXTERNALID  N NAME  \\\n",
       "0  FC1=CC=C(C=C1)C(OCC[N+]2CC[N+](CC2)CCCC3=CC=CC...     -          -  1    -   \n",
       "1      CC1CCCN1CCC2=CC3=CC(C4=CN=CC(C#N)=C4)=CC=C3O2     -          -  2    -   \n",
       "2       COC1=NC=C(C2=CC=C(C3CC(N4CCCC4C)C3)C=C2)C=N1     -          -  3    -   \n",
       "3     COC1=NC=C(C2=CC=C3C=C(CCN4CCCC4C)C=CC3=C2)C=N1     -          -  4    -   \n",
       "4  COC1=CC=CC=C1OC2=CC=CC=C2CN3CCC4(CC3)CCN(C(=O)...     -          -  5    -   \n",
       "\n",
       "  ARTICLEID  PUBMEDID PAGE TABLE hERG K+ Channel Blocking  \\\n",
       "0   A103592  28857516    -     -                      yes   \n",
       "1   A103592  28857516    -     -                      yes   \n",
       "2   A103592  28857516    -     -                      yes   \n",
       "3   A103592  28857516    -     -                      yes   \n",
       "4   A103592  28857516    -     -                      yes   \n",
       "\n",
       "                                 standardised_smiles  \n",
       "0  Fc1ccc(C(OCC[N+]2CC[N+](CCCc3ccccc3)CC2)c2ccc(...  \n",
       "1            CC1CCCN1CCc1cc2cc(-c3cncc(C#N)c3)ccc2o1  \n",
       "2            COc1ncc(-c2ccc(C3CC(N4CCCC4C)C3)cc2)cn1  \n",
       "3            COc1ncc(-c2ccc3cc(CCN4CCCC4C)ccc3c2)cn1  \n",
       "4  COc1ccccc1Oc1ccccc1CN1CCC2(CC1)CCN(C(=O)c1ccc(...  "
      ]
     },
     "execution_count": 3,
     "metadata": {},
     "output_type": "execute_result"
    }
   ],
   "source": [
    "smiles_list = external_data['SMILES'].tolist()\n",
    "standardised_smiles_list = standardise_smiles(smiles_list)\n",
    "external_data['standardised_smiles'] = standardised_smiles_list\n",
    "external_data.head()"
   ]
  },
  {
   "cell_type": "markdown",
   "id": "2e4fc84a-444f-4486-b416-e881d69ae5af",
   "metadata": {},
   "source": [
    "## Handling null values"
   ]
  },
  {
   "cell_type": "markdown",
   "id": "dd4b3ed7-dae1-4afc-88de-bf015abdd196",
   "metadata": {},
   "source": [
    "We check for null values after standardizing smiles as there might be some smiles value which might not have been standardized and would be having null values in the rows."
   ]
  },
  {
   "cell_type": "code",
   "execution_count": 4,
   "id": "f14f4829-36d5-4f21-9987-edc808f95aeb",
   "metadata": {},
   "outputs": [
    {
     "name": "stdout",
     "output_type": "stream",
     "text": [
      "Number of rows with null values: 4\n"
     ]
    }
   ],
   "source": [
    "num_null_rows = external_data.isna().any(axis=1).sum()\n",
    "\n",
    "# Print the number of rows with null values\n",
    "print(\"Number of rows with null values:\", num_null_rows)"
   ]
  },
  {
   "cell_type": "code",
   "execution_count": 5,
   "id": "1a68c7c7-7a38-4d3b-8597-ed1b33aeae0c",
   "metadata": {},
   "outputs": [
    {
     "data": {
      "text/html": [
       "<div>\n",
       "<style scoped>\n",
       "    .dataframe tbody tr th:only-of-type {\n",
       "        vertical-align: middle;\n",
       "    }\n",
       "\n",
       "    .dataframe tbody tr th {\n",
       "        vertical-align: top;\n",
       "    }\n",
       "\n",
       "    .dataframe thead th {\n",
       "        text-align: right;\n",
       "    }\n",
       "</style>\n",
       "<table border=\"1\" class=\"dataframe\">\n",
       "  <thead>\n",
       "    <tr style=\"text-align: right;\">\n",
       "      <th></th>\n",
       "      <th>SMILES</th>\n",
       "      <th>CASRN</th>\n",
       "      <th>EXTERNALID</th>\n",
       "      <th>N</th>\n",
       "      <th>NAME</th>\n",
       "      <th>ARTICLEID</th>\n",
       "      <th>PUBMEDID</th>\n",
       "      <th>PAGE</th>\n",
       "      <th>TABLE</th>\n",
       "      <th>hERG K+ Channel Blocking</th>\n",
       "      <th>standardised_smiles</th>\n",
       "    </tr>\n",
       "  </thead>\n",
       "  <tbody>\n",
       "    <tr>\n",
       "      <th>0</th>\n",
       "      <td>FC1=CC=C(C=C1)C(OCC[N+]2CC[N+](CC2)CCCC3=CC=CC...</td>\n",
       "      <td>-</td>\n",
       "      <td>-</td>\n",
       "      <td>1</td>\n",
       "      <td>-</td>\n",
       "      <td>A103592</td>\n",
       "      <td>28857516</td>\n",
       "      <td>-</td>\n",
       "      <td>-</td>\n",
       "      <td>yes</td>\n",
       "      <td>Fc1ccc(C(OCC[N+]2CC[N+](CCCc3ccccc3)CC2)c2ccc(...</td>\n",
       "    </tr>\n",
       "    <tr>\n",
       "      <th>1</th>\n",
       "      <td>CC1CCCN1CCC2=CC3=CC(C4=CN=CC(C#N)=C4)=CC=C3O2</td>\n",
       "      <td>-</td>\n",
       "      <td>-</td>\n",
       "      <td>2</td>\n",
       "      <td>-</td>\n",
       "      <td>A103592</td>\n",
       "      <td>28857516</td>\n",
       "      <td>-</td>\n",
       "      <td>-</td>\n",
       "      <td>yes</td>\n",
       "      <td>CC1CCCN1CCc1cc2cc(-c3cncc(C#N)c3)ccc2o1</td>\n",
       "    </tr>\n",
       "    <tr>\n",
       "      <th>2</th>\n",
       "      <td>COC1=NC=C(C2=CC=C(C3CC(N4CCCC4C)C3)C=C2)C=N1</td>\n",
       "      <td>-</td>\n",
       "      <td>-</td>\n",
       "      <td>3</td>\n",
       "      <td>-</td>\n",
       "      <td>A103592</td>\n",
       "      <td>28857516</td>\n",
       "      <td>-</td>\n",
       "      <td>-</td>\n",
       "      <td>yes</td>\n",
       "      <td>COc1ncc(-c2ccc(C3CC(N4CCCC4C)C3)cc2)cn1</td>\n",
       "    </tr>\n",
       "    <tr>\n",
       "      <th>3</th>\n",
       "      <td>COC1=NC=C(C2=CC=C3C=C(CCN4CCCC4C)C=CC3=C2)C=N1</td>\n",
       "      <td>-</td>\n",
       "      <td>-</td>\n",
       "      <td>4</td>\n",
       "      <td>-</td>\n",
       "      <td>A103592</td>\n",
       "      <td>28857516</td>\n",
       "      <td>-</td>\n",
       "      <td>-</td>\n",
       "      <td>yes</td>\n",
       "      <td>COc1ncc(-c2ccc3cc(CCN4CCCC4C)ccc3c2)cn1</td>\n",
       "    </tr>\n",
       "    <tr>\n",
       "      <th>4</th>\n",
       "      <td>COC1=CC=CC=C1OC2=CC=CC=C2CN3CCC4(CC3)CCN(C(=O)...</td>\n",
       "      <td>-</td>\n",
       "      <td>-</td>\n",
       "      <td>5</td>\n",
       "      <td>-</td>\n",
       "      <td>A103592</td>\n",
       "      <td>28857516</td>\n",
       "      <td>-</td>\n",
       "      <td>-</td>\n",
       "      <td>yes</td>\n",
       "      <td>COc1ccccc1Oc1ccccc1CN1CCC2(CC1)CCN(C(=O)c1ccc(...</td>\n",
       "    </tr>\n",
       "  </tbody>\n",
       "</table>\n",
       "</div>"
      ],
      "text/plain": [
       "                                              SMILES CASRN EXTERNALID  N NAME  \\\n",
       "0  FC1=CC=C(C=C1)C(OCC[N+]2CC[N+](CC2)CCCC3=CC=CC...     -          -  1    -   \n",
       "1      CC1CCCN1CCC2=CC3=CC(C4=CN=CC(C#N)=C4)=CC=C3O2     -          -  2    -   \n",
       "2       COC1=NC=C(C2=CC=C(C3CC(N4CCCC4C)C3)C=C2)C=N1     -          -  3    -   \n",
       "3     COC1=NC=C(C2=CC=C3C=C(CCN4CCCC4C)C=CC3=C2)C=N1     -          -  4    -   \n",
       "4  COC1=CC=CC=C1OC2=CC=CC=C2CN3CCC4(CC3)CCN(C(=O)...     -          -  5    -   \n",
       "\n",
       "  ARTICLEID  PUBMEDID PAGE TABLE hERG K+ Channel Blocking  \\\n",
       "0   A103592  28857516    -     -                      yes   \n",
       "1   A103592  28857516    -     -                      yes   \n",
       "2   A103592  28857516    -     -                      yes   \n",
       "3   A103592  28857516    -     -                      yes   \n",
       "4   A103592  28857516    -     -                      yes   \n",
       "\n",
       "                                 standardised_smiles  \n",
       "0  Fc1ccc(C(OCC[N+]2CC[N+](CCCc3ccccc3)CC2)c2ccc(...  \n",
       "1            CC1CCCN1CCc1cc2cc(-c3cncc(C#N)c3)ccc2o1  \n",
       "2            COc1ncc(-c2ccc(C3CC(N4CCCC4C)C3)cc2)cn1  \n",
       "3            COc1ncc(-c2ccc3cc(CCN4CCCC4C)ccc3c2)cn1  \n",
       "4  COc1ccccc1Oc1ccccc1CN1CCC2(CC1)CCN(C(=O)c1ccc(...  "
      ]
     },
     "execution_count": 5,
     "metadata": {},
     "output_type": "execute_result"
    }
   ],
   "source": [
    "external_data.dropna(inplace=True)  # Drop rows with NaN values\n",
    "external_data.reset_index(drop=True, inplace=True)  # Reset the index\n",
    "\n",
    "# Display the updated DataFrame\n",
    "external_data.head()"
   ]
  },
  {
   "cell_type": "markdown",
   "id": "0c752bef-2295-4eac-affa-7a2901921c01",
   "metadata": {},
   "source": [
    "## Adding column for standardized InchiKey"
   ]
  },
  {
   "cell_type": "code",
   "execution_count": 6,
   "id": "edb4975b-3c81-45b6-b456-cf676a8af705",
   "metadata": {},
   "outputs": [
    {
     "data": {
      "text/html": [
       "<div>\n",
       "<style scoped>\n",
       "    .dataframe tbody tr th:only-of-type {\n",
       "        vertical-align: middle;\n",
       "    }\n",
       "\n",
       "    .dataframe tbody tr th {\n",
       "        vertical-align: top;\n",
       "    }\n",
       "\n",
       "    .dataframe thead th {\n",
       "        text-align: right;\n",
       "    }\n",
       "</style>\n",
       "<table border=\"1\" class=\"dataframe\">\n",
       "  <thead>\n",
       "    <tr style=\"text-align: right;\">\n",
       "      <th></th>\n",
       "      <th>SMILES</th>\n",
       "      <th>CASRN</th>\n",
       "      <th>EXTERNALID</th>\n",
       "      <th>N</th>\n",
       "      <th>NAME</th>\n",
       "      <th>ARTICLEID</th>\n",
       "      <th>PUBMEDID</th>\n",
       "      <th>PAGE</th>\n",
       "      <th>TABLE</th>\n",
       "      <th>hERG K+ Channel Blocking</th>\n",
       "      <th>standardised_smiles</th>\n",
       "      <th>InchiKeys</th>\n",
       "    </tr>\n",
       "  </thead>\n",
       "  <tbody>\n",
       "    <tr>\n",
       "      <th>0</th>\n",
       "      <td>FC1=CC=C(C=C1)C(OCC[N+]2CC[N+](CC2)CCCC3=CC=CC...</td>\n",
       "      <td>-</td>\n",
       "      <td>-</td>\n",
       "      <td>1</td>\n",
       "      <td>-</td>\n",
       "      <td>A103592</td>\n",
       "      <td>28857516</td>\n",
       "      <td>-</td>\n",
       "      <td>-</td>\n",
       "      <td>yes</td>\n",
       "      <td>Fc1ccc(C(OCC[N+]2CC[N+](CCCc3ccccc3)CC2)c2ccc(...</td>\n",
       "      <td>RRNCWJLZTRYGBP-UHFFFAOYSA-N</td>\n",
       "    </tr>\n",
       "    <tr>\n",
       "      <th>1</th>\n",
       "      <td>CC1CCCN1CCC2=CC3=CC(C4=CN=CC(C#N)=C4)=CC=C3O2</td>\n",
       "      <td>-</td>\n",
       "      <td>-</td>\n",
       "      <td>2</td>\n",
       "      <td>-</td>\n",
       "      <td>A103592</td>\n",
       "      <td>28857516</td>\n",
       "      <td>-</td>\n",
       "      <td>-</td>\n",
       "      <td>yes</td>\n",
       "      <td>CC1CCCN1CCc1cc2cc(-c3cncc(C#N)c3)ccc2o1</td>\n",
       "      <td>UGELZTGBPPXJPE-UHFFFAOYSA-N</td>\n",
       "    </tr>\n",
       "    <tr>\n",
       "      <th>2</th>\n",
       "      <td>COC1=NC=C(C2=CC=C(C3CC(N4CCCC4C)C3)C=C2)C=N1</td>\n",
       "      <td>-</td>\n",
       "      <td>-</td>\n",
       "      <td>3</td>\n",
       "      <td>-</td>\n",
       "      <td>A103592</td>\n",
       "      <td>28857516</td>\n",
       "      <td>-</td>\n",
       "      <td>-</td>\n",
       "      <td>yes</td>\n",
       "      <td>COc1ncc(-c2ccc(C3CC(N4CCCC4C)C3)cc2)cn1</td>\n",
       "      <td>DLNFWRTZALVTSJ-UHFFFAOYSA-N</td>\n",
       "    </tr>\n",
       "    <tr>\n",
       "      <th>3</th>\n",
       "      <td>COC1=NC=C(C2=CC=C3C=C(CCN4CCCC4C)C=CC3=C2)C=N1</td>\n",
       "      <td>-</td>\n",
       "      <td>-</td>\n",
       "      <td>4</td>\n",
       "      <td>-</td>\n",
       "      <td>A103592</td>\n",
       "      <td>28857516</td>\n",
       "      <td>-</td>\n",
       "      <td>-</td>\n",
       "      <td>yes</td>\n",
       "      <td>COc1ncc(-c2ccc3cc(CCN4CCCC4C)ccc3c2)cn1</td>\n",
       "      <td>GCDHZFDHJDQKFR-UHFFFAOYSA-N</td>\n",
       "    </tr>\n",
       "    <tr>\n",
       "      <th>4</th>\n",
       "      <td>COC1=CC=CC=C1OC2=CC=CC=C2CN3CCC4(CC3)CCN(C(=O)...</td>\n",
       "      <td>-</td>\n",
       "      <td>-</td>\n",
       "      <td>5</td>\n",
       "      <td>-</td>\n",
       "      <td>A103592</td>\n",
       "      <td>28857516</td>\n",
       "      <td>-</td>\n",
       "      <td>-</td>\n",
       "      <td>yes</td>\n",
       "      <td>COc1ccccc1Oc1ccccc1CN1CCC2(CC1)CCN(C(=O)c1ccc(...</td>\n",
       "      <td>FVIRTVGXWNRAMY-UHFFFAOYSA-N</td>\n",
       "    </tr>\n",
       "  </tbody>\n",
       "</table>\n",
       "</div>"
      ],
      "text/plain": [
       "                                              SMILES CASRN EXTERNALID  N NAME  \\\n",
       "0  FC1=CC=C(C=C1)C(OCC[N+]2CC[N+](CC2)CCCC3=CC=CC...     -          -  1    -   \n",
       "1      CC1CCCN1CCC2=CC3=CC(C4=CN=CC(C#N)=C4)=CC=C3O2     -          -  2    -   \n",
       "2       COC1=NC=C(C2=CC=C(C3CC(N4CCCC4C)C3)C=C2)C=N1     -          -  3    -   \n",
       "3     COC1=NC=C(C2=CC=C3C=C(CCN4CCCC4C)C=CC3=C2)C=N1     -          -  4    -   \n",
       "4  COC1=CC=CC=C1OC2=CC=CC=C2CN3CCC4(CC3)CCN(C(=O)...     -          -  5    -   \n",
       "\n",
       "  ARTICLEID  PUBMEDID PAGE TABLE hERG K+ Channel Blocking  \\\n",
       "0   A103592  28857516    -     -                      yes   \n",
       "1   A103592  28857516    -     -                      yes   \n",
       "2   A103592  28857516    -     -                      yes   \n",
       "3   A103592  28857516    -     -                      yes   \n",
       "4   A103592  28857516    -     -                      yes   \n",
       "\n",
       "                                 standardised_smiles  \\\n",
       "0  Fc1ccc(C(OCC[N+]2CC[N+](CCCc3ccccc3)CC2)c2ccc(...   \n",
       "1            CC1CCCN1CCc1cc2cc(-c3cncc(C#N)c3)ccc2o1   \n",
       "2            COc1ncc(-c2ccc(C3CC(N4CCCC4C)C3)cc2)cn1   \n",
       "3            COc1ncc(-c2ccc3cc(CCN4CCCC4C)ccc3c2)cn1   \n",
       "4  COc1ccccc1Oc1ccccc1CN1CCC2(CC1)CCN(C(=O)c1ccc(...   \n",
       "\n",
       "                     InchiKeys  \n",
       "0  RRNCWJLZTRYGBP-UHFFFAOYSA-N  \n",
       "1  UGELZTGBPPXJPE-UHFFFAOYSA-N  \n",
       "2  DLNFWRTZALVTSJ-UHFFFAOYSA-N  \n",
       "3  GCDHZFDHJDQKFR-UHFFFAOYSA-N  \n",
       "4  FVIRTVGXWNRAMY-UHFFFAOYSA-N  "
      ]
     },
     "execution_count": 6,
     "metadata": {},
     "output_type": "execute_result"
    }
   ],
   "source": [
    "smiles_list = external_data['standardised_smiles'].dropna().tolist()\n",
    "standardised_inchikeys_list = standardise_inchikey(smiles_list)\n",
    "external_data['InchiKeys'] = standardised_inchikeys_list\n",
    "external_data.head()"
   ]
  },
  {
   "cell_type": "markdown",
   "id": "67f271c2-d5f7-410b-8a7c-495dbcbf4351",
   "metadata": {},
   "source": [
    "## Handling null values"
   ]
  },
  {
   "cell_type": "markdown",
   "id": "f37ac588-18ad-4305-83f8-dafcaea776f0",
   "metadata": {},
   "source": [
    "We check for null values after standardizing smiles as there might be some smiles value which might not have been standardized and would be having null values in the rows."
   ]
  },
  {
   "cell_type": "code",
   "execution_count": 7,
   "id": "d2284b53-212c-44ec-8b0b-f3b85bf22da0",
   "metadata": {},
   "outputs": [
    {
     "name": "stdout",
     "output_type": "stream",
     "text": [
      "Number of rows with null values: 0\n"
     ]
    }
   ],
   "source": [
    "num_null_rows = external_data.isna().any(axis=1).sum()\n",
    "\n",
    "# Print the number of rows with null values\n",
    "print(\"Number of rows with null values:\", num_null_rows)"
   ]
  },
  {
   "cell_type": "markdown",
   "id": "81f2851d-de8e-4849-a806-7e52d4e23f83",
   "metadata": {},
   "source": [
    "## Dropping extra columns and rearranging columns"
   ]
  },
  {
   "cell_type": "markdown",
   "id": "ee6154a1-21dc-4e2f-9548-1c3a7ae66855",
   "metadata": {},
   "source": [
    "We drop the columns which do not have any useful requirement in our further analysis"
   ]
  },
  {
   "cell_type": "code",
   "execution_count": 8,
   "id": "c7069d59-7b86-409f-8f31-e1b32527567f",
   "metadata": {},
   "outputs": [
    {
     "data": {
      "text/html": [
       "<div>\n",
       "<style scoped>\n",
       "    .dataframe tbody tr th:only-of-type {\n",
       "        vertical-align: middle;\n",
       "    }\n",
       "\n",
       "    .dataframe tbody tr th {\n",
       "        vertical-align: top;\n",
       "    }\n",
       "\n",
       "    .dataframe thead th {\n",
       "        text-align: right;\n",
       "    }\n",
       "</style>\n",
       "<table border=\"1\" class=\"dataframe\">\n",
       "  <thead>\n",
       "    <tr style=\"text-align: right;\">\n",
       "      <th></th>\n",
       "      <th>Smiles</th>\n",
       "      <th>InchiKeys</th>\n",
       "      <th>experimental_value</th>\n",
       "    </tr>\n",
       "  </thead>\n",
       "  <tbody>\n",
       "    <tr>\n",
       "      <th>0</th>\n",
       "      <td>Fc1ccc(C(OCC[N+]2CC[N+](CCCc3ccccc3)CC2)c2ccc(...</td>\n",
       "      <td>RRNCWJLZTRYGBP-UHFFFAOYSA-N</td>\n",
       "      <td>yes</td>\n",
       "    </tr>\n",
       "    <tr>\n",
       "      <th>1</th>\n",
       "      <td>CC1CCCN1CCc1cc2cc(-c3cncc(C#N)c3)ccc2o1</td>\n",
       "      <td>UGELZTGBPPXJPE-UHFFFAOYSA-N</td>\n",
       "      <td>yes</td>\n",
       "    </tr>\n",
       "    <tr>\n",
       "      <th>2</th>\n",
       "      <td>COc1ncc(-c2ccc(C3CC(N4CCCC4C)C3)cc2)cn1</td>\n",
       "      <td>DLNFWRTZALVTSJ-UHFFFAOYSA-N</td>\n",
       "      <td>yes</td>\n",
       "    </tr>\n",
       "    <tr>\n",
       "      <th>3</th>\n",
       "      <td>COc1ncc(-c2ccc3cc(CCN4CCCC4C)ccc3c2)cn1</td>\n",
       "      <td>GCDHZFDHJDQKFR-UHFFFAOYSA-N</td>\n",
       "      <td>yes</td>\n",
       "    </tr>\n",
       "    <tr>\n",
       "      <th>4</th>\n",
       "      <td>COc1ccccc1Oc1ccccc1CN1CCC2(CC1)CCN(C(=O)c1ccc(...</td>\n",
       "      <td>FVIRTVGXWNRAMY-UHFFFAOYSA-N</td>\n",
       "      <td>yes</td>\n",
       "    </tr>\n",
       "  </tbody>\n",
       "</table>\n",
       "</div>"
      ],
      "text/plain": [
       "                                              Smiles  \\\n",
       "0  Fc1ccc(C(OCC[N+]2CC[N+](CCCc3ccccc3)CC2)c2ccc(...   \n",
       "1            CC1CCCN1CCc1cc2cc(-c3cncc(C#N)c3)ccc2o1   \n",
       "2            COc1ncc(-c2ccc(C3CC(N4CCCC4C)C3)cc2)cn1   \n",
       "3            COc1ncc(-c2ccc3cc(CCN4CCCC4C)ccc3c2)cn1   \n",
       "4  COc1ccccc1Oc1ccccc1CN1CCC2(CC1)CCN(C(=O)c1ccc(...   \n",
       "\n",
       "                     InchiKeys experimental_value  \n",
       "0  RRNCWJLZTRYGBP-UHFFFAOYSA-N                yes  \n",
       "1  UGELZTGBPPXJPE-UHFFFAOYSA-N                yes  \n",
       "2  DLNFWRTZALVTSJ-UHFFFAOYSA-N                yes  \n",
       "3  GCDHZFDHJDQKFR-UHFFFAOYSA-N                yes  \n",
       "4  FVIRTVGXWNRAMY-UHFFFAOYSA-N                yes  "
      ]
     },
     "execution_count": 8,
     "metadata": {},
     "output_type": "execute_result"
    }
   ],
   "source": [
    "columns_to_drop = ['SMILES', 'CASRN', 'EXTERNALID', 'N', 'NAME', 'ARTICLEID', 'PUBMEDID', 'PAGE', 'TABLE']\n",
    "# Drop specified columns\n",
    "external_data.drop(columns=columns_to_drop, inplace=True)\n",
    "\n",
    "# Rename columns\n",
    "external_data.rename(columns={'standardised_smiles': 'Smiles', 'hERG K+ Channel Blocking': 'experimental_value'}, inplace=True)\n",
    "\n",
    "# Reorder columns\n",
    "external_data = external_data[['Smiles', 'InchiKeys', 'experimental_value']]\n",
    "external_data.head()"
   ]
  },
  {
   "cell_type": "markdown",
   "id": "1fbefa24-5259-49e8-bde2-883788575192",
   "metadata": {},
   "source": [
    "## Replace 'Yes' with 1 and 'No' with 0 in the 'experimental_value' column"
   ]
  },
  {
   "cell_type": "code",
   "execution_count": 9,
   "id": "d49555f8-6fa2-4b9b-8538-c4e3f22c0bf3",
   "metadata": {},
   "outputs": [
    {
     "data": {
      "text/html": [
       "<div>\n",
       "<style scoped>\n",
       "    .dataframe tbody tr th:only-of-type {\n",
       "        vertical-align: middle;\n",
       "    }\n",
       "\n",
       "    .dataframe tbody tr th {\n",
       "        vertical-align: top;\n",
       "    }\n",
       "\n",
       "    .dataframe thead th {\n",
       "        text-align: right;\n",
       "    }\n",
       "</style>\n",
       "<table border=\"1\" class=\"dataframe\">\n",
       "  <thead>\n",
       "    <tr style=\"text-align: right;\">\n",
       "      <th></th>\n",
       "      <th>Smiles</th>\n",
       "      <th>InchiKeys</th>\n",
       "      <th>experimental_value</th>\n",
       "    </tr>\n",
       "  </thead>\n",
       "  <tbody>\n",
       "    <tr>\n",
       "      <th>0</th>\n",
       "      <td>Fc1ccc(C(OCC[N+]2CC[N+](CCCc3ccccc3)CC2)c2ccc(...</td>\n",
       "      <td>RRNCWJLZTRYGBP-UHFFFAOYSA-N</td>\n",
       "      <td>1</td>\n",
       "    </tr>\n",
       "    <tr>\n",
       "      <th>1</th>\n",
       "      <td>CC1CCCN1CCc1cc2cc(-c3cncc(C#N)c3)ccc2o1</td>\n",
       "      <td>UGELZTGBPPXJPE-UHFFFAOYSA-N</td>\n",
       "      <td>1</td>\n",
       "    </tr>\n",
       "    <tr>\n",
       "      <th>2</th>\n",
       "      <td>COc1ncc(-c2ccc(C3CC(N4CCCC4C)C3)cc2)cn1</td>\n",
       "      <td>DLNFWRTZALVTSJ-UHFFFAOYSA-N</td>\n",
       "      <td>1</td>\n",
       "    </tr>\n",
       "    <tr>\n",
       "      <th>3</th>\n",
       "      <td>COc1ncc(-c2ccc3cc(CCN4CCCC4C)ccc3c2)cn1</td>\n",
       "      <td>GCDHZFDHJDQKFR-UHFFFAOYSA-N</td>\n",
       "      <td>1</td>\n",
       "    </tr>\n",
       "    <tr>\n",
       "      <th>4</th>\n",
       "      <td>COc1ccccc1Oc1ccccc1CN1CCC2(CC1)CCN(C(=O)c1ccc(...</td>\n",
       "      <td>FVIRTVGXWNRAMY-UHFFFAOYSA-N</td>\n",
       "      <td>1</td>\n",
       "    </tr>\n",
       "  </tbody>\n",
       "</table>\n",
       "</div>"
      ],
      "text/plain": [
       "                                              Smiles  \\\n",
       "0  Fc1ccc(C(OCC[N+]2CC[N+](CCCc3ccccc3)CC2)c2ccc(...   \n",
       "1            CC1CCCN1CCc1cc2cc(-c3cncc(C#N)c3)ccc2o1   \n",
       "2            COc1ncc(-c2ccc(C3CC(N4CCCC4C)C3)cc2)cn1   \n",
       "3            COc1ncc(-c2ccc3cc(CCN4CCCC4C)ccc3c2)cn1   \n",
       "4  COc1ccccc1Oc1ccccc1CN1CCC2(CC1)CCN(C(=O)c1ccc(...   \n",
       "\n",
       "                     InchiKeys  experimental_value  \n",
       "0  RRNCWJLZTRYGBP-UHFFFAOYSA-N                   1  \n",
       "1  UGELZTGBPPXJPE-UHFFFAOYSA-N                   1  \n",
       "2  DLNFWRTZALVTSJ-UHFFFAOYSA-N                   1  \n",
       "3  GCDHZFDHJDQKFR-UHFFFAOYSA-N                   1  \n",
       "4  FVIRTVGXWNRAMY-UHFFFAOYSA-N                   1  "
      ]
     },
     "execution_count": 9,
     "metadata": {},
     "output_type": "execute_result"
    }
   ],
   "source": [
    "external_data['experimental_value'] = external_data['experimental_value'].replace({'yes': 1, 'no': 0})\n",
    "external_data.head()"
   ]
  },
  {
   "cell_type": "code",
   "execution_count": 10,
   "id": "f99229d1-1a83-4b89-aad7-ad7a68a52600",
   "metadata": {},
   "outputs": [
    {
     "name": "stdout",
     "output_type": "stream",
     "text": [
      "<class 'pandas.core.frame.DataFrame'>\n",
      "RangeIndex: 1088 entries, 0 to 1087\n",
      "Data columns (total 3 columns):\n",
      " #   Column              Non-Null Count  Dtype \n",
      "---  ------              --------------  ----- \n",
      " 0   Smiles              1088 non-null   object\n",
      " 1   InchiKeys           1088 non-null   object\n",
      " 2   experimental_value  1088 non-null   int64 \n",
      "dtypes: int64(1), object(2)\n",
      "memory usage: 25.6+ KB\n"
     ]
    }
   ],
   "source": [
    "external_data.info()"
   ]
  },
  {
   "cell_type": "markdown",
   "id": "86d45164-8eb8-4836-8173-fe149bd13978",
   "metadata": {},
   "source": [
    "# Loading the data used to train the model"
   ]
  },
  {
   "cell_type": "markdown",
   "id": "c17b7e31-8904-4dff-8b84-b4d0d8a65375",
   "metadata": {},
   "source": [
    "The dataset used by the authors to train the model was downloaded from the model's [repository](https://github.com/ersilia-os/eos30gr/tree/main/model/framework/train/input_file)."
   ]
  },
  {
   "cell_type": "code",
   "execution_count": 11,
   "id": "d11ece0a-dfe5-428b-aa17-0037b41b1cc3",
   "metadata": {},
   "outputs": [],
   "source": [
    "train_data_sdf = Chem.SDMolSupplier('../data/trainingset.sdf')"
   ]
  },
  {
   "cell_type": "markdown",
   "id": "310fc1d3-b440-49a2-972a-eb700ec34f2e",
   "metadata": {},
   "source": [
    "## Converting sdf to csv file"
   ]
  },
  {
   "cell_type": "code",
   "execution_count": 12,
   "id": "5d9ac51a-3c4f-4fe7-a8cd-e7235f139eb6",
   "metadata": {},
   "outputs": [
    {
     "name": "stderr",
     "output_type": "stream",
     "text": [
      "[00:53:32] Warning: ambiguous stereochemistry - zero final chiral volume - at atom 4 ignored\n",
      "[00:53:32] Warning: ambiguous stereochemistry - overlapping neighbors  - at atom 12 ignored\n",
      "[00:53:32] Warning: ambiguous stereochemistry - linear bond arrangement - at atom 14 ignored\n",
      "[00:53:33] Warning: ambiguous stereochemistry - linear bond arrangement - at atom 25 ignored\n",
      "[00:53:33] Warning: ambiguous stereochemistry - zero final chiral volume - at atom 4 ignored\n",
      "[00:53:33] Warning: ambiguous stereochemistry - zero final chiral volume - at atom 4 ignored\n",
      "[00:53:33] Warning: ambiguous stereochemistry - zero final chiral volume - at atom 4 ignored\n",
      "[00:53:33] Warning: ambiguous stereochemistry - zero final chiral volume - at atom 4 ignored\n",
      "[00:53:33] Warning: ambiguous stereochemistry - zero final chiral volume - at atom 4 ignored\n",
      "[00:53:33] Warning: ambiguous stereochemistry - zero final chiral volume - at atom 4 ignored\n",
      "[00:53:33] Warning: ambiguous stereochemistry - linear bond arrangement - at atom 14 ignored\n",
      "[00:53:33] Warning: ambiguous stereochemistry - linear bond arrangement - at atom 8 ignored\n"
     ]
    }
   ],
   "source": [
    "train_out = open('../data/trainingset.csv', 'w')\n",
    "train_in = Chem.SDMolSupplier('../data/trainingset.sdf')\n",
    "SDFToCSV.Convert(train_in, train_out, keyCol=None, stopAfter=- 1, includeChirality=False, smilesFrom='')\n",
    "train_out.close()"
   ]
  },
  {
   "cell_type": "markdown",
   "id": "dfbe81ef-9083-4568-85a5-f78acf583b2c",
   "metadata": {},
   "source": [
    "## Loading csv file"
   ]
  },
  {
   "cell_type": "code",
   "execution_count": 13,
   "id": "f04ce893-84ce-4dfd-9b7a-347da1b12c4a",
   "metadata": {},
   "outputs": [
    {
     "data": {
      "text/html": [
       "<div>\n",
       "<style scoped>\n",
       "    .dataframe tbody tr th:only-of-type {\n",
       "        vertical-align: middle;\n",
       "    }\n",
       "\n",
       "    .dataframe tbody tr th {\n",
       "        vertical-align: top;\n",
       "    }\n",
       "\n",
       "    .dataframe thead th {\n",
       "        text-align: right;\n",
       "    }\n",
       "</style>\n",
       "<table border=\"1\" class=\"dataframe\">\n",
       "  <thead>\n",
       "    <tr style=\"text-align: right;\">\n",
       "      <th></th>\n",
       "      <th>SMILES</th>\n",
       "      <th>No.</th>\n",
       "      <th>Smiles</th>\n",
       "      <th>activity10</th>\n",
       "      <th>activity20</th>\n",
       "      <th>activity40</th>\n",
       "      <th>activity60</th>\n",
       "      <th>activity80</th>\n",
       "      <th>activity100</th>\n",
       "    </tr>\n",
       "  </thead>\n",
       "  <tbody>\n",
       "    <tr>\n",
       "      <th>0</th>\n",
       "      <td>CCOC(=O)C1=C(C)NC(C)=C(C(=O)OC)C1c1cccc([N+](=...</td>\n",
       "      <td>A1</td>\n",
       "      <td>C=1([C@@H](C(=C(C)NC1C)C(OC)=O)c1cc(ccc1)[N+](...</td>\n",
       "      <td>1.0</td>\n",
       "      <td>1.0</td>\n",
       "      <td>1.0</td>\n",
       "      <td>1.0</td>\n",
       "      <td>1.0</td>\n",
       "      <td>1.0</td>\n",
       "    </tr>\n",
       "    <tr>\n",
       "      <th>1</th>\n",
       "      <td>C=C1COc2cc3c(cc2N1C(C)=O)CCN(CCCSc1nnc(-c2cccc...</td>\n",
       "      <td>A10</td>\n",
       "      <td>C=C6COc5cc4CCN(CCCSc3nnc(c1cccc2nc(C)ccc12)n3C...</td>\n",
       "      <td>1.0</td>\n",
       "      <td>1.0</td>\n",
       "      <td>1.0</td>\n",
       "      <td>1.0</td>\n",
       "      <td>1.0</td>\n",
       "      <td>1.0</td>\n",
       "    </tr>\n",
       "    <tr>\n",
       "      <th>2</th>\n",
       "      <td>CC(C)(O)C(=O)N1CCC(CCN2CCC(N(C(=O)NCc3ccc(C#N)...</td>\n",
       "      <td>A100</td>\n",
       "      <td>N#Cc1ccc(cc1)CNC(=O)N(c1cccc(c1)F)C1CCN(CC1)CC...</td>\n",
       "      <td>1.0</td>\n",
       "      <td>1.0</td>\n",
       "      <td>1.0</td>\n",
       "      <td>1.0</td>\n",
       "      <td>1.0</td>\n",
       "      <td>1.0</td>\n",
       "    </tr>\n",
       "    <tr>\n",
       "      <th>3</th>\n",
       "      <td>CN(C)Cc1ccc2c(c1)CCC(N(C)C(=O)c1ccc(-c3ccc(F)c...</td>\n",
       "      <td>A1000</td>\n",
       "      <td>CN(C)Cc4ccc3C[C@@H](N(C)C(=O)c2ccc(c1ccc(F)cc1...</td>\n",
       "      <td>1.0</td>\n",
       "      <td>1.0</td>\n",
       "      <td>1.0</td>\n",
       "      <td>1.0</td>\n",
       "      <td>1.0</td>\n",
       "      <td>1.0</td>\n",
       "    </tr>\n",
       "    <tr>\n",
       "      <th>4</th>\n",
       "      <td>COc1cc(F)ccc1-c1cncc(NCc2ccccc2)c1</td>\n",
       "      <td>A1001</td>\n",
       "      <td>COc1cc(F)ccc1c1cncc(c1)NCc1ccccc1</td>\n",
       "      <td>1.0</td>\n",
       "      <td>1.0</td>\n",
       "      <td>1.0</td>\n",
       "      <td>1.0</td>\n",
       "      <td>1.0</td>\n",
       "      <td>1.0</td>\n",
       "    </tr>\n",
       "  </tbody>\n",
       "</table>\n",
       "</div>"
      ],
      "text/plain": [
       "                                              SMILES    No.  \\\n",
       "0  CCOC(=O)C1=C(C)NC(C)=C(C(=O)OC)C1c1cccc([N+](=...     A1   \n",
       "1  C=C1COc2cc3c(cc2N1C(C)=O)CCN(CCCSc1nnc(-c2cccc...    A10   \n",
       "2  CC(C)(O)C(=O)N1CCC(CCN2CCC(N(C(=O)NCc3ccc(C#N)...   A100   \n",
       "3  CN(C)Cc1ccc2c(c1)CCC(N(C)C(=O)c1ccc(-c3ccc(F)c...  A1000   \n",
       "4                 COc1cc(F)ccc1-c1cncc(NCc2ccccc2)c1  A1001   \n",
       "\n",
       "                                              Smiles  activity10  activity20  \\\n",
       "0  C=1([C@@H](C(=C(C)NC1C)C(OC)=O)c1cc(ccc1)[N+](...         1.0         1.0   \n",
       "1  C=C6COc5cc4CCN(CCCSc3nnc(c1cccc2nc(C)ccc12)n3C...         1.0         1.0   \n",
       "2  N#Cc1ccc(cc1)CNC(=O)N(c1cccc(c1)F)C1CCN(CC1)CC...         1.0         1.0   \n",
       "3  CN(C)Cc4ccc3C[C@@H](N(C)C(=O)c2ccc(c1ccc(F)cc1...         1.0         1.0   \n",
       "4                  COc1cc(F)ccc1c1cncc(c1)NCc1ccccc1         1.0         1.0   \n",
       "\n",
       "   activity40  activity60  activity80  activity100  \n",
       "0         1.0         1.0         1.0          1.0  \n",
       "1         1.0         1.0         1.0          1.0  \n",
       "2         1.0         1.0         1.0          1.0  \n",
       "3         1.0         1.0         1.0          1.0  \n",
       "4         1.0         1.0         1.0          1.0  "
      ]
     },
     "execution_count": 13,
     "metadata": {},
     "output_type": "execute_result"
    }
   ],
   "source": [
    "train_data = pd.read_csv('../data/trainingset.csv')\n",
    "train_data.head()"
   ]
  },
  {
   "cell_type": "markdown",
   "id": "42cf3f2b-31dc-496a-8e39-9cf3591f8d00",
   "metadata": {},
   "source": [
    "## Standardizing smiles"
   ]
  },
  {
   "cell_type": "code",
   "execution_count": 14,
   "id": "4a03f8b8-7198-4a10-bebd-9c2c665570c3",
   "metadata": {},
   "outputs": [
    {
     "data": {
      "text/html": [
       "<div>\n",
       "<style scoped>\n",
       "    .dataframe tbody tr th:only-of-type {\n",
       "        vertical-align: middle;\n",
       "    }\n",
       "\n",
       "    .dataframe tbody tr th {\n",
       "        vertical-align: top;\n",
       "    }\n",
       "\n",
       "    .dataframe thead th {\n",
       "        text-align: right;\n",
       "    }\n",
       "</style>\n",
       "<table border=\"1\" class=\"dataframe\">\n",
       "  <thead>\n",
       "    <tr style=\"text-align: right;\">\n",
       "      <th></th>\n",
       "      <th>SMILES</th>\n",
       "      <th>No.</th>\n",
       "      <th>Smiles</th>\n",
       "      <th>activity10</th>\n",
       "      <th>activity20</th>\n",
       "      <th>activity40</th>\n",
       "      <th>activity60</th>\n",
       "      <th>activity80</th>\n",
       "      <th>activity100</th>\n",
       "      <th>standardised_smiles</th>\n",
       "    </tr>\n",
       "  </thead>\n",
       "  <tbody>\n",
       "    <tr>\n",
       "      <th>0</th>\n",
       "      <td>CCOC(=O)C1=C(C)NC(C)=C(C(=O)OC)C1c1cccc([N+](=...</td>\n",
       "      <td>A1</td>\n",
       "      <td>C=1([C@@H](C(=C(C)NC1C)C(OC)=O)c1cc(ccc1)[N+](...</td>\n",
       "      <td>1.0</td>\n",
       "      <td>1.0</td>\n",
       "      <td>1.0</td>\n",
       "      <td>1.0</td>\n",
       "      <td>1.0</td>\n",
       "      <td>1.0</td>\n",
       "      <td>CCOC(=O)C1=C(C)NC(C)=C(C(=O)OC)[C@H]1c1cccc([N...</td>\n",
       "    </tr>\n",
       "    <tr>\n",
       "      <th>1</th>\n",
       "      <td>C=C1COc2cc3c(cc2N1C(C)=O)CCN(CCCSc1nnc(-c2cccc...</td>\n",
       "      <td>A10</td>\n",
       "      <td>C=C6COc5cc4CCN(CCCSc3nnc(c1cccc2nc(C)ccc12)n3C...</td>\n",
       "      <td>1.0</td>\n",
       "      <td>1.0</td>\n",
       "      <td>1.0</td>\n",
       "      <td>1.0</td>\n",
       "      <td>1.0</td>\n",
       "      <td>1.0</td>\n",
       "      <td>C=C1COc2cc3c(cc2N1C(C)=O)CCN(CCCSc1nnc(-c2cccc...</td>\n",
       "    </tr>\n",
       "    <tr>\n",
       "      <th>2</th>\n",
       "      <td>CC(C)(O)C(=O)N1CCC(CCN2CCC(N(C(=O)NCc3ccc(C#N)...</td>\n",
       "      <td>A100</td>\n",
       "      <td>N#Cc1ccc(cc1)CNC(=O)N(c1cccc(c1)F)C1CCN(CC1)CC...</td>\n",
       "      <td>1.0</td>\n",
       "      <td>1.0</td>\n",
       "      <td>1.0</td>\n",
       "      <td>1.0</td>\n",
       "      <td>1.0</td>\n",
       "      <td>1.0</td>\n",
       "      <td>CC(C)(O)C(=O)N1CCC(CCN2CCC(N(C(=O)NCc3ccc(C#N)...</td>\n",
       "    </tr>\n",
       "    <tr>\n",
       "      <th>3</th>\n",
       "      <td>CN(C)Cc1ccc2c(c1)CCC(N(C)C(=O)c1ccc(-c3ccc(F)c...</td>\n",
       "      <td>A1000</td>\n",
       "      <td>CN(C)Cc4ccc3C[C@@H](N(C)C(=O)c2ccc(c1ccc(F)cc1...</td>\n",
       "      <td>1.0</td>\n",
       "      <td>1.0</td>\n",
       "      <td>1.0</td>\n",
       "      <td>1.0</td>\n",
       "      <td>1.0</td>\n",
       "      <td>1.0</td>\n",
       "      <td>CN(C)Cc1ccc2c(c1)CC[C@H](N(C)C(=O)c1ccc(-c3ccc...</td>\n",
       "    </tr>\n",
       "    <tr>\n",
       "      <th>4</th>\n",
       "      <td>COc1cc(F)ccc1-c1cncc(NCc2ccccc2)c1</td>\n",
       "      <td>A1001</td>\n",
       "      <td>COc1cc(F)ccc1c1cncc(c1)NCc1ccccc1</td>\n",
       "      <td>1.0</td>\n",
       "      <td>1.0</td>\n",
       "      <td>1.0</td>\n",
       "      <td>1.0</td>\n",
       "      <td>1.0</td>\n",
       "      <td>1.0</td>\n",
       "      <td>COc1cc(F)ccc1-c1cncc(NCc2ccccc2)c1</td>\n",
       "    </tr>\n",
       "  </tbody>\n",
       "</table>\n",
       "</div>"
      ],
      "text/plain": [
       "                                              SMILES    No.  \\\n",
       "0  CCOC(=O)C1=C(C)NC(C)=C(C(=O)OC)C1c1cccc([N+](=...     A1   \n",
       "1  C=C1COc2cc3c(cc2N1C(C)=O)CCN(CCCSc1nnc(-c2cccc...    A10   \n",
       "2  CC(C)(O)C(=O)N1CCC(CCN2CCC(N(C(=O)NCc3ccc(C#N)...   A100   \n",
       "3  CN(C)Cc1ccc2c(c1)CCC(N(C)C(=O)c1ccc(-c3ccc(F)c...  A1000   \n",
       "4                 COc1cc(F)ccc1-c1cncc(NCc2ccccc2)c1  A1001   \n",
       "\n",
       "                                              Smiles  activity10  activity20  \\\n",
       "0  C=1([C@@H](C(=C(C)NC1C)C(OC)=O)c1cc(ccc1)[N+](...         1.0         1.0   \n",
       "1  C=C6COc5cc4CCN(CCCSc3nnc(c1cccc2nc(C)ccc12)n3C...         1.0         1.0   \n",
       "2  N#Cc1ccc(cc1)CNC(=O)N(c1cccc(c1)F)C1CCN(CC1)CC...         1.0         1.0   \n",
       "3  CN(C)Cc4ccc3C[C@@H](N(C)C(=O)c2ccc(c1ccc(F)cc1...         1.0         1.0   \n",
       "4                  COc1cc(F)ccc1c1cncc(c1)NCc1ccccc1         1.0         1.0   \n",
       "\n",
       "   activity40  activity60  activity80  activity100  \\\n",
       "0         1.0         1.0         1.0          1.0   \n",
       "1         1.0         1.0         1.0          1.0   \n",
       "2         1.0         1.0         1.0          1.0   \n",
       "3         1.0         1.0         1.0          1.0   \n",
       "4         1.0         1.0         1.0          1.0   \n",
       "\n",
       "                                 standardised_smiles  \n",
       "0  CCOC(=O)C1=C(C)NC(C)=C(C(=O)OC)[C@H]1c1cccc([N...  \n",
       "1  C=C1COc2cc3c(cc2N1C(C)=O)CCN(CCCSc1nnc(-c2cccc...  \n",
       "2  CC(C)(O)C(=O)N1CCC(CCN2CCC(N(C(=O)NCc3ccc(C#N)...  \n",
       "3  CN(C)Cc1ccc2c(c1)CC[C@H](N(C)C(=O)c1ccc(-c3ccc...  \n",
       "4                 COc1cc(F)ccc1-c1cncc(NCc2ccccc2)c1  "
      ]
     },
     "execution_count": 14,
     "metadata": {},
     "output_type": "execute_result"
    }
   ],
   "source": [
    "smiles_list = train_data['Smiles'].tolist()\n",
    "standardised_smiles_list = standardise_smiles(smiles_list)\n",
    "train_data['standardised_smiles'] = standardised_smiles_list\n",
    "train_data.head()"
   ]
  },
  {
   "cell_type": "markdown",
   "id": "e35e4f7c-f868-44aa-9e7a-a618e2eb7126",
   "metadata": {},
   "source": [
    "# Eliminating repeated molecules between train and external dataset"
   ]
  },
  {
   "cell_type": "markdown",
   "id": "aea63037-ae44-4580-9db3-83c9dd579484",
   "metadata": {},
   "source": [
    "We eliminate the common molecules between the training and external dataset so that there is no data leakage and the model predicts the data which it has not been trained on."
   ]
  },
  {
   "cell_type": "code",
   "execution_count": 15,
   "id": "0fae30b7-9862-46b7-b7b4-b26be767d4b8",
   "metadata": {},
   "outputs": [
    {
     "data": {
      "text/html": [
       "<div>\n",
       "<style scoped>\n",
       "    .dataframe tbody tr th:only-of-type {\n",
       "        vertical-align: middle;\n",
       "    }\n",
       "\n",
       "    .dataframe tbody tr th {\n",
       "        vertical-align: top;\n",
       "    }\n",
       "\n",
       "    .dataframe thead th {\n",
       "        text-align: right;\n",
       "    }\n",
       "</style>\n",
       "<table border=\"1\" class=\"dataframe\">\n",
       "  <thead>\n",
       "    <tr style=\"text-align: right;\">\n",
       "      <th></th>\n",
       "      <th>Smiles</th>\n",
       "      <th>InchiKeys</th>\n",
       "      <th>experimental_value</th>\n",
       "    </tr>\n",
       "  </thead>\n",
       "  <tbody>\n",
       "    <tr>\n",
       "      <th>0</th>\n",
       "      <td>CC1CCCN1CCc1cc2cc(-c3cncc(C#N)c3)ccc2o1</td>\n",
       "      <td>UGELZTGBPPXJPE-UHFFFAOYSA-N</td>\n",
       "      <td>1</td>\n",
       "    </tr>\n",
       "    <tr>\n",
       "      <th>1</th>\n",
       "      <td>COc1ncc(-c2ccc(C3CC(N4CCCC4C)C3)cc2)cn1</td>\n",
       "      <td>DLNFWRTZALVTSJ-UHFFFAOYSA-N</td>\n",
       "      <td>1</td>\n",
       "    </tr>\n",
       "    <tr>\n",
       "      <th>2</th>\n",
       "      <td>COc1ncc(-c2ccc3cc(CCN4CCCC4C)ccc3c2)cn1</td>\n",
       "      <td>GCDHZFDHJDQKFR-UHFFFAOYSA-N</td>\n",
       "      <td>1</td>\n",
       "    </tr>\n",
       "    <tr>\n",
       "      <th>3</th>\n",
       "      <td>CC1CCCN1C1CC(c2ccc(-c3cncnc3)cc2)C1</td>\n",
       "      <td>XRYDMMOPQTWUSE-UHFFFAOYSA-N</td>\n",
       "      <td>1</td>\n",
       "    </tr>\n",
       "    <tr>\n",
       "      <th>4</th>\n",
       "      <td>O=C1NCN(c2ccccc2)C12CC[N+](CCCC(c1ccc(F)cc1)c1...</td>\n",
       "      <td>GFORFEKVQXJTEI-UHFFFAOYSA-N</td>\n",
       "      <td>1</td>\n",
       "    </tr>\n",
       "    <tr>\n",
       "      <th>...</th>\n",
       "      <td>...</td>\n",
       "      <td>...</td>\n",
       "      <td>...</td>\n",
       "    </tr>\n",
       "    <tr>\n",
       "      <th>557</th>\n",
       "      <td>CCC(=O)C(CC(C)[N+](C)C)(c1ccccc1)c1ccccc1</td>\n",
       "      <td>UHGHALWOVVUXKD-UHFFFAOYSA-N</td>\n",
       "      <td>0</td>\n",
       "    </tr>\n",
       "    <tr>\n",
       "      <th>558</th>\n",
       "      <td>CC(C)C(Oc1ccc(CNC(=O)C2CSCN2C(=O)CC(N)Cc2cc(F)...</td>\n",
       "      <td>GKMOQWBWMMGWKN-UHFFFAOYSA-N</td>\n",
       "      <td>0</td>\n",
       "    </tr>\n",
       "    <tr>\n",
       "      <th>559</th>\n",
       "      <td>CC1COc2c(N3CC[N+](C)CC3)c(F)cc3c(=O)c(C(=O)[O-...</td>\n",
       "      <td>KXKRZHKEPHLIGJ-UHFFFAOYSA-M</td>\n",
       "      <td>0</td>\n",
       "    </tr>\n",
       "    <tr>\n",
       "      <th>560</th>\n",
       "      <td>CC1COc2c(N3CCN(C)CC3)c(F)cc3c(=O)c(C(=O)O)cn1c23</td>\n",
       "      <td>GSDSWSVVBLHKDQ-UHFFFAOYSA-N</td>\n",
       "      <td>0</td>\n",
       "    </tr>\n",
       "    <tr>\n",
       "      <th>561</th>\n",
       "      <td>O=C([O-])C1=C[N+](C2CC2)=C2C=C(N3CCNCC3)C(F)=C...</td>\n",
       "      <td>XJDGQHCPKBYDFF-UHFFFAOYSA-N</td>\n",
       "      <td>0</td>\n",
       "    </tr>\n",
       "  </tbody>\n",
       "</table>\n",
       "<p>562 rows × 3 columns</p>\n",
       "</div>"
      ],
      "text/plain": [
       "                                                Smiles  \\\n",
       "0              CC1CCCN1CCc1cc2cc(-c3cncc(C#N)c3)ccc2o1   \n",
       "1              COc1ncc(-c2ccc(C3CC(N4CCCC4C)C3)cc2)cn1   \n",
       "2              COc1ncc(-c2ccc3cc(CCN4CCCC4C)ccc3c2)cn1   \n",
       "3                  CC1CCCN1C1CC(c2ccc(-c3cncnc3)cc2)C1   \n",
       "4    O=C1NCN(c2ccccc2)C12CC[N+](CCCC(c1ccc(F)cc1)c1...   \n",
       "..                                                 ...   \n",
       "557          CCC(=O)C(CC(C)[N+](C)C)(c1ccccc1)c1ccccc1   \n",
       "558  CC(C)C(Oc1ccc(CNC(=O)C2CSCN2C(=O)CC(N)Cc2cc(F)...   \n",
       "559  CC1COc2c(N3CC[N+](C)CC3)c(F)cc3c(=O)c(C(=O)[O-...   \n",
       "560   CC1COc2c(N3CCN(C)CC3)c(F)cc3c(=O)c(C(=O)O)cn1c23   \n",
       "561  O=C([O-])C1=C[N+](C2CC2)=C2C=C(N3CCNCC3)C(F)=C...   \n",
       "\n",
       "                       InchiKeys  experimental_value  \n",
       "0    UGELZTGBPPXJPE-UHFFFAOYSA-N                   1  \n",
       "1    DLNFWRTZALVTSJ-UHFFFAOYSA-N                   1  \n",
       "2    GCDHZFDHJDQKFR-UHFFFAOYSA-N                   1  \n",
       "3    XRYDMMOPQTWUSE-UHFFFAOYSA-N                   1  \n",
       "4    GFORFEKVQXJTEI-UHFFFAOYSA-N                   1  \n",
       "..                           ...                 ...  \n",
       "557  UHGHALWOVVUXKD-UHFFFAOYSA-N                   0  \n",
       "558  GKMOQWBWMMGWKN-UHFFFAOYSA-N                   0  \n",
       "559  KXKRZHKEPHLIGJ-UHFFFAOYSA-M                   0  \n",
       "560  GSDSWSVVBLHKDQ-UHFFFAOYSA-N                   0  \n",
       "561  XJDGQHCPKBYDFF-UHFFFAOYSA-N                   0  \n",
       "\n",
       "[562 rows x 3 columns]"
      ]
     },
     "execution_count": 15,
     "metadata": {},
     "output_type": "execute_result"
    }
   ],
   "source": [
    "external_data_filtered = external_data[~external_data['Smiles'].isin(train_data['standardised_smiles'])]\n",
    "\n",
    "# Reset the index of the filtered DataFrame\n",
    "external_data_filtered.reset_index(drop=True, inplace=True)\n",
    "\n",
    "# Display the filtered DataFrame\n",
    "external_data_filtered"
   ]
  },
  {
   "cell_type": "markdown",
   "id": "34205cd4-d798-4f4d-8535-6da51ef59d25",
   "metadata": {},
   "source": [
    "The `external_data_filtered` dataframe contains the data without any repeated molecule."
   ]
  },
  {
   "cell_type": "markdown",
   "id": "ba8b6e71-fea8-41dc-b4d7-a11966d082af",
   "metadata": {},
   "source": [
    "# Number of blockers and non-blockers in the external data"
   ]
  },
  {
   "cell_type": "code",
   "execution_count": 16,
   "id": "98664894-6a62-4d09-b87b-444f71392d2b",
   "metadata": {},
   "outputs": [
    {
     "name": "stdout",
     "output_type": "stream",
     "text": [
      "+----------+--------+------------+\n",
      "| Blockers | Number | Percentage |\n",
      "+----------+--------+------------+\n",
      "|   Yes    |  123   |   21.89%   |\n",
      "|    No    |  439   |   78.11%   |\n",
      "+----------+--------+------------+\n"
     ]
    }
   ],
   "source": [
    "# Calculate classification counts\n",
    "prediction_classification_counts = external_data_filtered['experimental_value'].value_counts()\n",
    "\n",
    "# Calculate percentage of classification counts\n",
    "total_count = prediction_classification_counts.sum()\n",
    "percentage = (prediction_classification_counts / total_count) * 100\n",
    "\n",
    "# Create PrettyTable\n",
    "prediction_table = PrettyTable()\n",
    "prediction_table.field_names = ['Blockers', 'Number', 'Percentage']\n",
    "\n",
    "# Add rows to the table\n",
    "prediction_table.add_row(['Yes', prediction_classification_counts[1], f\"{percentage[1]:.2f}%\"])\n",
    "prediction_table.add_row(['No', prediction_classification_counts[0], f\"{percentage[0]:.2f}%\"])\n",
    "\n",
    "# Print the table\n",
    "print(prediction_table)"
   ]
  },
  {
   "cell_type": "markdown",
   "id": "7c4c8d60-95d4-4870-a8c2-b28eb521a11c",
   "metadata": {},
   "source": [
    "Now, we will check whether the model is able to reproduce this table. If it is able to do so, then it will be validated that the model is predicting the correct outputs."
   ]
  },
  {
   "cell_type": "code",
   "execution_count": 17,
   "id": "525c7eb9-7c2f-48f0-9749-42c158e76681",
   "metadata": {},
   "outputs": [],
   "source": [
    "# Save the filtered DataFrame as a CSV file\n",
    "external_data_filtered.to_csv('../data/input_task3.csv', index=False)"
   ]
  },
  {
   "cell_type": "markdown",
   "id": "6bb7ccba-9f0b-4714-b30c-6c4f364346ca",
   "metadata": {},
   "source": [
    "# Running the model on Ersilia Model Hub with the external data"
   ]
  },
  {
   "cell_type": "markdown",
   "id": "f8ba4d5e-c605-41c8-b161-37ad92f24972",
   "metadata": {},
   "source": [
    "The model is run on the terminal on the input data using the following commands:\n",
    "```\n",
    "ersilia -v fetch eos30gr\n",
    "ersilia serve eos30gr\n",
    "ersilia -v api run -i input_task3.csv -o output_task3.json\n",
    "```\n",
    "The output after running the model is saved in `output_task2.json` file which is present the `data` directory."
   ]
  },
  {
   "cell_type": "markdown",
   "id": "61d95eb2-bc22-4a13-b8f6-33f40b1c08fb",
   "metadata": {},
   "source": [
    "# Exploring model predictions"
   ]
  },
  {
   "cell_type": "markdown",
   "id": "eb94ca2e-90a4-4101-839d-afc3cb89f332",
   "metadata": {},
   "source": [
    "## Loading model predictions"
   ]
  },
  {
   "cell_type": "markdown",
   "id": "25655441-8264-43d6-8eb5-839eb44368bf",
   "metadata": {},
   "source": [
    "We will first convert the json data to required csv format."
   ]
  },
  {
   "cell_type": "code",
   "execution_count": 18,
   "id": "33a9d16c-5cc5-4efe-b7c9-6ed41e8bec34",
   "metadata": {},
   "outputs": [],
   "source": [
    "json_data = pd.read_json('../data/output_task3.json')"
   ]
  },
  {
   "cell_type": "code",
   "execution_count": 19,
   "id": "d7da1d3a-3a8e-428f-be35-c783b692119a",
   "metadata": {},
   "outputs": [
    {
     "data": {
      "text/html": [
       "<div>\n",
       "<style scoped>\n",
       "    .dataframe tbody tr th:only-of-type {\n",
       "        vertical-align: middle;\n",
       "    }\n",
       "\n",
       "    .dataframe tbody tr th {\n",
       "        vertical-align: top;\n",
       "    }\n",
       "\n",
       "    .dataframe thead th {\n",
       "        text-align: right;\n",
       "    }\n",
       "</style>\n",
       "<table border=\"1\" class=\"dataframe\">\n",
       "  <thead>\n",
       "    <tr style=\"text-align: right;\">\n",
       "      <th></th>\n",
       "      <th>input</th>\n",
       "      <th>output</th>\n",
       "    </tr>\n",
       "  </thead>\n",
       "  <tbody>\n",
       "    <tr>\n",
       "      <th>0</th>\n",
       "      <td>{'key': 'UGELZTGBPPXJPE-UHFFFAOYSA-N', 'input'...</td>\n",
       "      <td>{'outcome': 0.9265676736831661}</td>\n",
       "    </tr>\n",
       "    <tr>\n",
       "      <th>1</th>\n",
       "      <td>{'key': 'DLNFWRTZALVTSJ-UHFFFAOYSA-N', 'input'...</td>\n",
       "      <td>{'outcome': 0.9752475023269651}</td>\n",
       "    </tr>\n",
       "    <tr>\n",
       "      <th>2</th>\n",
       "      <td>{'key': 'GCDHZFDHJDQKFR-UHFFFAOYSA-N', 'input'...</td>\n",
       "      <td>{'outcome': 0.9628713130950921}</td>\n",
       "    </tr>\n",
       "    <tr>\n",
       "      <th>3</th>\n",
       "      <td>{'key': 'XRYDMMOPQTWUSE-UHFFFAOYSA-N', 'input'...</td>\n",
       "      <td>{'outcome': 0.9801980257034301}</td>\n",
       "    </tr>\n",
       "    <tr>\n",
       "      <th>4</th>\n",
       "      <td>{'key': 'GFORFEKVQXJTEI-UHFFFAOYSA-N', 'input'...</td>\n",
       "      <td>{'outcome': 0.9405940771102901}</td>\n",
       "    </tr>\n",
       "  </tbody>\n",
       "</table>\n",
       "</div>"
      ],
      "text/plain": [
       "                                               input  \\\n",
       "0  {'key': 'UGELZTGBPPXJPE-UHFFFAOYSA-N', 'input'...   \n",
       "1  {'key': 'DLNFWRTZALVTSJ-UHFFFAOYSA-N', 'input'...   \n",
       "2  {'key': 'GCDHZFDHJDQKFR-UHFFFAOYSA-N', 'input'...   \n",
       "3  {'key': 'XRYDMMOPQTWUSE-UHFFFAOYSA-N', 'input'...   \n",
       "4  {'key': 'GFORFEKVQXJTEI-UHFFFAOYSA-N', 'input'...   \n",
       "\n",
       "                            output  \n",
       "0  {'outcome': 0.9265676736831661}  \n",
       "1  {'outcome': 0.9752475023269651}  \n",
       "2  {'outcome': 0.9628713130950921}  \n",
       "3  {'outcome': 0.9801980257034301}  \n",
       "4  {'outcome': 0.9405940771102901}  "
      ]
     },
     "execution_count": 19,
     "metadata": {},
     "output_type": "execute_result"
    }
   ],
   "source": [
    "json_data.head()"
   ]
  },
  {
   "cell_type": "code",
   "execution_count": 20,
   "id": "5960a464-8252-4a0f-8d1b-fc9b6d9dac45",
   "metadata": {},
   "outputs": [],
   "source": [
    "json_input = pd.json_normalize(json_data['input'])\n",
    "json_output = pd.json_normalize(json_data['output'])"
   ]
  },
  {
   "cell_type": "code",
   "execution_count": 21,
   "id": "1c673578-061c-4307-8795-a1df8760739e",
   "metadata": {},
   "outputs": [],
   "source": [
    "df = pd.merge(json_input ,json_output ,left_index=True, right_index=True, how='inner')"
   ]
  },
  {
   "cell_type": "code",
   "execution_count": 22,
   "id": "068dd3d0-4d7f-4038-828e-abe7364a71d4",
   "metadata": {},
   "outputs": [
    {
     "data": {
      "text/html": [
       "<div>\n",
       "<style scoped>\n",
       "    .dataframe tbody tr th:only-of-type {\n",
       "        vertical-align: middle;\n",
       "    }\n",
       "\n",
       "    .dataframe tbody tr th {\n",
       "        vertical-align: top;\n",
       "    }\n",
       "\n",
       "    .dataframe thead th {\n",
       "        text-align: right;\n",
       "    }\n",
       "</style>\n",
       "<table border=\"1\" class=\"dataframe\">\n",
       "  <thead>\n",
       "    <tr style=\"text-align: right;\">\n",
       "      <th></th>\n",
       "      <th>key</th>\n",
       "      <th>input</th>\n",
       "      <th>text</th>\n",
       "      <th>outcome</th>\n",
       "    </tr>\n",
       "  </thead>\n",
       "  <tbody>\n",
       "    <tr>\n",
       "      <th>0</th>\n",
       "      <td>UGELZTGBPPXJPE-UHFFFAOYSA-N</td>\n",
       "      <td>CC1CCCN1CCc1cc2cc(-c3cncc(C#N)c3)ccc2o1</td>\n",
       "      <td>CC1CCCN1CCc1cc2cc(-c3cncc(C#N)c3)ccc2o1</td>\n",
       "      <td>0.926568</td>\n",
       "    </tr>\n",
       "    <tr>\n",
       "      <th>1</th>\n",
       "      <td>DLNFWRTZALVTSJ-UHFFFAOYSA-N</td>\n",
       "      <td>COc1ncc(-c2ccc(C3CC(N4CCCC4C)C3)cc2)cn1</td>\n",
       "      <td>COc1ncc(-c2ccc(C3CC(N4CCCC4C)C3)cc2)cn1</td>\n",
       "      <td>0.975248</td>\n",
       "    </tr>\n",
       "    <tr>\n",
       "      <th>2</th>\n",
       "      <td>GCDHZFDHJDQKFR-UHFFFAOYSA-N</td>\n",
       "      <td>COc1ncc(-c2ccc3cc(CCN4CCCC4C)ccc3c2)cn1</td>\n",
       "      <td>COc1ncc(-c2ccc3cc(CCN4CCCC4C)ccc3c2)cn1</td>\n",
       "      <td>0.962871</td>\n",
       "    </tr>\n",
       "    <tr>\n",
       "      <th>3</th>\n",
       "      <td>XRYDMMOPQTWUSE-UHFFFAOYSA-N</td>\n",
       "      <td>CC1CCCN1C1CC(c2ccc(-c3cncnc3)cc2)C1</td>\n",
       "      <td>CC1CCCN1C1CC(c2ccc(-c3cncnc3)cc2)C1</td>\n",
       "      <td>0.980198</td>\n",
       "    </tr>\n",
       "    <tr>\n",
       "      <th>4</th>\n",
       "      <td>GFORFEKVQXJTEI-UHFFFAOYSA-N</td>\n",
       "      <td>O=C1NCN(c2ccccc2)C12CC[N+](CCCC(c1ccc(F)cc1)c1...</td>\n",
       "      <td>O=C1NCN(c2ccccc2)C12CC[N+](CCCC(c1ccc(F)cc1)c1...</td>\n",
       "      <td>0.940594</td>\n",
       "    </tr>\n",
       "  </tbody>\n",
       "</table>\n",
       "</div>"
      ],
      "text/plain": [
       "                           key  \\\n",
       "0  UGELZTGBPPXJPE-UHFFFAOYSA-N   \n",
       "1  DLNFWRTZALVTSJ-UHFFFAOYSA-N   \n",
       "2  GCDHZFDHJDQKFR-UHFFFAOYSA-N   \n",
       "3  XRYDMMOPQTWUSE-UHFFFAOYSA-N   \n",
       "4  GFORFEKVQXJTEI-UHFFFAOYSA-N   \n",
       "\n",
       "                                               input  \\\n",
       "0            CC1CCCN1CCc1cc2cc(-c3cncc(C#N)c3)ccc2o1   \n",
       "1            COc1ncc(-c2ccc(C3CC(N4CCCC4C)C3)cc2)cn1   \n",
       "2            COc1ncc(-c2ccc3cc(CCN4CCCC4C)ccc3c2)cn1   \n",
       "3                CC1CCCN1C1CC(c2ccc(-c3cncnc3)cc2)C1   \n",
       "4  O=C1NCN(c2ccccc2)C12CC[N+](CCCC(c1ccc(F)cc1)c1...   \n",
       "\n",
       "                                                text   outcome  \n",
       "0            CC1CCCN1CCc1cc2cc(-c3cncc(C#N)c3)ccc2o1  0.926568  \n",
       "1            COc1ncc(-c2ccc(C3CC(N4CCCC4C)C3)cc2)cn1  0.975248  \n",
       "2            COc1ncc(-c2ccc3cc(CCN4CCCC4C)ccc3c2)cn1  0.962871  \n",
       "3                CC1CCCN1C1CC(c2ccc(-c3cncnc3)cc2)C1  0.980198  \n",
       "4  O=C1NCN(c2ccccc2)C12CC[N+](CCCC(c1ccc(F)cc1)c1...  0.940594  "
      ]
     },
     "execution_count": 22,
     "metadata": {},
     "output_type": "execute_result"
    }
   ],
   "source": [
    "df.head()"
   ]
  },
  {
   "cell_type": "code",
   "execution_count": 23,
   "id": "123c5a87-abce-4a54-aad2-32ee993c7ff1",
   "metadata": {},
   "outputs": [],
   "source": [
    "df.drop('text', axis=1, inplace=True)"
   ]
  },
  {
   "cell_type": "code",
   "execution_count": 24,
   "id": "59c08408-8f0e-4c9f-99b7-d64b6cf78d4f",
   "metadata": {},
   "outputs": [
    {
     "name": "stdout",
     "output_type": "stream",
     "text": [
      "<class 'pandas.core.frame.DataFrame'>\n",
      "RangeIndex: 562 entries, 0 to 561\n",
      "Data columns (total 3 columns):\n",
      " #   Column   Non-Null Count  Dtype  \n",
      "---  ------   --------------  -----  \n",
      " 0   key      562 non-null    object \n",
      " 1   input    562 non-null    object \n",
      " 2   outcome  562 non-null    float64\n",
      "dtypes: float64(1), object(2)\n",
      "memory usage: 13.3+ KB\n"
     ]
    }
   ],
   "source": [
    "df.info()"
   ]
  },
  {
   "cell_type": "code",
   "execution_count": 25,
   "id": "46adcc07-8440-4288-a2e5-7b639e81fbd1",
   "metadata": {},
   "outputs": [],
   "source": [
    "# Saving df as a CSV file\n",
    "df.to_csv('../data/output_task3.csv', index=False)"
   ]
  },
  {
   "cell_type": "markdown",
   "id": "b33fb27a-9c57-44e8-80d6-ffae0e19301e",
   "metadata": {},
   "source": [
    "## Classifying the model predictions"
   ]
  },
  {
   "cell_type": "markdown",
   "id": "8d113714-4fc0-4923-9bb2-fa4981aa0531",
   "metadata": {},
   "source": [
    "Using threshold value as 0.5 for the predicted probabilities, i.e., outcome >= 0.5 will be classified as a hERG blocker."
   ]
  },
  {
   "cell_type": "code",
   "execution_count": 26,
   "id": "3645754a-b8ee-4f47-9664-964f42637a73",
   "metadata": {},
   "outputs": [
    {
     "data": {
      "text/html": [
       "<div>\n",
       "<style scoped>\n",
       "    .dataframe tbody tr th:only-of-type {\n",
       "        vertical-align: middle;\n",
       "    }\n",
       "\n",
       "    .dataframe tbody tr th {\n",
       "        vertical-align: top;\n",
       "    }\n",
       "\n",
       "    .dataframe thead th {\n",
       "        text-align: right;\n",
       "    }\n",
       "</style>\n",
       "<table border=\"1\" class=\"dataframe\">\n",
       "  <thead>\n",
       "    <tr style=\"text-align: right;\">\n",
       "      <th></th>\n",
       "      <th>key</th>\n",
       "      <th>input</th>\n",
       "      <th>outcome</th>\n",
       "      <th>Predicted classification</th>\n",
       "    </tr>\n",
       "  </thead>\n",
       "  <tbody>\n",
       "    <tr>\n",
       "      <th>0</th>\n",
       "      <td>UGELZTGBPPXJPE-UHFFFAOYSA-N</td>\n",
       "      <td>CC1CCCN1CCc1cc2cc(-c3cncc(C#N)c3)ccc2o1</td>\n",
       "      <td>0.926568</td>\n",
       "      <td>1</td>\n",
       "    </tr>\n",
       "    <tr>\n",
       "      <th>1</th>\n",
       "      <td>DLNFWRTZALVTSJ-UHFFFAOYSA-N</td>\n",
       "      <td>COc1ncc(-c2ccc(C3CC(N4CCCC4C)C3)cc2)cn1</td>\n",
       "      <td>0.975248</td>\n",
       "      <td>1</td>\n",
       "    </tr>\n",
       "    <tr>\n",
       "      <th>2</th>\n",
       "      <td>GCDHZFDHJDQKFR-UHFFFAOYSA-N</td>\n",
       "      <td>COc1ncc(-c2ccc3cc(CCN4CCCC4C)ccc3c2)cn1</td>\n",
       "      <td>0.962871</td>\n",
       "      <td>1</td>\n",
       "    </tr>\n",
       "    <tr>\n",
       "      <th>3</th>\n",
       "      <td>XRYDMMOPQTWUSE-UHFFFAOYSA-N</td>\n",
       "      <td>CC1CCCN1C1CC(c2ccc(-c3cncnc3)cc2)C1</td>\n",
       "      <td>0.980198</td>\n",
       "      <td>1</td>\n",
       "    </tr>\n",
       "    <tr>\n",
       "      <th>4</th>\n",
       "      <td>GFORFEKVQXJTEI-UHFFFAOYSA-N</td>\n",
       "      <td>O=C1NCN(c2ccccc2)C12CC[N+](CCCC(c1ccc(F)cc1)c1...</td>\n",
       "      <td>0.940594</td>\n",
       "      <td>1</td>\n",
       "    </tr>\n",
       "  </tbody>\n",
       "</table>\n",
       "</div>"
      ],
      "text/plain": [
       "                           key  \\\n",
       "0  UGELZTGBPPXJPE-UHFFFAOYSA-N   \n",
       "1  DLNFWRTZALVTSJ-UHFFFAOYSA-N   \n",
       "2  GCDHZFDHJDQKFR-UHFFFAOYSA-N   \n",
       "3  XRYDMMOPQTWUSE-UHFFFAOYSA-N   \n",
       "4  GFORFEKVQXJTEI-UHFFFAOYSA-N   \n",
       "\n",
       "                                               input   outcome  \\\n",
       "0            CC1CCCN1CCc1cc2cc(-c3cncc(C#N)c3)ccc2o1  0.926568   \n",
       "1            COc1ncc(-c2ccc(C3CC(N4CCCC4C)C3)cc2)cn1  0.975248   \n",
       "2            COc1ncc(-c2ccc3cc(CCN4CCCC4C)ccc3c2)cn1  0.962871   \n",
       "3                CC1CCCN1C1CC(c2ccc(-c3cncnc3)cc2)C1  0.980198   \n",
       "4  O=C1NCN(c2ccccc2)C12CC[N+](CCCC(c1ccc(F)cc1)c1...  0.940594   \n",
       "\n",
       "   Predicted classification  \n",
       "0                         1  \n",
       "1                         1  \n",
       "2                         1  \n",
       "3                         1  \n",
       "4                         1  "
      ]
     },
     "execution_count": 26,
     "metadata": {},
     "output_type": "execute_result"
    }
   ],
   "source": [
    "df['Predicted classification'] = np.where(df['outcome'] >= 0.5, 1, 0)\n",
    "df.head()"
   ]
  },
  {
   "cell_type": "markdown",
   "id": "76a01d09-0612-427b-830a-c3536cbf6a14",
   "metadata": {},
   "source": [
    "## Number of blockers and non-blockers in the predictions"
   ]
  },
  {
   "cell_type": "code",
   "execution_count": 27,
   "id": "4123df6f-5281-4348-9eb5-cb9542053a65",
   "metadata": {},
   "outputs": [
    {
     "name": "stdout",
     "output_type": "stream",
     "text": [
      "+----------+--------+------------+\n",
      "| Blockers | Number | Percentage |\n",
      "+----------+--------+------------+\n",
      "|   Yes    |  378   |   67.26%   |\n",
      "|    No    |  184   |   32.74%   |\n",
      "+----------+--------+------------+\n"
     ]
    }
   ],
   "source": [
    "# Calculate classification counts\n",
    "prediction_classification_counts = df['Predicted classification'].value_counts()\n",
    "\n",
    "# Calculate percentage of classification counts\n",
    "total_count = prediction_classification_counts.sum()\n",
    "percentage = (prediction_classification_counts / total_count) * 100\n",
    "\n",
    "# Create PrettyTable\n",
    "prediction_table = PrettyTable()\n",
    "prediction_table.field_names = ['Blockers', 'Number', 'Percentage']\n",
    "\n",
    "# Add rows to the table\n",
    "prediction_table.add_row(['Yes', prediction_classification_counts[1], f\"{percentage[1]:.2f}%\"])\n",
    "prediction_table.add_row(['No', prediction_classification_counts[0], f\"{percentage[0]:.2f}%\"])\n",
    "\n",
    "# Print the table\n",
    "print(prediction_table)"
   ]
  },
  {
   "cell_type": "markdown",
   "id": "1b90dad8-2761-43f0-af20-1c23a4064349",
   "metadata": {},
   "source": [
    "We can see that the percentage of blockers and non-blockers in the predictions differ significantly from the external dataset. This means that the model cannot be validated. We will now proceed and find the performance metrics."
   ]
  },
  {
   "cell_type": "markdown",
   "id": "a9143227-36a1-43f4-b42c-cc9ce5d8214d",
   "metadata": {},
   "source": [
    "# Checking performance metrics"
   ]
  },
  {
   "cell_type": "markdown",
   "id": "4cbe6ebd-82cd-4684-8321-597df94cdea0",
   "metadata": {},
   "source": [
    "## Defining true labels and predicted labels"
   ]
  },
  {
   "cell_type": "code",
   "execution_count": 28,
   "id": "2ee811ee-a3b2-4055-a9d4-8b967f62c990",
   "metadata": {},
   "outputs": [],
   "source": [
    "true_labels = external_data_filtered['experimental_value']\n",
    "predicted_labels = df['Predicted classification']"
   ]
  },
  {
   "cell_type": "markdown",
   "id": "4b9d4a89-e3c6-4bb3-ac34-b31a1ce1e941",
   "metadata": {},
   "source": [
    "## Calculating confusion matrix"
   ]
  },
  {
   "cell_type": "code",
   "execution_count": 29,
   "id": "aedc5018-9c78-4f25-9c4d-b7552c8aa289",
   "metadata": {},
   "outputs": [],
   "source": [
    "cm = confusion_matrix(true_labels, predicted_labels)\n",
    "\n",
    "# Extract TP, TN, FP, FN\n",
    "TP = cm[1, 1]\n",
    "TN = cm[0, 0]\n",
    "FP = cm[0, 1]\n",
    "FN = cm[1, 0]"
   ]
  },
  {
   "cell_type": "markdown",
   "id": "251b4327-5ab5-49a9-8e35-63a7f5d448ee",
   "metadata": {},
   "source": [
    "## Calculating performance metrics"
   ]
  },
  {
   "cell_type": "code",
   "execution_count": 30,
   "id": "a94f3ede-a724-474e-b57e-1afe1c0de60c",
   "metadata": {},
   "outputs": [],
   "source": [
    "# Calculate accuracy\n",
    "accuracy = accuracy_score(true_labels, predicted_labels)\n",
    "\n",
    "# Calculate precision\n",
    "precision = precision_score(true_labels, predicted_labels)\n",
    "\n",
    "# Calculate recall (sensitivity)\n",
    "recall = recall_score(true_labels, predicted_labels)\n",
    "\n",
    "# Calculate specificity\n",
    "specificity = TN / (TN + FP)\n",
    "\n",
    "# Calculate F1 score\n",
    "f1 = f1_score(true_labels, predicted_labels)\n",
    "\n",
    "# Calculate AUROC\n",
    "auroc = roc_auc_score(true_labels, predicted_labels)"
   ]
  },
  {
   "cell_type": "markdown",
   "id": "55b9234f-d4a6-46d5-bf3e-36580df3ae1a",
   "metadata": {},
   "source": [
    "## Plotting Confusion Matrix"
   ]
  },
  {
   "cell_type": "code",
   "execution_count": 31,
   "id": "724893ac-8c8c-4240-844b-5248febed53f",
   "metadata": {},
   "outputs": [
    {
     "data": {
      "image/png": "[encoded data removed]",
      "text/plain": [
       "<Figure size 800x600 with 1 Axes>"
      ]
     },
     "metadata": {},
     "output_type": "display_data"
    }
   ],
   "source": [
    "plt.figure(figsize=(8, 6))\n",
    "sns.heatmap(cm, annot=True, fmt=\"d\", cmap=\"Blues\", cbar=False,\n",
    "            xticklabels=[\"No Blocker\", \"Blocker\"],\n",
    "            yticklabels=[\"No Blocker\", \"Blocker\"])\n",
    "plt.title(\"Confusion Matrix\")\n",
    "plt.xlabel(\"Predicted Label\")\n",
    "plt.ylabel(\"True Label\")\n",
    "#Save the plot\n",
    "figure_path = '../figures/external_validation/confusion_matrix.png'\n",
    "plt.savefig(figure_path)\n",
    "plt.show()"
   ]
  },
  {
   "cell_type": "markdown",
   "id": "0642cc4e-7d90-4c20-8ec1-2f2856005154",
   "metadata": {},
   "source": [
    "## Accuracy, Precision, Recall, F1 Score, AUROC"
   ]
  },
  {
   "cell_type": "code",
   "execution_count": 32,
   "id": "aab4a89d-38df-4570-8e6a-b2268c9da613",
   "metadata": {},
   "outputs": [
    {
     "name": "stdout",
     "output_type": "stream",
     "text": [
      "+--------+----------+-----------+--------+-------------+----------+--------+\n",
      "| Metric | Accuracy | Precision | Recall | Specificity | F1 Score | AUROC  |\n",
      "+--------+----------+-----------+--------+-------------+----------+--------+\n",
      "| Value  |  0.5463  |   0.3254  |  1.0   |    0.4191   |  0.491   | 0.7096 |\n",
      "+--------+----------+-----------+--------+-------------+----------+--------+\n"
     ]
    }
   ],
   "source": [
    "metrics_table = PrettyTable()\n",
    "metrics_table.field_names = [\"Metric\", \"Value\"]\n",
    "metrics_table.add_row([\"Accuracy\", round(accuracy, 4)])\n",
    "metrics_table.add_row([\"Precision\", round(precision, 4)])\n",
    "metrics_table.add_row([\"Recall\", round(recall, 4)])\n",
    "metrics_table.add_row([\"Specificity\", round(specificity, 4)])\n",
    "metrics_table.add_row([\"F1 Score\", round(f1, 4)])\n",
    "metrics_table.add_row([\"AUROC\", round(auroc, 4)])\n",
    "\n",
    "# Transpose the table\n",
    "metrics_table_transposed = PrettyTable([\"Metric\", \"Accuracy\", \"Precision\", \"Recall\", \"Specificity\", \"F1 Score\", \"AUROC\"])\n",
    "metrics_table_transposed.add_row([\"Value\"] + [round(accuracy, 4), round(precision, 4), round(recall, 4),\n",
    "                                             round(specificity, 4), round(f1, 4), round(auroc, 4)])\n",
    "\n",
    "# Print the transposed table\n",
    "print(metrics_table_transposed)"
   ]
  },
  {
   "cell_type": "markdown",
   "id": "9f2675a2-bafd-4405-a98b-5a00399747d0",
   "metadata": {},
   "source": [
    "## Plotting AUROC Curve"
   ]
  },
  {
   "cell_type": "code",
   "execution_count": 33,
   "id": "16f06a6a-0174-4cb7-9b90-a1391b0d917d",
   "metadata": {},
   "outputs": [
    {
     "data": {
      "image/png": "[encoded data removed]",
      "text/plain": [
       "<Figure size 800x600 with 1 Axes>"
      ]
     },
     "metadata": {},
     "output_type": "display_data"
    }
   ],
   "source": [
    "fpr, tpr, thresholds = roc_curve(true_labels, predicted_labels)\n",
    "auc = roc_auc_score(true_labels, predicted_labels)\n",
    "\n",
    "# Plot AUROC curve\n",
    "plt.figure(figsize=(8, 6))\n",
    "plt.plot(fpr, tpr, color='blue', lw=2, label='AUROC = %0.2f' % auc)\n",
    "plt.plot([0, 1], [0, 1], color='gray', linestyle='--')\n",
    "plt.xlim([0.0, 1.0])\n",
    "plt.ylim([0.0, 1.05])\n",
    "plt.xlabel('False Positive Rate (1 - Specificity)')\n",
    "plt.ylabel('True Positive Rate (Sensitivity)')\n",
    "plt.title('Receiver Operating Characteristic (ROC) Curve')\n",
    "plt.legend(loc=\"lower right\")\n",
    "plt.grid(True)\n",
    "#Save the plot\n",
    "figure_path = '../figures/external_validation/auroc_curve.png'\n",
    "plt.savefig(figure_path)\n",
    "plt.show()"
   ]
  },
  {
   "cell_type": "markdown",
   "id": "c0db04db-a18c-43c6-a52f-b62339c5f17b",
   "metadata": {},
   "source": [
    "# Conclusion"
   ]
  },
  {
   "cell_type": "markdown",
   "id": "e11ac3b0-97e5-4871-b055-905c91c83934",
   "metadata": {},
   "source": [
    "- Accuracy: The model's overall accuracy is 54.63%, indicating that it correctly predicts the outcome for approximately 54.63% of the samples.\n",
    "\n",
    "- Precision: The precision of the model is 32.54%, meaning that when it predicts a molecule as a blocker, it is correct only 32.54% of the time.\n",
    "\n",
    "- Recall: The recall rate is 100%, indicating that the model correctly identifies all blockers in the dataset. This suggests that the model effectively captures all positive instances but may have a high rate of false positives.\n",
    "\n",
    "- Specificity: The specificity of the model is 41.91%, indicating that it correctly identifies non-blockers around 41.91% of the time.\n",
    "\n",
    "- F1 Score: The F1 score, which is the harmonic mean of precision and recall, is 0.491, providing a balanced measure of the model's performance.\n",
    "\n",
    "- AUROC: The area under the receiver operating characteristic curve (AUROC) is 0.7096, which suggests that the model performs moderately well in classifying instances into the correct classes. The model may not be as reliable as desired in certain contexts, and there may be areas where it struggles to correctly classify instances.\n",
    "\n",
    "__These metrics suggest that the model is not able to validate the results of the external dataset.__"
   ]
  },
  {
   "cell_type": "code",
   "execution_count": null,
   "id": "762d1cec-06f7-43c7-bbb5-f6642b922392",
   "metadata": {},
   "outputs": [],
   "source": []
  }
 ],
 "metadata": {
  "kernelspec": {
   "display_name": "Python 3 (ipykernel)",
   "language": "python",
   "name": "python3"
  },
  "language_info": {
   "codemirror_mode": {
    "name": "ipython",
    "version": 3
   },
   "file_extension": ".py",
   "mimetype": "text/x-python",
   "name": "python",
   "nbconvert_exporter": "python",
   "pygments_lexer": "ipython3",
   "version": "3.10.13"
  }
 },
 "nbformat": 4,
 "nbformat_minor": 5
}
