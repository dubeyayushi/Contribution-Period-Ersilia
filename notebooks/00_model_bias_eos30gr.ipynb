{
 "cells": [
  {
   "cell_type": "markdown",
   "id": "e01b3926-90c5-4e32-a7cb-32921de110f5",
   "metadata": {},
   "source": [
    "`Created by Ayushi Dubey`"
   ]
  },
  {
   "cell_type": "markdown",
   "id": "0a62992d-6d8b-41b7-9015-29d64245ae84",
   "metadata": {},
   "source": [
    "**Task T1 Model bias (i.e: models giving very high values or low values):** to check that, we only need to run predictions for a list of 1000 diverse molecules in each model and plot the results in a scatter plot."
   ]
  },
  {
   "cell_type": "markdown",
   "id": "0026c248-d2b0-40e4-ba7f-5fe0ce3a734c",
   "metadata": {},
   "source": [
    "**Task Description:**\n",
    "\n",
    "__Pick a model from the list:__\n",
    "\n",
    "hERG Models:\n",
    "\n",
    "1. [eos2ta5](https://github.com/ersilia-os/eos2ta5)\n",
    "\n",
    "2. [eos30f3](https://github.com/ersilia-os/eos30f3)\n",
    "\n",
    "3. [eos30gr](https://github.com/ersilia-os/eos30gr)\n",
    "\n",
    "4. [eos4tcc](https://github.com/ersilia-os/eos4tcc)\n",
    "\n",
    "ADME Models:\n",
    "\n",
    "1. [eos74bo](https://github.com/ersilia-os/eos74bo)\n",
    "\n",
    "2. [eos31ve](https://github.com/ersilia-os/eos31ve)\n",
    "\n",
    "3. [eos9tyg](https://github.com/ersilia-os/eos9tyg)\n",
    "\n",
    "4. [eos6oli](https://github.com/ersilia-os/eos6oli)\n",
    "\n",
    "- Using [this](https://github.com/GemmaTuron/model-validation-example/tree/main) repository as an example, create a repository in your GitHub account with the appropriate structure (for example, the repository will contain a README file that will explain what is in there, steps to run/reproduce your work, the necessary datasets and folders, licenses and gitignore files)\n",
    "\n",
    "- Download and run the selected model from Ersilia and make sure it works\n",
    "\n",
    "- Select a list of 1000 molecules from public repositories and make sure they are represented as standard SMILES \n",
    "\n",
    "- Run predictions for the 1000 molecules, create the necessary plots and explain the results you are obtaining"
   ]
  },
  {
   "cell_type": "markdown",
   "id": "c30c06e5-4d9e-452b-9a0d-4425e9d6d01c",
   "metadata": {},
   "source": [
    "**Model Chosen :** eos30gr"
   ]
  },
  {
   "cell_type": "markdown",
   "id": "58aedb17-5be3-42cd-9611-355aa5e32fec",
   "metadata": {},
   "source": [
    "# Importing Necessary Libraries"
   ]
  },
  {
   "cell_type": "markdown",
   "id": "e4eb0bbb-a680-4df0-aa48-3907b0d92852",
   "metadata": {},
   "source": [
    "All the necessary libraries used in the notebook are imported in the below cell. The functions - `standardise_smiles` and `standardise_inchikey` described in the `src` directory are also imported below."
   ]
  },
  {
   "cell_type": "code",
   "execution_count": 1,
   "id": "8ae596bb-957a-4135-869e-5de836891a02",
   "metadata": {},
   "outputs": [],
   "source": [
    "import pandas as pd\n",
    "import numpy as np\n",
    "import seaborn as sns\n",
    "import matplotlib.pyplot as plt\n",
    "import matplotlib.patches as mpatches\n",
    "import matplotlib.colors as mcolors\n",
    "from rdkit import Chem\n",
    "from rdkit.Chem import AllChem\n",
    "from sklearn.decomposition import PCA\n",
    "import sys\n",
    "sys.path.append('../src')\n",
    "from smiles_processing import standardise_smiles\n",
    "from inchikey_processing import standardise_inchikey"
   ]
  },
  {
   "cell_type": "markdown",
   "id": "7b00c479-b824-496a-a5e4-6621e09d7c62",
   "metadata": {},
   "source": [
    "# Data Preprocessing"
   ]
  },
  {
   "cell_type": "markdown",
   "id": "648ab3ba-c423-4c40-9882-eeb8def6c1c5",
   "metadata": {},
   "source": [
    "The dataset was downloaded from ChEMBL in tsv format. Dataset contains 8715 entries. Thus, it is preprocessed to check for null or irrelevant data and satisfy the required format."
   ]
  },
  {
   "cell_type": "markdown",
   "id": "f6d84ccb-9ab2-4208-9aca-e4873bba1d5a",
   "metadata": {},
   "source": [
    "## Reading the raw data"
   ]
  },
  {
   "cell_type": "code",
   "execution_count": 2,
   "id": "e519a120-4ba3-4d4d-9089-10dc154565c1",
   "metadata": {},
   "outputs": [],
   "source": [
    "df = pd.read_csv('../data/raw_data.tsv', delimiter='\\t')"
   ]
  },
  {
   "cell_type": "markdown",
   "id": "56bff5b6-17c1-422b-ada4-024500e23ed9",
   "metadata": {},
   "source": [
    "## Exploring the raw data"
   ]
  },
  {
   "cell_type": "code",
   "execution_count": 3,
   "id": "58be537f-7ea0-40af-90ac-ef1dfe8b5826",
   "metadata": {},
   "outputs": [
    {
     "data": {
      "text/html": [
       "<div>\n",
       "<style scoped>\n",
       "    .dataframe tbody tr th:only-of-type {\n",
       "        vertical-align: middle;\n",
       "    }\n",
       "\n",
       "    .dataframe tbody tr th {\n",
       "        vertical-align: top;\n",
       "    }\n",
       "\n",
       "    .dataframe thead th {\n",
       "        text-align: right;\n",
       "    }\n",
       "</style>\n",
       "<table border=\"1\" class=\"dataframe\">\n",
       "  <thead>\n",
       "    <tr style=\"text-align: right;\">\n",
       "      <th></th>\n",
       "      <th>ChEMBL ID</th>\n",
       "      <th>Name</th>\n",
       "      <th>Synonyms</th>\n",
       "      <th>Type</th>\n",
       "      <th>Max Phase</th>\n",
       "      <th>Molecular Weight</th>\n",
       "      <th>Targets</th>\n",
       "      <th>Bioactivities</th>\n",
       "      <th>AlogP</th>\n",
       "      <th>Polar Surface Area</th>\n",
       "      <th>...</th>\n",
       "      <th>Heavy Atoms</th>\n",
       "      <th>HBA (Lipinski)</th>\n",
       "      <th>HBD (Lipinski)</th>\n",
       "      <th>#RO5 Violations (Lipinski)</th>\n",
       "      <th>Molecular Weight (Monoisotopic)</th>\n",
       "      <th>Np Likeness Score</th>\n",
       "      <th>Molecular Species</th>\n",
       "      <th>Molecular Formula</th>\n",
       "      <th>Smiles</th>\n",
       "      <th>Inchi Key</th>\n",
       "    </tr>\n",
       "  </thead>\n",
       "  <tbody>\n",
       "    <tr>\n",
       "      <th>0</th>\n",
       "      <td>CHEMBL1964670</td>\n",
       "      <td>NaN</td>\n",
       "      <td>NaN</td>\n",
       "      <td>Small molecule</td>\n",
       "      <td>NaN</td>\n",
       "      <td>132.16</td>\n",
       "      <td>53.0</td>\n",
       "      <td>53.0</td>\n",
       "      <td>0.32</td>\n",
       "      <td>46.53</td>\n",
       "      <td>...</td>\n",
       "      <td>9</td>\n",
       "      <td>3</td>\n",
       "      <td>1</td>\n",
       "      <td>0</td>\n",
       "      <td>132.0786</td>\n",
       "      <td>0.45</td>\n",
       "      <td>NEUTRAL</td>\n",
       "      <td>C6H12O3</td>\n",
       "      <td>CCOC(=O)CCCO</td>\n",
       "      <td>AYPJVXQBVHCUCJ-UHFFFAOYSA-N</td>\n",
       "    </tr>\n",
       "    <tr>\n",
       "      <th>1</th>\n",
       "      <td>CHEMBL3120732</td>\n",
       "      <td>NaN</td>\n",
       "      <td>NaN</td>\n",
       "      <td>Small molecule</td>\n",
       "      <td>NaN</td>\n",
       "      <td>198.27</td>\n",
       "      <td>2.0</td>\n",
       "      <td>3.0</td>\n",
       "      <td>0.57</td>\n",
       "      <td>58.20</td>\n",
       "      <td>...</td>\n",
       "      <td>14</td>\n",
       "      <td>4</td>\n",
       "      <td>2</td>\n",
       "      <td>0</td>\n",
       "      <td>198.1368</td>\n",
       "      <td>-0.39</td>\n",
       "      <td>NEUTRAL</td>\n",
       "      <td>C10H18N2O2</td>\n",
       "      <td>CC(=O)NC1CCC(NC(C)=O)CC1</td>\n",
       "      <td>TVILGUBKPIUIFC-UHFFFAOYSA-N</td>\n",
       "    </tr>\n",
       "    <tr>\n",
       "      <th>2</th>\n",
       "      <td>CHEMBL44100</td>\n",
       "      <td>NaN</td>\n",
       "      <td>NaN</td>\n",
       "      <td>Small molecule</td>\n",
       "      <td>NaN</td>\n",
       "      <td>179.18</td>\n",
       "      <td>5.0</td>\n",
       "      <td>5.0</td>\n",
       "      <td>0.72</td>\n",
       "      <td>80.36</td>\n",
       "      <td>...</td>\n",
       "      <td>13</td>\n",
       "      <td>5</td>\n",
       "      <td>4</td>\n",
       "      <td>0</td>\n",
       "      <td>179.0695</td>\n",
       "      <td>-0.51</td>\n",
       "      <td>BASE</td>\n",
       "      <td>C8H9N3O2</td>\n",
       "      <td>N=C(N)Nc1ccc2c(c1)OCO2</td>\n",
       "      <td>OZINHCFSCQEUPW-UHFFFAOYSA-N</td>\n",
       "    </tr>\n",
       "    <tr>\n",
       "      <th>3</th>\n",
       "      <td>CHEMBL111759</td>\n",
       "      <td>NaN</td>\n",
       "      <td>N-Prenyl Agmatine</td>\n",
       "      <td>Small molecule</td>\n",
       "      <td>NaN</td>\n",
       "      <td>198.31</td>\n",
       "      <td>3.0</td>\n",
       "      <td>11.0</td>\n",
       "      <td>0.81</td>\n",
       "      <td>73.93</td>\n",
       "      <td>...</td>\n",
       "      <td>14</td>\n",
       "      <td>4</td>\n",
       "      <td>5</td>\n",
       "      <td>0</td>\n",
       "      <td>198.1844</td>\n",
       "      <td>1.25</td>\n",
       "      <td>BASE</td>\n",
       "      <td>C10H22N4</td>\n",
       "      <td>CC(C)=CCNC(=N)NCCCCN</td>\n",
       "      <td>VACJHYSOFQSYAC-UHFFFAOYSA-N</td>\n",
       "    </tr>\n",
       "    <tr>\n",
       "      <th>4</th>\n",
       "      <td>CHEMBL1968584</td>\n",
       "      <td>NaN</td>\n",
       "      <td>NaN</td>\n",
       "      <td>Small molecule</td>\n",
       "      <td>NaN</td>\n",
       "      <td>140.14</td>\n",
       "      <td>56.0</td>\n",
       "      <td>56.0</td>\n",
       "      <td>0.75</td>\n",
       "      <td>54.37</td>\n",
       "      <td>...</td>\n",
       "      <td>10</td>\n",
       "      <td>3</td>\n",
       "      <td>1</td>\n",
       "      <td>0</td>\n",
       "      <td>140.0473</td>\n",
       "      <td>0.47</td>\n",
       "      <td>ACID</td>\n",
       "      <td>C7H8O3</td>\n",
       "      <td>CC(O)=C1C(=O)CCC1=O</td>\n",
       "      <td>AJIYRXFNAHUXKP-UHFFFAOYSA-N</td>\n",
       "    </tr>\n",
       "  </tbody>\n",
       "</table>\n",
       "<p>5 rows × 33 columns</p>\n",
       "</div>"
      ],
      "text/plain": [
       "       ChEMBL ID Name           Synonyms            Type  Max Phase  \\\n",
       "0  CHEMBL1964670  NaN                NaN  Small molecule        NaN   \n",
       "1  CHEMBL3120732  NaN                NaN  Small molecule        NaN   \n",
       "2    CHEMBL44100  NaN                NaN  Small molecule        NaN   \n",
       "3   CHEMBL111759  NaN  N-Prenyl Agmatine  Small molecule        NaN   \n",
       "4  CHEMBL1968584  NaN                NaN  Small molecule        NaN   \n",
       "\n",
       "   Molecular Weight  Targets  Bioactivities  AlogP  Polar Surface Area  ...  \\\n",
       "0            132.16     53.0           53.0   0.32               46.53  ...   \n",
       "1            198.27      2.0            3.0   0.57               58.20  ...   \n",
       "2            179.18      5.0            5.0   0.72               80.36  ...   \n",
       "3            198.31      3.0           11.0   0.81               73.93  ...   \n",
       "4            140.14     56.0           56.0   0.75               54.37  ...   \n",
       "\n",
       "   Heavy Atoms  HBA (Lipinski)  HBD (Lipinski)  #RO5 Violations (Lipinski)  \\\n",
       "0            9               3               1                           0   \n",
       "1           14               4               2                           0   \n",
       "2           13               5               4                           0   \n",
       "3           14               4               5                           0   \n",
       "4           10               3               1                           0   \n",
       "\n",
       "  Molecular Weight (Monoisotopic)  Np Likeness Score Molecular Species  \\\n",
       "0                        132.0786               0.45           NEUTRAL   \n",
       "1                        198.1368              -0.39           NEUTRAL   \n",
       "2                        179.0695              -0.51              BASE   \n",
       "3                        198.1844               1.25              BASE   \n",
       "4                        140.0473               0.47              ACID   \n",
       "\n",
       "  Molecular Formula                    Smiles                    Inchi Key  \n",
       "0           C6H12O3              CCOC(=O)CCCO  AYPJVXQBVHCUCJ-UHFFFAOYSA-N  \n",
       "1        C10H18N2O2  CC(=O)NC1CCC(NC(C)=O)CC1  TVILGUBKPIUIFC-UHFFFAOYSA-N  \n",
       "2          C8H9N3O2    N=C(N)Nc1ccc2c(c1)OCO2  OZINHCFSCQEUPW-UHFFFAOYSA-N  \n",
       "3          C10H22N4      CC(C)=CCNC(=N)NCCCCN  VACJHYSOFQSYAC-UHFFFAOYSA-N  \n",
       "4            C7H8O3       CC(O)=C1C(=O)CCC1=O  AJIYRXFNAHUXKP-UHFFFAOYSA-N  \n",
       "\n",
       "[5 rows x 33 columns]"
      ]
     },
     "execution_count": 3,
     "metadata": {},
     "output_type": "execute_result"
    }
   ],
   "source": [
    "df.head()"
   ]
  },
  {
   "cell_type": "code",
   "execution_count": 4,
   "id": "3bca1ae0-b1f1-4ccd-994c-1c19ee9ece56",
   "metadata": {},
   "outputs": [
    {
     "name": "stdout",
     "output_type": "stream",
     "text": [
      "<class 'pandas.core.frame.DataFrame'>\n",
      "RangeIndex: 8715 entries, 0 to 8714\n",
      "Data columns (total 33 columns):\n",
      " #   Column                           Non-Null Count  Dtype  \n",
      "---  ------                           --------------  -----  \n",
      " 0   ChEMBL ID                        8715 non-null   object \n",
      " 1   Name                             670 non-null    object \n",
      " 2   Synonyms                         1168 non-null   object \n",
      " 3   Type                             8715 non-null   object \n",
      " 4   Max Phase                        243 non-null    float64\n",
      " 5   Molecular Weight                 8715 non-null   float64\n",
      " 6   Targets                          7689 non-null   float64\n",
      " 7   Bioactivities                    7689 non-null   float64\n",
      " 8   AlogP                            8715 non-null   float64\n",
      " 9   Polar Surface Area               8715 non-null   float64\n",
      " 10  HBA                              8715 non-null   int64  \n",
      " 11  HBD                              8715 non-null   int64  \n",
      " 12  #RO5 Violations                  8715 non-null   int64  \n",
      " 13  #Rotatable Bonds                 8715 non-null   int64  \n",
      " 14  Passes Ro3                       8715 non-null   object \n",
      " 15  QED Weighted                     8715 non-null   float64\n",
      " 16  CX Acidic pKa                    8715 non-null   object \n",
      " 17  CX Basic pKa                     8715 non-null   object \n",
      " 18  CX LogP                          8715 non-null   float64\n",
      " 19  CX LogD                          8715 non-null   float64\n",
      " 20  Aromatic Rings                   8715 non-null   int64  \n",
      " 21  Structure Type                   8715 non-null   object \n",
      " 22  Inorganic Flag                   8715 non-null   int64  \n",
      " 23  Heavy Atoms                      8715 non-null   int64  \n",
      " 24  HBA (Lipinski)                   8715 non-null   int64  \n",
      " 25  HBD (Lipinski)                   8715 non-null   int64  \n",
      " 26  #RO5 Violations (Lipinski)       8715 non-null   int64  \n",
      " 27  Molecular Weight (Monoisotopic)  8715 non-null   float64\n",
      " 28  Np Likeness Score                8715 non-null   float64\n",
      " 29  Molecular Species                8715 non-null   object \n",
      " 30  Molecular Formula                8715 non-null   object \n",
      " 31  Smiles                           8715 non-null   object \n",
      " 32  Inchi Key                        8715 non-null   object \n",
      "dtypes: float64(11), int64(10), object(12)\n",
      "memory usage: 2.2+ MB\n"
     ]
    }
   ],
   "source": [
    "df.info()"
   ]
  },
  {
   "cell_type": "markdown",
   "id": "a04b3f01-03d4-4b13-b4d0-c8802401e0b4",
   "metadata": {},
   "source": [
    "We only require the `Smiles` and `Inchi Key` columns for further analysis. So we remove all the other columns except these."
   ]
  },
  {
   "cell_type": "code",
   "execution_count": 5,
   "id": "41a89209-0695-4c46-8dce-317fd4ea032b",
   "metadata": {},
   "outputs": [],
   "source": [
    "selected_columns = ['Smiles', 'Inchi Key']\n",
    "df = df.loc[:, selected_columns]"
   ]
  },
  {
   "cell_type": "code",
   "execution_count": 6,
   "id": "283bda1a-cde9-44c5-88ea-9d764e828680",
   "metadata": {},
   "outputs": [
    {
     "data": {
      "text/html": [
       "<div>\n",
       "<style scoped>\n",
       "    .dataframe tbody tr th:only-of-type {\n",
       "        vertical-align: middle;\n",
       "    }\n",
       "\n",
       "    .dataframe tbody tr th {\n",
       "        vertical-align: top;\n",
       "    }\n",
       "\n",
       "    .dataframe thead th {\n",
       "        text-align: right;\n",
       "    }\n",
       "</style>\n",
       "<table border=\"1\" class=\"dataframe\">\n",
       "  <thead>\n",
       "    <tr style=\"text-align: right;\">\n",
       "      <th></th>\n",
       "      <th>Smiles</th>\n",
       "      <th>Inchi Key</th>\n",
       "    </tr>\n",
       "  </thead>\n",
       "  <tbody>\n",
       "    <tr>\n",
       "      <th>0</th>\n",
       "      <td>CCOC(=O)CCCO</td>\n",
       "      <td>AYPJVXQBVHCUCJ-UHFFFAOYSA-N</td>\n",
       "    </tr>\n",
       "    <tr>\n",
       "      <th>1</th>\n",
       "      <td>CC(=O)NC1CCC(NC(C)=O)CC1</td>\n",
       "      <td>TVILGUBKPIUIFC-UHFFFAOYSA-N</td>\n",
       "    </tr>\n",
       "    <tr>\n",
       "      <th>2</th>\n",
       "      <td>N=C(N)Nc1ccc2c(c1)OCO2</td>\n",
       "      <td>OZINHCFSCQEUPW-UHFFFAOYSA-N</td>\n",
       "    </tr>\n",
       "    <tr>\n",
       "      <th>3</th>\n",
       "      <td>CC(C)=CCNC(=N)NCCCCN</td>\n",
       "      <td>VACJHYSOFQSYAC-UHFFFAOYSA-N</td>\n",
       "    </tr>\n",
       "    <tr>\n",
       "      <th>4</th>\n",
       "      <td>CC(O)=C1C(=O)CCC1=O</td>\n",
       "      <td>AJIYRXFNAHUXKP-UHFFFAOYSA-N</td>\n",
       "    </tr>\n",
       "  </tbody>\n",
       "</table>\n",
       "</div>"
      ],
      "text/plain": [
       "                     Smiles                    Inchi Key\n",
       "0              CCOC(=O)CCCO  AYPJVXQBVHCUCJ-UHFFFAOYSA-N\n",
       "1  CC(=O)NC1CCC(NC(C)=O)CC1  TVILGUBKPIUIFC-UHFFFAOYSA-N\n",
       "2    N=C(N)Nc1ccc2c(c1)OCO2  OZINHCFSCQEUPW-UHFFFAOYSA-N\n",
       "3      CC(C)=CCNC(=N)NCCCCN  VACJHYSOFQSYAC-UHFFFAOYSA-N\n",
       "4       CC(O)=C1C(=O)CCC1=O  AJIYRXFNAHUXKP-UHFFFAOYSA-N"
      ]
     },
     "execution_count": 6,
     "metadata": {},
     "output_type": "execute_result"
    }
   ],
   "source": [
    "df.head()"
   ]
  },
  {
   "cell_type": "code",
   "execution_count": 7,
   "id": "c157858d-ceb6-4693-8fea-7f7838c6e698",
   "metadata": {},
   "outputs": [
    {
     "name": "stdout",
     "output_type": "stream",
     "text": [
      "<class 'pandas.core.frame.DataFrame'>\n",
      "RangeIndex: 8715 entries, 0 to 8714\n",
      "Data columns (total 2 columns):\n",
      " #   Column     Non-Null Count  Dtype \n",
      "---  ------     --------------  ----- \n",
      " 0   Smiles     8715 non-null   object\n",
      " 1   Inchi Key  8715 non-null   object\n",
      "dtypes: object(2)\n",
      "memory usage: 136.3+ KB\n"
     ]
    }
   ],
   "source": [
    "df.info()"
   ]
  },
  {
   "cell_type": "markdown",
   "id": "6fe34af1-b218-47b3-a4de-6da76435c64b",
   "metadata": {},
   "source": [
    "# Standardising Smiles and Inchi Key"
   ]
  },
  {
   "cell_type": "markdown",
   "id": "28e39e52-299e-48f1-9ec7-4491c89a2968",
   "metadata": {},
   "source": [
    "We standardise both `Smiles` and `InChiKeys` of the molecules using the functions described in the `src` directory"
   ]
  },
  {
   "cell_type": "code",
   "execution_count": null,
   "id": "3ae0238d-70e9-4b47-b305-6d2dfe2f0926",
   "metadata": {},
   "outputs": [
    {
     "name": "stderr",
     "output_type": "stream",
     "text": [
      "[13:31:47] Can't kekulize mol.  Unkekulized atoms: 3 5\n",
      "[13:31:48] Can't kekulize mol.  Unkekulized atoms: 3 9\n",
      "[13:31:48] Can't kekulize mol.  Unkekulized atoms: 3 9\n",
      "[13:31:48] Can't kekulize mol.  Unkekulized atoms: 3 5\n",
      "[13:31:48] Can't kekulize mol.  Unkekulized atoms: 3 7\n",
      "[13:31:48] Can't kekulize mol.  Unkekulized atoms: 3 6\n",
      "[13:31:48] Can't kekulize mol.  Unkekulized atoms: 3 7\n",
      "[13:31:48] Can't kekulize mol.  Unkekulized atoms: 3 7\n",
      "[13:31:49] Can't kekulize mol.  Unkekulized atoms: 2 5 9 10 11 12\n",
      "[13:31:49] Can't kekulize mol.  Unkekulized atoms: 2 5 10 11 12 13\n",
      "[13:31:49] Can't kekulize mol.  Unkekulized atoms: 3 6\n",
      "[13:31:49] Can't kekulize mol.  Unkekulized atoms: 3 5\n",
      "[13:31:49] Can't kekulize mol.  Unkekulized atoms: 3 7\n",
      "[13:31:49] Can't kekulize mol.  Unkekulized atoms: 3 7\n",
      "[13:31:49] Can't kekulize mol.  Unkekulized atoms: 3 7\n"
     ]
    }
   ],
   "source": [
    "smiles_list = df['Smiles'].tolist()\n",
    "standardised_smiles_list = standardise_smiles(smiles_list)\n",
    "df['standardised_smiles'] = standardised_smiles_list\n",
    "df"
   ]
  },
  {
   "cell_type": "code",
   "execution_count": null,
   "id": "69054de0-d87c-4700-8747-a8bafdb3cabd",
   "metadata": {},
   "outputs": [],
   "source": [
    "df.info()"
   ]
  },
  {
   "cell_type": "markdown",
   "id": "e9f9e7e2-1455-4cf2-a2a2-7580bbfb7862",
   "metadata": {},
   "source": [
    "Since few molecules could not be kekulized, we remove those rows from our dataset as they contain `NULL` entries in the `standardised_smiles` column."
   ]
  },
  {
   "cell_type": "code",
   "execution_count": null,
   "id": "3806c8df-2061-4dba-981e-a731027c3f69",
   "metadata": {},
   "outputs": [],
   "source": [
    "df.dropna(inplace=True)\n",
    "df.reset_index(drop=True, inplace=True)\n",
    "df"
   ]
  },
  {
   "cell_type": "code",
   "execution_count": null,
   "id": "0bcaa3fd-558c-4ced-b1f4-670cd012cdc5",
   "metadata": {},
   "outputs": [],
   "source": [
    "df.info()"
   ]
  },
  {
   "cell_type": "markdown",
   "id": "1bb0105e-c7d4-4363-ab3c-4d8c0b05e709",
   "metadata": {},
   "source": [
    "We standardise the `Inchi Key` column also using the function described in the `src` directory."
   ]
  },
  {
   "cell_type": "code",
   "execution_count": null,
   "id": "583a11e6-32cb-4cf5-b519-777e8a0c4165",
   "metadata": {},
   "outputs": [],
   "source": [
    "smiles_list = df['standardised_smiles'].tolist()\n",
    "standardised_inchikeys_list = standardise_inchikey(smiles_list)\n",
    "df['standardised_inchikeys'] = standardised_inchikeys_list\n",
    "df"
   ]
  },
  {
   "cell_type": "code",
   "execution_count": null,
   "id": "8cb268f6-fe15-46cf-be9d-7d05577ac059",
   "metadata": {},
   "outputs": [],
   "source": [
    "df.info()"
   ]
  },
  {
   "cell_type": "markdown",
   "id": "14cbf291-cdad-4938-8a20-e7b3c77dfc5f",
   "metadata": {},
   "source": [
    "Here, the preprocessing is completed. The dataset now contains 8697 entries. We now create a sample dataset of 1000 entries using the sample function. We also rename the column names to `Smiles` and `Inchi_key` for convenience."
   ]
  },
  {
   "cell_type": "markdown",
   "id": "33552142-104f-434e-ab3c-cacdff25769a",
   "metadata": {},
   "source": [
    "# Creating the Sample of 1000 Entries"
   ]
  },
  {
   "cell_type": "code",
   "execution_count": null,
   "id": "cf3584f9-9c3d-4101-b095-29bd4d37471a",
   "metadata": {},
   "outputs": [],
   "source": [
    "input_data = df.sample(n=1000, random_state=42)\n",
    "input_data = input_data[['standardised_inchikeys', 'standardised_smiles']]\n",
    "input_data.rename(columns={'standardised_inchikeys': 'Inchi_key', 'standardised_smiles': 'Smiles'}, inplace=True)\n",
    "input_data.reset_index(drop=True, inplace=True)\n",
    "input_data.to_csv('../data/input_data.csv', index=False)\n",
    "input_data.head()"
   ]
  },
  {
   "cell_type": "code",
   "execution_count": null,
   "id": "56345232-d795-4303-a57d-f3e8d30151d7",
   "metadata": {},
   "outputs": [],
   "source": [
    "input_data.info()"
   ]
  },
  {
   "cell_type": "markdown",
   "id": "4e23a9d4-dc4b-4643-a070-e7045dd66ea0",
   "metadata": {},
   "source": [
    "# Running the Model on the Input Data"
   ]
  },
  {
   "cell_type": "markdown",
   "id": "3de4982d-53b5-4d5e-b690-776003f793cf",
   "metadata": {},
   "source": [
    "The model is run on the terminal on the input data using the following commands:\n",
    "```\n",
    "ersilia -v fetch eos30gr\n",
    "ersilia serve eos30gr\n",
    "ersilia -v api run -i input_data.csv -o output_data.csv\n",
    "```\n",
    "\n",
    "The output after running the model is saved in `output_data.csv` file which is present the `data` directory."
   ]
  },
  {
   "cell_type": "markdown",
   "id": "006e9aba-0e21-47a2-b455-4a4d604cdec5",
   "metadata": {},
   "source": [
    "# Model Bias Evaluation"
   ]
  },
  {
   "cell_type": "markdown",
   "id": "c0d4157b-a2ab-42c8-944b-6f2450074380",
   "metadata": {},
   "source": [
    "## Exploring the output data"
   ]
  },
  {
   "cell_type": "code",
   "execution_count": null,
   "id": "67e60921-a504-44a0-8545-276ccbc0ae1f",
   "metadata": {},
   "outputs": [],
   "source": [
    "predictions_df = pd.read_csv('../data/output_data.csv')\n",
    "predictions_df.head()"
   ]
  },
  {
   "cell_type": "code",
   "execution_count": null,
   "id": "b082fa5f-e8ee-42a8-b340-283bc41c4038",
   "metadata": {},
   "outputs": [],
   "source": [
    "predictions_df.info()"
   ]
  },
  {
   "cell_type": "markdown",
   "id": "2455f06f-e2bc-48ab-9807-5fe1023a3265",
   "metadata": {},
   "source": [
    "The output data contains the `key` - which is the `InChiKey`, the `input` - which is the `Smiles` string and the `activity10` column which contains the `probability of hERG blockade`. "
   ]
  },
  {
   "cell_type": "markdown",
   "id": "5a710e86-d655-4c0e-8d1d-f5453cae59cb",
   "metadata": {},
   "source": [
    "## Visualizing the predictions"
   ]
  },
  {
   "cell_type": "markdown",
   "id": "b3774211-7dc6-47b4-89c7-17a612cba02f",
   "metadata": {},
   "source": [
    "### Distribution of predicted probabilities"
   ]
  },
  {
   "cell_type": "markdown",
   "id": "96116fc5-2530-4d3e-8e55-df8ec81302d6",
   "metadata": {},
   "source": [
    "The following histogram depicts the distribution of the predicted probabilites."
   ]
  },
  {
   "cell_type": "code",
   "execution_count": null,
   "id": "efe3e450-444e-459e-9f39-09c7274a2026",
   "metadata": {},
   "outputs": [],
   "source": [
    "# Create a histogram\n",
    "plt.figure(figsize=(10, 6))\n",
    "sns.histplot(predictions_df['activity10'], bins=30, kde=True, color='skyblue')\n",
    "\n",
    "# Set plot labels and title\n",
    "plt.xlabel('Predicted Probability')\n",
    "plt.ylabel('Frequency')\n",
    "plt.title('Distribution of Predicted Probabilities')\n",
    "\n",
    "#Save the plot\n",
    "figure_path = '../figures/model_bias/distribution_of_predicted_probabilites.png'\n",
    "plt.savefig(figure_path)\n",
    "\n",
    "# Show the plot\n",
    "plt.show()"
   ]
  },
  {
   "cell_type": "markdown",
   "id": "9b22d208-218d-4a17-9148-60d85474c1bd",
   "metadata": {},
   "source": [
    "From the histogram, we can conclude than most molecules have the predicted probability of being a hERG blocker as 0.1, which means that a majority of the molecules might not be hERG blockers in the selected dataset."
   ]
  },
  {
   "cell_type": "markdown",
   "id": "4bfaaaa3-f08f-4f54-a145-bfc3b3eae5e3",
   "metadata": {},
   "source": [
    "### Distribution of molecules by probability range"
   ]
  },
  {
   "cell_type": "markdown",
   "id": "3c91585b-d419-48f6-8764-21fd60b1af96",
   "metadata": {},
   "source": [
    "We create a pie chart to visualize the percentage of molecules in a particular probability range."
   ]
  },
  {
   "cell_type": "code",
   "execution_count": null,
   "id": "249f420b-18a4-4834-b5b8-cac9b7ad90d7",
   "metadata": {},
   "outputs": [],
   "source": [
    "predictions_df['Probability Range'] = pd.cut(predictions_df['activity10'], bins=[-float('inf'), 0.1, 0.2, 0.3, 0.5, float('inf')],\n",
    "                                            labels=['< 0.1', '0.1 - 0.2', '0.2 - 0.3', '0.3 - 0.5', '> 0.5'])\n",
    "\n",
    "# Count the number of molecules in each probability range\n",
    "counts = predictions_df['Probability Range'].value_counts()\n",
    "\n",
    "# Define colors for each category\n",
    "colors = ['lightcoral', 'gold', 'lightgreen', 'lightskyblue', 'mediumorchid']\n",
    "\n",
    "# Create a pie chart\n",
    "plt.figure(figsize=(8, 8))\n",
    "plt.pie(counts, autopct='%1.1f%%', startangle=90, colors=colors)\n",
    "\n",
    "# Create a legend outside the pie chart\n",
    "plt.legend(labels=['< 0.1', '0.1 - 0.2', '0.2 - 0.3', '0.3 - 0.5', '> 0.5'], loc='upper left', bbox_to_anchor=(1, 0.5))\n",
    "\n",
    "plt.title('Distribution of Molecules by Probability Range')\n",
    "\n",
    "#Save the plot\n",
    "figure_path = '../figures/model_bias/distribution_of_molecules_by_probability_range.png'\n",
    "plt.savefig(figure_path)\n",
    "\n",
    "plt.show()"
   ]
  },
  {
   "cell_type": "markdown",
   "id": "a2fdedec-4fe9-4c4b-b04f-148dc25c557e",
   "metadata": {},
   "source": [
    "### Molecules with highest predicted probabilities"
   ]
  },
  {
   "cell_type": "code",
   "execution_count": null,
   "id": "c4ac3580-6773-4e72-b834-ce889e104fe5",
   "metadata": {},
   "outputs": [],
   "source": [
    "# Sort the DataFrame by predicted probabilities in descending order\n",
    "top_predictions = predictions_df.sort_values(by='activity10', ascending=False).head(10)"
   ]
  },
  {
   "cell_type": "code",
   "execution_count": null,
   "id": "9e83888b-8be9-4ca6-a9b4-00e727512914",
   "metadata": {},
   "outputs": [],
   "source": [
    "# Create a bar plot\n",
    "plt.figure(figsize=(12, 6))\n",
    "sns.barplot(x='activity10', y='input', hue='input', data=top_predictions, palette='magma', legend=False)\n",
    "\n",
    "# Set plot labels and title\n",
    "plt.xlabel('Predicted Probability')\n",
    "plt.ylabel('SMILES')\n",
    "plt.title('Top 10 Molecules with Highest Predicted Probabilities')\n",
    "\n",
    "#Save the plot\n",
    "figure_path = '../figures/model_bias/molecules_with_highest_predicted_probabilities.png'\n",
    "plt.savefig(figure_path)\n",
    "\n",
    "# Show the plot\n",
    "plt.show()"
   ]
  },
  {
   "cell_type": "markdown",
   "id": "358bde3d-347a-48d1-a3f9-1cec792db7d8",
   "metadata": {},
   "source": [
    "The above visualization depicts the top ten molecules with the highest probability of being a hERG blockade."
   ]
  },
  {
   "cell_type": "markdown",
   "id": "8287b854-9c76-4ebe-9365-76c078f42340",
   "metadata": {},
   "source": [
    "### Molecules with lowest predicted probabilities"
   ]
  },
  {
   "cell_type": "code",
   "execution_count": null,
   "id": "19872477-79c8-4236-8cc6-5ba24adafd3f",
   "metadata": {},
   "outputs": [],
   "source": [
    "# Sort the DataFrame by predicted probabilities in descending order\n",
    "low_predictions = predictions_df.sort_values(by='activity10', ascending=False).tail(10)"
   ]
  },
  {
   "cell_type": "code",
   "execution_count": null,
   "id": "63691dec-84dc-4df7-95c7-d17ace26875b",
   "metadata": {},
   "outputs": [],
   "source": [
    "# Create a bar plot\n",
    "plt.figure(figsize=(12, 6))\n",
    "sns.barplot(x='activity10', y='input', hue='input', data=low_predictions, palette='plasma', legend=False)\n",
    "\n",
    "# Set plot labels and title\n",
    "plt.xlabel('Predicted Probability')\n",
    "plt.ylabel('SMILES')\n",
    "plt.title('Top 10 Molecules with Highest Predicted Probabilities')\n",
    "\n",
    "#Save the plot\n",
    "figure_path = '../figures/model_bias/molecules_with_lowest_predicted_probabilities.png'\n",
    "plt.savefig(figure_path)\n",
    "\n",
    "# Show the plot\n",
    "plt.show()"
   ]
  },
  {
   "cell_type": "markdown",
   "id": "64b40261-680a-4700-84aa-d93689001320",
   "metadata": {},
   "source": [
    "The above visualization depicts the top ten molecules with the least probability of being a hERG blockade."
   ]
  },
  {
   "cell_type": "markdown",
   "id": "e39e9d36-d994-4ea8-b8e3-7770dae025fa",
   "metadata": {},
   "source": [
    "### Scatter plot using Morgan Fingerprints"
   ]
  },
  {
   "cell_type": "markdown",
   "id": "5ec5a10f-9e97-4697-8058-e17fd81894a5",
   "metadata": {},
   "source": [
    "From the visualizations created above, it can be seen that the highest probability of a molecule being a hERG blocker is around 0.6. Therefore we create a threshold of 0.5 to check what percentage of molecules have a probability of being a hERG blocker more than 0.5 and less than 0.5"
   ]
  },
  {
   "cell_type": "markdown",
   "id": "b40826fd-a30e-4f44-a014-ca79bf83b59e",
   "metadata": {},
   "source": [
    "Morgan fingerprints are a type of molecular fingerprint used in cheminformatics to encode the structural features of chemical compounds. In this code, we use Morgan fingerprints to represent the structural information of molecules encoded in SMILES format. The fingerprints are calculated for each molecule in the dataset using the RDKit library. Furthermore, we apply PCA to the Morgan fingerprints to reduce the dimensionality to two dimensions."
   ]
  },
  {
   "cell_type": "code",
   "execution_count": null,
   "id": "f49b542c-fcc3-4764-8116-a3bb784b2002",
   "metadata": {},
   "outputs": [],
   "source": [
    "# Function to calculate Morgan fingerprints\n",
    "def calculate_morgan_fingerprints(smiles_list):\n",
    "    fingerprints = [AllChem.GetMorganFingerprintAsBitVect(Chem.MolFromSmiles(smiles), 2, nBits=1024) for smiles in smiles_list]\n",
    "    return fingerprints\n",
    "\n",
    "# Extract SMILES from 'input' column\n",
    "smiles_list = predictions_df['input']\n",
    "\n",
    "# Calculate Morgan fingerprints\n",
    "fingerprints = calculate_morgan_fingerprints(smiles_list)\n",
    "\n",
    "# Perform PCA\n",
    "pca = PCA(n_components=2)\n",
    "pca_result = pca.fit_transform(fingerprints)\n",
    "\n",
    "# Add PCA components to DataFrame\n",
    "predictions_df['PCA1'] = pca_result[:, 0]\n",
    "predictions_df['PCA2'] = pca_result[:, 1]"
   ]
  },
  {
   "cell_type": "code",
   "execution_count": null,
   "id": "a35c5144-5b03-4853-b619-ccd0672bcaa9",
   "metadata": {},
   "outputs": [],
   "source": [
    "# Create Scatter Plot\n",
    "plt.figure(figsize=(10, 6))\n",
    "sns.scatterplot(x='PCA1', y='PCA2', data=predictions_df, hue=(predictions_df['activity10'] >= 0.5), palette={True: 'red', False: 'blue'}, size=10)\n",
    "plt.xlabel('PCA Component 1')\n",
    "plt.ylabel('PCA Component 2')\n",
    "plt.title('PCA Scatter Plot with HERG Blocker Threshold')\n",
    "\n",
    "# Define legend labels and colors\n",
    "legend_labels = ['non-HERG Blocker', 'HERG Blocker']\n",
    "legend_colors = ['blue', 'red']\n",
    "\n",
    "# Create legend patches\n",
    "legend_patches = [mpatches.Patch(color=color, label=label) for color, label in zip(legend_colors, legend_labels)]\n",
    "\n",
    "plt.legend(handles=legend_patches, loc='upper right')\n",
    "\n",
    "#Save the plot\n",
    "figure_path = '../figures/model_bias/scatter_plot_using_morgan_fingerprints.png'\n",
    "plt.savefig(figure_path)\n",
    "\n",
    "plt.show()"
   ]
  },
  {
   "cell_type": "markdown",
   "id": "8e427610-6c9f-49c6-ad91-212c7fca7d5f",
   "metadata": {},
   "source": [
    "Each point in the scatter plot represents a molecule, with its position determined by the first two principal components obtained from PCA. Additionally, molecules are colored according to their activity level, with those having a HERG blocking activity of 0.5 or higher labeled as 'HERG Blocker' and colored in red, while those below 0.5 are labeled as 'non-HERG Blocker' and colored in blue."
   ]
  },
  {
   "cell_type": "markdown",
   "id": "7c7c22c6-8f61-417a-ba24-f33834bbca42",
   "metadata": {},
   "source": [
    "From the above scatter plot, we can infer that the dataset may be imbalanced with a disproportionately large number of molecules classified as non-HERG blockers (blue dots) compared to HERG blockers (red dots). \n",
    "\n",
    "Also, since there is a lack of clear separation or partition between the two classes in the scatter plot, the model may struggle to distinguish between the two classes effectively."
   ]
  },
  {
   "cell_type": "markdown",
   "id": "e0cdcc66-5026-4d61-ac6d-b673f974a9d7",
   "metadata": {},
   "source": [
    "### Distribution of molecules after binarization of outcomes"
   ]
  },
  {
   "cell_type": "markdown",
   "id": "5d5d6107-a0db-4fa6-9323-c3c54c1eacbb",
   "metadata": {},
   "source": [
    "Now that we have seen that the number of classified hERG blockers is significantly less than the number of non-hERG blockers, let us now visualize the exact percentage of each of these classes."
   ]
  },
  {
   "cell_type": "code",
   "execution_count": null,
   "id": "bd35da98-8775-4f69-b881-597ecc4a8c58",
   "metadata": {},
   "outputs": [],
   "source": [
    "# Binarize the predictions based on the threshold (0.5)\n",
    "predictions_df['Binary Prediction'] = (predictions_df['activity10'] > 0.5).astype(int)\n",
    "\n",
    "# Define custom labels\n",
    "label_mapping = {1: 'Molecules with hERG blocker probability > 0.5',\n",
    "                 0: 'Molecules with hERG blocker probability <= 0.5'}\n",
    "\n",
    "# Map the binary predictions to custom labels\n",
    "predictions_df['Binary Prediction Label'] = predictions_df['Binary Prediction'].map(label_mapping)\n",
    "\n",
    "# Count the number of molecules in each category\n",
    "counts = predictions_df['Binary Prediction Label'].value_counts()\n",
    "\n",
    "# Create a pie chart\n",
    "plt.figure(figsize=(8, 8))\n",
    "plt.pie(counts, labels=counts.index, autopct='%1.1f%%', startangle=45, colors=['lightcoral', 'lightskyblue'])\n",
    "plt.title('Distribution of Molecules by Binary Prediction (>0.5 and <=0.5)')\n",
    "\n",
    "#Save the plot\n",
    "figure_path = '../figures/model_bias/distribution_of_molecules_after_binarization.png'\n",
    "plt.savefig(figure_path)\n",
    "\n",
    "\n",
    "# Show the plot\n",
    "plt.show()\n"
   ]
  },
  {
   "cell_type": "markdown",
   "id": "d8b6b9bb-27bb-4bec-9ffa-3cb6474e06eb",
   "metadata": {},
   "source": [
    "# Conclusion"
   ]
  },
  {
   "cell_type": "markdown",
   "id": "9b3d3e6c-cd02-4c96-a83b-5d22e35f664e",
   "metadata": {},
   "source": [
    "From the above analysis and visualizations, we can see that from the sample of 1000 molecules, major percentage has a very low probability of being a hERG blocker. And around 1.1% molecules have the probability of being a hERG blocker.\n",
    "This can suggest that:\n",
    "1. Either the model is biased towards predicting the molecule as not being a hERG blocker, or\n",
    "2. The selected dataset is unbalanced and contains only few molecules which are hERG blockers."
   ]
  },
  {
   "cell_type": "code",
   "execution_count": null,
   "id": "d6a43dee-3358-45a0-a7f0-5c3654f8c239",
   "metadata": {},
   "outputs": [],
   "source": []
  }
 ],
 "metadata": {
  "kernelspec": {
   "display_name": "Python 3 (ipykernel)",
   "language": "python",
   "name": "python3"
  },
  "language_info": {
   "codemirror_mode": {
    "name": "ipython",
    "version": 3
   },
   "file_extension": ".py",
   "mimetype": "text/x-python",
   "name": "python",
   "nbconvert_exporter": "python",
   "pygments_lexer": "ipython3",
   "version": "3.10.13"
  }
 },
 "nbformat": 4,
 "nbformat_minor": 5
}
