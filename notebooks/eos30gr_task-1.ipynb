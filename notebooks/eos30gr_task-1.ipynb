{
 "cells": [
  {
   "cell_type": "markdown",
   "id": "e01b3926-90c5-4e32-a7cb-32921de110f5",
   "metadata": {},
   "source": [
    "Data processing\n",
    "In this notebook, I am loading a list of molecules I obtained from ChEMBL and processing them to make sure I have:\n",
    "\n",
    "Standard SMILES representation of the compound\n",
    "InChIKey associated to the compound"
   ]
  },
  {
   "cell_type": "code",
   "execution_count": 1,
   "id": "cc0a7f0e-59ee-4588-830f-6037e8058bc0",
   "metadata": {},
   "outputs": [],
   "source": [
    "# In this codeblock I will import the necessary packages and specify the paths to relevant folders"
   ]
  },
  {
   "cell_type": "code",
   "execution_count": 7,
   "id": "8ae596bb-957a-4135-869e-5de836891a02",
   "metadata": {},
   "outputs": [],
   "source": [
    "import pandas as pd\n",
    "import numpy as np\n",
    "import seaborn as sns\n",
    "import matplotlib.pyplot as plt\n",
    "import sys\n",
    "sys.path.append('src')\n",
    "from smiles_processing import standardise_smiles\n",
    "from inchikey_processing import standardise_inchikey"
   ]
  },
  {
   "cell_type": "code",
   "execution_count": 8,
   "id": "2e4715ed-748a-4113-a2f0-87f18252983b",
   "metadata": {},
   "outputs": [],
   "source": [
    "# In this codeblock I will load the data from the /data folder to a Pandas dataframe and understand which headers it has"
   ]
  },
  {
   "cell_type": "code",
   "execution_count": 11,
   "id": "e519a120-4ba3-4d4d-9089-10dc154565c1",
   "metadata": {},
   "outputs": [],
   "source": [
    "df = pd.read_csv('../data/raw_data.tsv', delimiter='\\t')"
   ]
  },
  {
   "cell_type": "code",
   "execution_count": 10,
   "id": "58be537f-7ea0-40af-90ac-ef1dfe8b5826",
   "metadata": {},
   "outputs": [
    {
     "ename": "NameError",
     "evalue": "name 'df' is not defined",
     "output_type": "error",
     "traceback": [
      "\u001b[0;31m---------------------------------------------------------------------------\u001b[0m",
      "\u001b[0;31mNameError\u001b[0m                                 Traceback (most recent call last)",
      "Cell \u001b[0;32mIn[10], line 1\u001b[0m\n\u001b[0;32m----> 1\u001b[0m \u001b[43mdf\u001b[49m\u001b[38;5;241m.\u001b[39mhead()\n",
      "\u001b[0;31mNameError\u001b[0m: name 'df' is not defined"
     ]
    }
   ],
   "source": [
    "df.head()"
   ]
  },
  {
   "cell_type": "code",
   "execution_count": null,
   "id": "3bca1ae0-b1f1-4ccd-994c-1c19ee9ece56",
   "metadata": {},
   "outputs": [],
   "source": [
    "df.info()"
   ]
  },
  {
   "cell_type": "code",
   "execution_count": null,
   "id": "41a89209-0695-4c46-8dce-317fd4ea032b",
   "metadata": {},
   "outputs": [],
   "source": [
    "selected_columns = ['Molecular Formula', 'Smiles', 'Inchi Key']\n",
    "df = df.loc[:, selected_columns]"
   ]
  },
  {
   "cell_type": "code",
   "execution_count": null,
   "id": "283bda1a-cde9-44c5-88ea-9d764e828680",
   "metadata": {},
   "outputs": [],
   "source": [
    "df.head()"
   ]
  },
  {
   "cell_type": "code",
   "execution_count": null,
   "id": "c157858d-ceb6-4693-8fea-7f7838c6e698",
   "metadata": {},
   "outputs": [],
   "source": [
    "df.info()"
   ]
  },
  {
   "cell_type": "code",
   "execution_count": null,
   "id": "34143c0d-4fa2-4e29-a503-73a1e3559917",
   "metadata": {},
   "outputs": [],
   "source": [
    "# In this codeblock I will convert the molecules to standard SMILES by using the function standardise_smiles from /src\n",
    "# I will import the function directly from src, not copying it here"
   ]
  },
  {
   "cell_type": "code",
   "execution_count": null,
   "id": "3ae0238d-70e9-4b47-b305-6d2dfe2f0926",
   "metadata": {},
   "outputs": [],
   "source": [
    "smiles_list = df['Smiles'].tolist()\n",
    "standardised_smiles_list = standardise_smiles(smiles_list)\n",
    "df['standardised_smiles'] = standardised_smiles_list\n",
    "df"
   ]
  },
  {
   "cell_type": "code",
   "execution_count": null,
   "id": "69054de0-d87c-4700-8747-a8bafdb3cabd",
   "metadata": {},
   "outputs": [],
   "source": [
    "df.info()"
   ]
  },
  {
   "cell_type": "code",
   "execution_count": null,
   "id": "3806c8df-2061-4dba-981e-a731027c3f69",
   "metadata": {},
   "outputs": [],
   "source": [
    "df.dropna(inplace=True)\n",
    "df.reset_index(drop=True, inplace=True)\n",
    "df"
   ]
  },
  {
   "cell_type": "code",
   "execution_count": null,
   "id": "0bcaa3fd-558c-4ced-b1f4-670cd012cdc5",
   "metadata": {},
   "outputs": [],
   "source": [
    "df.info()"
   ]
  },
  {
   "cell_type": "code",
   "execution_count": null,
   "id": "583a11e6-32cb-4cf5-b519-777e8a0c4165",
   "metadata": {},
   "outputs": [],
   "source": [
    "# In this codeblock I will get the Inchikey representation of the molecules using the RDKIT package\n",
    "smiles_list = df['standardised_smiles'].tolist()\n",
    "standardised_inchikeys_list = standardise_inchikey(smiles_list)\n",
    "df['standardised_inchikeys'] = standardised_inchikeys_list\n",
    "df"
   ]
  },
  {
   "cell_type": "code",
   "execution_count": null,
   "id": "8cb268f6-fe15-46cf-be9d-7d05577ac059",
   "metadata": {},
   "outputs": [],
   "source": [
    "df.info()"
   ]
  },
  {
   "cell_type": "code",
   "execution_count": null,
   "id": "971aac46-09da-4141-a81a-ba59fa6baf08",
   "metadata": {},
   "outputs": [],
   "source": [
    "# In this codeblock I will save the data as a .csv file containing only the standard smiles and the inchikey as columns. \n",
    "# All data will be saved with informative names in the /data folder"
   ]
  },
  {
   "cell_type": "code",
   "execution_count": null,
   "id": "cf3584f9-9c3d-4101-b095-29bd4d37471a",
   "metadata": {},
   "outputs": [],
   "source": [
    "input_data = df.sample(n=1000, random_state=42)\n",
    "input_data = input_data[['standardised_inchikeys', 'standardised_smiles']]\n",
    "input_data.rename(columns={'standardised_inchikeys': 'Inchi_key', 'standardised_smiles': 'Smiles'}, inplace=True)\n",
    "input_data.reset_index(drop=True, inplace=True)\n",
    "input_data.to_csv('data/input_data.csv', index=False)\n",
    "input_data"
   ]
  },
  {
   "cell_type": "markdown",
   "id": "006e9aba-0e21-47a2-b455-4a4d604cdec5",
   "metadata": {},
   "source": [
    "Model Bias Evaluation"
   ]
  },
  {
   "cell_type": "code",
   "execution_count": null,
   "id": "67e60921-a504-44a0-8545-276ccbc0ae1f",
   "metadata": {},
   "outputs": [],
   "source": [
    "# In this codeblock I will load the predictions I've run on Ersilia and saved in the /data folder\n"
   ]
  },
  {
   "cell_type": "code",
   "execution_count": null,
   "id": "87df2588-9759-4eb4-aec6-45e17e16fca3",
   "metadata": {},
   "outputs": [],
   "source": [
    "# In this codeblock I will create the necessary plots with MatPlotLib to observe the distribution of predicted values"
   ]
  },
  {
   "cell_type": "code",
   "execution_count": null,
   "id": "bbcb232b-9658-4108-b0cb-980f4a509ccb",
   "metadata": {},
   "outputs": [],
   "source": []
  },
  {
   "cell_type": "code",
   "execution_count": null,
   "id": "c4ac3580-6773-4e72-b834-ce889e104fe5",
   "metadata": {},
   "outputs": [],
   "source": []
  },
  {
   "cell_type": "code",
   "execution_count": null,
   "id": "9e83888b-8be9-4ca6-a9b4-00e727512914",
   "metadata": {},
   "outputs": [],
   "source": []
  },
  {
   "cell_type": "code",
   "execution_count": null,
   "id": "3425c5c9-e4ec-4952-b3f3-8b747d04be55",
   "metadata": {},
   "outputs": [],
   "source": []
  },
  {
   "cell_type": "code",
   "execution_count": null,
   "id": "249f420b-18a4-4834-b5b8-cac9b7ad90d7",
   "metadata": {},
   "outputs": [],
   "source": []
  },
  {
   "cell_type": "code",
   "execution_count": null,
   "id": "d6d240e4-cd29-4b8b-bb7d-304af8546bb3",
   "metadata": {},
   "outputs": [],
   "source": []
  }
 ],
 "metadata": {
  "kernelspec": {
   "display_name": "Python 3 (ipykernel)",
   "language": "python",
   "name": "python3"
  },
  "language_info": {
   "codemirror_mode": {
    "name": "ipython",
    "version": 3
   },
   "file_extension": ".py",
   "mimetype": "text/x-python",
   "name": "python",
   "nbconvert_exporter": "python",
   "pygments_lexer": "ipython3",
   "version": "3.10.13"
  }
 },
 "nbformat": 4,
 "nbformat_minor": 5
}
