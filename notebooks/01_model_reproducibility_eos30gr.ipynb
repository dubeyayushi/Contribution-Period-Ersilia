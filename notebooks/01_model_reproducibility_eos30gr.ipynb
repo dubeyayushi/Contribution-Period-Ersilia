{
 "cells": [
  {
   "cell_type": "markdown",
   "id": "2fbc3673-ca8a-419a-ab56-2aead6afefe0",
   "metadata": {},
   "source": [
    "`Created by - Ayushi Dubey`"
   ]
  },
  {
   "cell_type": "markdown",
   "id": "f8f7be45-4464-4a04-bf7f-de8c836596e0",
   "metadata": {},
   "source": [
    "**Task T2 Model reproducibility:** can we reproduce the exact values / a figure / that authors obtained when training the model in the first place? This means we need to read the publication and identify for example a compound identified using that model and check that we obtain the same values."
   ]
  },
  {
   "cell_type": "markdown",
   "id": "ae80f4e8-461b-4ef7-a03d-0bd30e95fafd",
   "metadata": {},
   "source": [
    "**Task Description:**\n",
    "\n",
    "1. Read the [scientific publication](https://acrobat.adobe.com/id/urn:aaid:sc:ap:3cca2c36-6b4f-478a-996c-7f77423e819e?viewer%21megaVerb=group-discover) and identify a result you could reproduce from the paper. Hint: explain in your GitHub issue for which dataset are you going to reproduce the results given in the publication.\n",
    "\n",
    "2. Try to implement the model as described by the authors (not from the Ersilia Model Hub) and reproduce the results selected from the paper. Make sure to include the results evaluation in your repository.\n",
    "\n",
    "3. Check that the model provides the same results when running via the Ersilia Model Hub."
   ]
  },
  {
   "cell_type": "markdown",
   "id": "1f85c8a2-8654-418f-8e88-6e977d547368",
   "metadata": {},
   "source": [
    "# Importing necessary libraries"
   ]
  },
  {
   "cell_type": "code",
   "execution_count": 1,
   "id": "24b5628d-5956-4eb6-a6bf-f770b7d03b19",
   "metadata": {},
   "outputs": [],
   "source": [
    "import pandas as pd\n",
    "import numpy as np\n",
    "import matplotlib.pyplot as plt\n",
    "import seaborn as sns\n",
    "from prettytable import PrettyTable"
   ]
  },
  {
   "cell_type": "markdown",
   "id": "5abed690-645f-4af4-b56f-7342f4873f7b",
   "metadata": {},
   "source": [
    "# Preparing the data"
   ]
  },
  {
   "cell_type": "markdown",
   "id": "113714eb-ec11-48ed-8a92-ed30b54adeee",
   "metadata": {},
   "source": [
    "The authors have provided `Table S6.xlsx` as the supporting information in the publication (present in the `../data` folder). It contains the detailed prediction results for 1,824 FDA-approved small molecule drugs available from the DrugBank database.\n",
    "\n",
    "So, we create a dataframe containing the names and SMILES values of the molecules from the provided dataset. Then we compare our predicted results with the ones predicted by the authors."
   ]
  },
  {
   "cell_type": "markdown",
   "id": "33c75e31-9386-4f90-8fa9-b9e9f87e9268",
   "metadata": {},
   "source": [
    "` For convenience, we will be using the term 'publication data' for the data predicted by the authors, and the term 'predicted data' for the predictions made using the model from Ersilia Model Hub on the same data used by the authors. `"
   ]
  },
  {
   "cell_type": "markdown",
   "id": "6b4e5944-f144-4999-b313-fae1f12cfa89",
   "metadata": {},
   "source": [
    "## Exploring the data given in the publication"
   ]
  },
  {
   "cell_type": "code",
   "execution_count": 2,
   "id": "c7e4a53c-7752-427a-aeb1-6d2495af233b",
   "metadata": {},
   "outputs": [],
   "source": [
    "df_publication = pd.read_excel('../data/Table S6.xlsx')"
   ]
  },
  {
   "cell_type": "code",
   "execution_count": 3,
   "id": "227aac63-7b9b-4f99-b15a-167cc3739c6d",
   "metadata": {},
   "outputs": [
    {
     "data": {
      "text/html": [
       "<div>\n",
       "<style scoped>\n",
       "    .dataframe tbody tr th:only-of-type {\n",
       "        vertical-align: middle;\n",
       "    }\n",
       "\n",
       "    .dataframe tbody tr th {\n",
       "        vertical-align: top;\n",
       "    }\n",
       "\n",
       "    .dataframe thead th {\n",
       "        text-align: right;\n",
       "    }\n",
       "</style>\n",
       "<table border=\"1\" class=\"dataframe\">\n",
       "  <thead>\n",
       "    <tr style=\"text-align: right;\">\n",
       "      <th></th>\n",
       "      <th>Table S6. Detailed predictions for 1,824 approved drugs by deephERG</th>\n",
       "      <th>Unnamed: 1</th>\n",
       "      <th>Unnamed: 2</th>\n",
       "      <th>Unnamed: 3</th>\n",
       "      <th>Unnamed: 4</th>\n",
       "      <th>Unnamed: 5</th>\n",
       "    </tr>\n",
       "  </thead>\n",
       "  <tbody>\n",
       "    <tr>\n",
       "      <th>0</th>\n",
       "      <td>DrugBank ID</td>\n",
       "      <td>Smiles</td>\n",
       "      <td>Name</td>\n",
       "      <td>Predicted negative probability</td>\n",
       "      <td>Predicted positive probability</td>\n",
       "      <td>Predicted classification</td>\n",
       "    </tr>\n",
       "    <tr>\n",
       "      <th>1</th>\n",
       "      <td>DB11581</td>\n",
       "      <td>Clc1ccc(cc1)C=1CC(CCC=1CN1CCN(CC1)c1cc(Oc2cc3c...</td>\n",
       "      <td>Venetoclax</td>\n",
       "      <td>0.165396</td>\n",
       "      <td>0.834604</td>\n",
       "      <td>1</td>\n",
       "    </tr>\n",
       "    <tr>\n",
       "      <th>2</th>\n",
       "      <td>DB11575</td>\n",
       "      <td>S(=O)(=O)(N=C(O)[C@@]1(N=C(O)[C@H]2N3C[C@H](Oc...</td>\n",
       "      <td>Grazoprevir</td>\n",
       "      <td>0.685339</td>\n",
       "      <td>0.314661</td>\n",
       "      <td>0</td>\n",
       "    </tr>\n",
       "    <tr>\n",
       "      <th>3</th>\n",
       "      <td>DB11574</td>\n",
       "      <td>O1c2cc(ccc2-c2n(c3c(cc(cc3)-c3nc([nH]c3)[C@H]3...</td>\n",
       "      <td>Elbasvir</td>\n",
       "      <td>0.148685</td>\n",
       "      <td>0.851315</td>\n",
       "      <td>1</td>\n",
       "    </tr>\n",
       "    <tr>\n",
       "      <th>4</th>\n",
       "      <td>DB11560</td>\n",
       "      <td>Brc1nnc(SCC(O)=O)n1-c1c2c(cccc2)c(cc1)C1CC1</td>\n",
       "      <td>Lesinurad</td>\n",
       "      <td>0.875724</td>\n",
       "      <td>0.124276</td>\n",
       "      <td>0</td>\n",
       "    </tr>\n",
       "  </tbody>\n",
       "</table>\n",
       "</div>"
      ],
      "text/plain": [
       "  Table S6. Detailed predictions for 1,824 approved drugs by deephERG  \\\n",
       "0                                        DrugBank ID                    \n",
       "1                                            DB11581                    \n",
       "2                                            DB11575                    \n",
       "3                                            DB11574                    \n",
       "4                                            DB11560                    \n",
       "\n",
       "                                          Unnamed: 1   Unnamed: 2  \\\n",
       "0                                             Smiles         Name   \n",
       "1  Clc1ccc(cc1)C=1CC(CCC=1CN1CCN(CC1)c1cc(Oc2cc3c...   Venetoclax   \n",
       "2  S(=O)(=O)(N=C(O)[C@@]1(N=C(O)[C@H]2N3C[C@H](Oc...  Grazoprevir   \n",
       "3  O1c2cc(ccc2-c2n(c3c(cc(cc3)-c3nc([nH]c3)[C@H]3...     Elbasvir   \n",
       "4        Brc1nnc(SCC(O)=O)n1-c1c2c(cccc2)c(cc1)C1CC1    Lesinurad   \n",
       "\n",
       "                       Unnamed: 3                      Unnamed: 4  \\\n",
       "0  Predicted negative probability  Predicted positive probability   \n",
       "1                        0.165396                        0.834604   \n",
       "2                        0.685339                        0.314661   \n",
       "3                        0.148685                        0.851315   \n",
       "4                        0.875724                        0.124276   \n",
       "\n",
       "                 Unnamed: 5  \n",
       "0  Predicted classification  \n",
       "1                         1  \n",
       "2                         0  \n",
       "3                         1  \n",
       "4                         0  "
      ]
     },
     "execution_count": 3,
     "metadata": {},
     "output_type": "execute_result"
    }
   ],
   "source": [
    "df_publication.head()"
   ]
  },
  {
   "cell_type": "code",
   "execution_count": 4,
   "id": "da2a91df-a0e0-4bad-97ec-7413657832ad",
   "metadata": {},
   "outputs": [
    {
     "data": {
      "text/html": [
       "<div>\n",
       "<style scoped>\n",
       "    .dataframe tbody tr th:only-of-type {\n",
       "        vertical-align: middle;\n",
       "    }\n",
       "\n",
       "    .dataframe tbody tr th {\n",
       "        vertical-align: top;\n",
       "    }\n",
       "\n",
       "    .dataframe thead th {\n",
       "        text-align: right;\n",
       "    }\n",
       "</style>\n",
       "<table border=\"1\" class=\"dataframe\">\n",
       "  <thead>\n",
       "    <tr style=\"text-align: right;\">\n",
       "      <th></th>\n",
       "      <th>DrugBank ID</th>\n",
       "      <th>Smiles</th>\n",
       "      <th>Name</th>\n",
       "      <th>Predicted negative probability</th>\n",
       "      <th>Predicted positive probability</th>\n",
       "      <th>Predicted classification</th>\n",
       "    </tr>\n",
       "  </thead>\n",
       "  <tbody>\n",
       "    <tr>\n",
       "      <th>0</th>\n",
       "      <td>DB11581</td>\n",
       "      <td>Clc1ccc(cc1)C=1CC(CCC=1CN1CCN(CC1)c1cc(Oc2cc3c...</td>\n",
       "      <td>Venetoclax</td>\n",
       "      <td>0.165396</td>\n",
       "      <td>0.834604</td>\n",
       "      <td>1</td>\n",
       "    </tr>\n",
       "    <tr>\n",
       "      <th>1</th>\n",
       "      <td>DB11575</td>\n",
       "      <td>S(=O)(=O)(N=C(O)[C@@]1(N=C(O)[C@H]2N3C[C@H](Oc...</td>\n",
       "      <td>Grazoprevir</td>\n",
       "      <td>0.685339</td>\n",
       "      <td>0.314661</td>\n",
       "      <td>0</td>\n",
       "    </tr>\n",
       "    <tr>\n",
       "      <th>2</th>\n",
       "      <td>DB11574</td>\n",
       "      <td>O1c2cc(ccc2-c2n(c3c(cc(cc3)-c3nc([nH]c3)[C@H]3...</td>\n",
       "      <td>Elbasvir</td>\n",
       "      <td>0.148685</td>\n",
       "      <td>0.851315</td>\n",
       "      <td>1</td>\n",
       "    </tr>\n",
       "    <tr>\n",
       "      <th>3</th>\n",
       "      <td>DB11560</td>\n",
       "      <td>Brc1nnc(SCC(O)=O)n1-c1c2c(cccc2)c(cc1)C1CC1</td>\n",
       "      <td>Lesinurad</td>\n",
       "      <td>0.875724</td>\n",
       "      <td>0.124276</td>\n",
       "      <td>0</td>\n",
       "    </tr>\n",
       "    <tr>\n",
       "      <th>4</th>\n",
       "      <td>DB11367</td>\n",
       "      <td>S1[C@H]2N(C(C(O)=O)=C(OC)C1)C(=O)[C@H]2NC(=O)[...</td>\n",
       "      <td>Cefroxadine</td>\n",
       "      <td>0.996768</td>\n",
       "      <td>0.003232</td>\n",
       "      <td>0</td>\n",
       "    </tr>\n",
       "  </tbody>\n",
       "</table>\n",
       "</div>"
      ],
      "text/plain": [
       "0 DrugBank ID                                             Smiles         Name  \\\n",
       "0     DB11581  Clc1ccc(cc1)C=1CC(CCC=1CN1CCN(CC1)c1cc(Oc2cc3c...   Venetoclax   \n",
       "1     DB11575  S(=O)(=O)(N=C(O)[C@@]1(N=C(O)[C@H]2N3C[C@H](Oc...  Grazoprevir   \n",
       "2     DB11574  O1c2cc(ccc2-c2n(c3c(cc(cc3)-c3nc([nH]c3)[C@H]3...     Elbasvir   \n",
       "3     DB11560        Brc1nnc(SCC(O)=O)n1-c1c2c(cccc2)c(cc1)C1CC1    Lesinurad   \n",
       "4     DB11367  S1[C@H]2N(C(C(O)=O)=C(OC)C1)C(=O)[C@H]2NC(=O)[...  Cefroxadine   \n",
       "\n",
       "0 Predicted negative probability Predicted positive probability  \\\n",
       "0                       0.165396                       0.834604   \n",
       "1                       0.685339                       0.314661   \n",
       "2                       0.148685                       0.851315   \n",
       "3                       0.875724                       0.124276   \n",
       "4                       0.996768                       0.003232   \n",
       "\n",
       "0 Predicted classification  \n",
       "0                        1  \n",
       "1                        0  \n",
       "2                        1  \n",
       "3                        0  \n",
       "4                        0  "
      ]
     },
     "execution_count": 4,
     "metadata": {},
     "output_type": "execute_result"
    }
   ],
   "source": [
    "# Set the first row as column names\n",
    "df_publication.columns = df_publication.iloc[0]\n",
    "\n",
    "# Drop the first row (since it's now the column names)\n",
    "df_publication = df_publication.drop(0)\n",
    "\n",
    "# Reset the index\n",
    "df_publication = df_publication.reset_index(drop=True)\n",
    "\n",
    "# Display the DataFrame with updated column names\n",
    "df_publication.head()"
   ]
  },
  {
   "cell_type": "code",
   "execution_count": 5,
   "id": "875e0046-244c-4a38-9eda-366b75e62ab5",
   "metadata": {},
   "outputs": [
    {
     "name": "stdout",
     "output_type": "stream",
     "text": [
      "<class 'pandas.core.frame.DataFrame'>\n",
      "RangeIndex: 1824 entries, 0 to 1823\n",
      "Data columns (total 6 columns):\n",
      " #   Column                          Non-Null Count  Dtype \n",
      "---  ------                          --------------  ----- \n",
      " 0   DrugBank ID                     1824 non-null   object\n",
      " 1   Smiles                          1824 non-null   object\n",
      " 2   Name                            1824 non-null   object\n",
      " 3   Predicted negative probability  1823 non-null   object\n",
      " 4   Predicted positive probability  1823 non-null   object\n",
      " 5   Predicted classification        1824 non-null   object\n",
      "dtypes: object(6)\n",
      "memory usage: 85.6+ KB\n"
     ]
    }
   ],
   "source": [
    "df_publication.info()"
   ]
  },
  {
   "cell_type": "code",
   "execution_count": 6,
   "id": "37f77bba-b793-4dad-b44d-b5f928b747ce",
   "metadata": {},
   "outputs": [
    {
     "data": {
      "text/html": [
       "<div>\n",
       "<style scoped>\n",
       "    .dataframe tbody tr th:only-of-type {\n",
       "        vertical-align: middle;\n",
       "    }\n",
       "\n",
       "    .dataframe tbody tr th {\n",
       "        vertical-align: top;\n",
       "    }\n",
       "\n",
       "    .dataframe thead th {\n",
       "        text-align: right;\n",
       "    }\n",
       "</style>\n",
       "<table border=\"1\" class=\"dataframe\">\n",
       "  <thead>\n",
       "    <tr style=\"text-align: right;\">\n",
       "      <th></th>\n",
       "      <th>DrugBank ID</th>\n",
       "      <th>Smiles</th>\n",
       "      <th>Name</th>\n",
       "      <th>Predicted negative probability</th>\n",
       "      <th>Predicted positive probability</th>\n",
       "      <th>Predicted classification</th>\n",
       "    </tr>\n",
       "  </thead>\n",
       "  <tbody>\n",
       "    <tr>\n",
       "      <th>count</th>\n",
       "      <td>1824</td>\n",
       "      <td>1824</td>\n",
       "      <td>1824</td>\n",
       "      <td>1823.0</td>\n",
       "      <td>1823.0</td>\n",
       "      <td>1824</td>\n",
       "    </tr>\n",
       "    <tr>\n",
       "      <th>unique</th>\n",
       "      <td>1824</td>\n",
       "      <td>1820</td>\n",
       "      <td>1824</td>\n",
       "      <td>1766.0</td>\n",
       "      <td>1791.0</td>\n",
       "      <td>2</td>\n",
       "    </tr>\n",
       "    <tr>\n",
       "      <th>top</th>\n",
       "      <td>DB11581</td>\n",
       "      <td>O([C@]([C@@H](CN(C)C)C)(Cc1ccccc1)c1ccccc1)C(=...</td>\n",
       "      <td>Venetoclax</td>\n",
       "      <td>1.0</td>\n",
       "      <td>1.0</td>\n",
       "      <td>0</td>\n",
       "    </tr>\n",
       "    <tr>\n",
       "      <th>freq</th>\n",
       "      <td>1</td>\n",
       "      <td>2</td>\n",
       "      <td>1</td>\n",
       "      <td>22.0</td>\n",
       "      <td>20.0</td>\n",
       "      <td>1284</td>\n",
       "    </tr>\n",
       "  </tbody>\n",
       "</table>\n",
       "</div>"
      ],
      "text/plain": [
       "0      DrugBank ID                                             Smiles  \\\n",
       "count         1824                                               1824   \n",
       "unique        1824                                               1820   \n",
       "top        DB11581  O([C@]([C@@H](CN(C)C)C)(Cc1ccccc1)c1ccccc1)C(=...   \n",
       "freq             1                                                  2   \n",
       "\n",
       "0             Name  Predicted negative probability  \\\n",
       "count         1824                          1823.0   \n",
       "unique        1824                          1766.0   \n",
       "top     Venetoclax                             1.0   \n",
       "freq             1                            22.0   \n",
       "\n",
       "0       Predicted positive probability  Predicted classification  \n",
       "count                           1823.0                      1824  \n",
       "unique                          1791.0                         2  \n",
       "top                                1.0                         0  \n",
       "freq                              20.0                      1284  "
      ]
     },
     "execution_count": 6,
     "metadata": {},
     "output_type": "execute_result"
    }
   ],
   "source": [
    "df_publication.describe()"
   ]
  },
  {
   "cell_type": "markdown",
   "id": "1b79405d-3f13-4a04-8f00-0f62971494fb",
   "metadata": {},
   "source": [
    "## Number of blockers and non-blockers in the publication dataset"
   ]
  },
  {
   "cell_type": "code",
   "execution_count": 7,
   "id": "281ff439-8ace-4fa4-a636-0e8a61f68339",
   "metadata": {},
   "outputs": [
    {
     "name": "stdout",
     "output_type": "stream",
     "text": [
      "+----------+--------+------------+\n",
      "| Blockers | Number | Percentage |\n",
      "+----------+--------+------------+\n",
      "|   Yes    |  540   |   29.61%   |\n",
      "|    No    |  1284  |   70.39%   |\n",
      "+----------+--------+------------+\n"
     ]
    }
   ],
   "source": [
    "# Calculate classification counts\n",
    "publication_classification_counts = df_publication['Predicted classification'].value_counts()\n",
    "\n",
    "# Calculate percentage of classification counts\n",
    "total_count = publication_classification_counts.sum()\n",
    "percentage = (publication_classification_counts / total_count) * 100\n",
    "\n",
    "# Create PrettyTable\n",
    "publication_table = PrettyTable()\n",
    "publication_table.field_names = ['Blockers', 'Number', 'Percentage']\n",
    "\n",
    "# Add rows to the table\n",
    "publication_table.add_row(['Yes', publication_classification_counts[1], f\"{percentage[1]:.2f}%\"])\n",
    "publication_table.add_row(['No', publication_classification_counts[0], f\"{percentage[0]:.2f}%\"])\n",
    "\n",
    "# Print the table\n",
    "print(publication_table)"
   ]
  },
  {
   "cell_type": "markdown",
   "id": "0c1ae942-6bcb-4b2f-a91f-4229c4a335b2",
   "metadata": {},
   "source": [
    "```As mentioned by the authors in the publication, the percentage of hERG blockers in the FDA approved dataset of 1824 small molecule drugs is 29.6%. Thus, we have recreated the value that we are to reproduce. ```"
   ]
  },
  {
   "cell_type": "markdown",
   "id": "74980013-f171-47bb-87f1-33337d43f28b",
   "metadata": {},
   "source": [
    "Now, we will go ahead and find the predictions using Ersilia Model Hub and check whether we are able to reproduce the publication predictions."
   ]
  },
  {
   "cell_type": "markdown",
   "id": "83ef720b-9976-4186-9290-736574deaafe",
   "metadata": {},
   "source": [
    "## Creating new dataset with Name and Smiles of publication data"
   ]
  },
  {
   "cell_type": "code",
   "execution_count": 8,
   "id": "f79d9e9b-395e-4b86-b179-248a07720455",
   "metadata": {},
   "outputs": [
    {
     "data": {
      "text/html": [
       "<div>\n",
       "<style scoped>\n",
       "    .dataframe tbody tr th:only-of-type {\n",
       "        vertical-align: middle;\n",
       "    }\n",
       "\n",
       "    .dataframe tbody tr th {\n",
       "        vertical-align: top;\n",
       "    }\n",
       "\n",
       "    .dataframe thead th {\n",
       "        text-align: right;\n",
       "    }\n",
       "</style>\n",
       "<table border=\"1\" class=\"dataframe\">\n",
       "  <thead>\n",
       "    <tr style=\"text-align: right;\">\n",
       "      <th></th>\n",
       "      <th>Name</th>\n",
       "      <th>Smiles</th>\n",
       "    </tr>\n",
       "  </thead>\n",
       "  <tbody>\n",
       "    <tr>\n",
       "      <th>0</th>\n",
       "      <td>Venetoclax</td>\n",
       "      <td>Clc1ccc(cc1)C=1CC(CCC=1CN1CCN(CC1)c1cc(Oc2cc3c...</td>\n",
       "    </tr>\n",
       "    <tr>\n",
       "      <th>1</th>\n",
       "      <td>Grazoprevir</td>\n",
       "      <td>S(=O)(=O)(N=C(O)[C@@]1(N=C(O)[C@H]2N3C[C@H](Oc...</td>\n",
       "    </tr>\n",
       "    <tr>\n",
       "      <th>2</th>\n",
       "      <td>Elbasvir</td>\n",
       "      <td>O1c2cc(ccc2-c2n(c3c(cc(cc3)-c3nc([nH]c3)[C@H]3...</td>\n",
       "    </tr>\n",
       "    <tr>\n",
       "      <th>3</th>\n",
       "      <td>Lesinurad</td>\n",
       "      <td>Brc1nnc(SCC(O)=O)n1-c1c2c(cccc2)c(cc1)C1CC1</td>\n",
       "    </tr>\n",
       "    <tr>\n",
       "      <th>4</th>\n",
       "      <td>Cefroxadine</td>\n",
       "      <td>S1[C@H]2N(C(C(O)=O)=C(OC)C1)C(=O)[C@H]2NC(=O)[...</td>\n",
       "    </tr>\n",
       "  </tbody>\n",
       "</table>\n",
       "</div>"
      ],
      "text/plain": [
       "0         Name                                             Smiles\n",
       "0   Venetoclax  Clc1ccc(cc1)C=1CC(CCC=1CN1CCN(CC1)c1cc(Oc2cc3c...\n",
       "1  Grazoprevir  S(=O)(=O)(N=C(O)[C@@]1(N=C(O)[C@H]2N3C[C@H](Oc...\n",
       "2     Elbasvir  O1c2cc(ccc2-c2n(c3c(cc(cc3)-c3nc([nH]c3)[C@H]3...\n",
       "3    Lesinurad        Brc1nnc(SCC(O)=O)n1-c1c2c(cccc2)c(cc1)C1CC1\n",
       "4  Cefroxadine  S1[C@H]2N(C(C(O)=O)=C(OC)C1)C(=O)[C@H]2NC(=O)[..."
      ]
     },
     "execution_count": 8,
     "metadata": {},
     "output_type": "execute_result"
    }
   ],
   "source": [
    "# Select only the 'Name' and 'Smiles' columns\n",
    "new_df = df_publication[['Name', 'Smiles']]\n",
    "\n",
    "# Define the file path to save the CSV dataset\n",
    "file_path = '../data/input_task2.csv'\n",
    "\n",
    "# Save the new DataFrame as a CSV dataset\n",
    "new_df.to_csv(file_path, index=False)\n",
    "\n",
    "# Display the new DataFrame\n",
    "new_df.head()"
   ]
  },
  {
   "cell_type": "markdown",
   "id": "94a3f7ee-2c7b-4215-8dca-2a49ae8c95aa",
   "metadata": {},
   "source": [
    "This dataframe is saved as a csv file named input_task2.csv and the model on Ersilia Model Hub is run on this input data."
   ]
  },
  {
   "cell_type": "markdown",
   "id": "962a8f32-b224-43dd-8a43-ecf9e4149aa7",
   "metadata": {},
   "source": [
    "# Running the model on Ersilia Model Hub with the publication data"
   ]
  },
  {
   "cell_type": "markdown",
   "id": "2bbef2e0-0cfa-4a20-8aa7-abcd6ce6e237",
   "metadata": {},
   "source": [
    "The model is run on the terminal on the input data using the following commands:\n",
    "```\n",
    "ersilia -v fetch eos30gr\n",
    "ersilia serve eos30gr\n",
    "ersilia -v api run -i input_task2.csv -o output_task2.csv\n",
    "```\n",
    "The output after running the model is saved in `output_task2.csv` file which is present the `data` directory."
   ]
  },
  {
   "cell_type": "markdown",
   "id": "a63ae7e9-9b66-4cec-a1ce-420082ebfaf3",
   "metadata": {},
   "source": [
    "# Exploring the predicted data"
   ]
  },
  {
   "cell_type": "markdown",
   "id": "bc9fa07c-179e-4293-b56d-e2214307d71c",
   "metadata": {},
   "source": [
    "## Loading the predicted data"
   ]
  },
  {
   "cell_type": "code",
   "execution_count": 9,
   "id": "b5bbc3e0-f843-4768-b045-51f1e5ffe5c8",
   "metadata": {},
   "outputs": [
    {
     "data": {
      "text/html": [
       "<div>\n",
       "<style scoped>\n",
       "    .dataframe tbody tr th:only-of-type {\n",
       "        vertical-align: middle;\n",
       "    }\n",
       "\n",
       "    .dataframe tbody tr th {\n",
       "        vertical-align: top;\n",
       "    }\n",
       "\n",
       "    .dataframe thead th {\n",
       "        text-align: right;\n",
       "    }\n",
       "</style>\n",
       "<table border=\"1\" class=\"dataframe\">\n",
       "  <thead>\n",
       "    <tr style=\"text-align: right;\">\n",
       "      <th></th>\n",
       "      <th>key</th>\n",
       "      <th>input</th>\n",
       "      <th>activity10</th>\n",
       "    </tr>\n",
       "  </thead>\n",
       "  <tbody>\n",
       "    <tr>\n",
       "      <th>0</th>\n",
       "      <td>LQBVNQSMGBZMKD-UHFFFAOYSA-N</td>\n",
       "      <td>Clc1ccc(cc1)C=1CC(CCC=1CN1CCN(CC1)c1cc(Oc2cc3c...</td>\n",
       "      <td>0.440594</td>\n",
       "    </tr>\n",
       "    <tr>\n",
       "      <th>1</th>\n",
       "      <td>OBMNJSNZOWALQB-NCQNOWPTSA-N</td>\n",
       "      <td>S(=O)(=O)(N=C(O)[C@@]1(N=C(O)[C@H]2N3C[C@H](Oc...</td>\n",
       "      <td>0.333498</td>\n",
       "    </tr>\n",
       "    <tr>\n",
       "      <th>2</th>\n",
       "      <td>BVAZQCUMNICBAQ-PZHYSIFUSA-N</td>\n",
       "      <td>O1c2cc(ccc2-c2n(c3c(cc(cc3)-c3nc([nH]c3)[C@H]3...</td>\n",
       "      <td>0.351485</td>\n",
       "    </tr>\n",
       "    <tr>\n",
       "      <th>3</th>\n",
       "      <td>FGQFOYHRJSUHMR-UHFFFAOYSA-N</td>\n",
       "      <td>Brc1nnc(SCC(O)=O)n1-c1c2c(cccc2)c(cc1)C1CC1</td>\n",
       "      <td>0.329208</td>\n",
       "    </tr>\n",
       "    <tr>\n",
       "      <th>4</th>\n",
       "      <td>RDMOROXKXONCAL-UEKVPHQBSA-N</td>\n",
       "      <td>S1[C@H]2N(C(C(O)=O)=C(OC)C1)C(=O)[C@H]2NC(=O)[...</td>\n",
       "      <td>0.121040</td>\n",
       "    </tr>\n",
       "  </tbody>\n",
       "</table>\n",
       "</div>"
      ],
      "text/plain": [
       "                           key  \\\n",
       "0  LQBVNQSMGBZMKD-UHFFFAOYSA-N   \n",
       "1  OBMNJSNZOWALQB-NCQNOWPTSA-N   \n",
       "2  BVAZQCUMNICBAQ-PZHYSIFUSA-N   \n",
       "3  FGQFOYHRJSUHMR-UHFFFAOYSA-N   \n",
       "4  RDMOROXKXONCAL-UEKVPHQBSA-N   \n",
       "\n",
       "                                               input  activity10  \n",
       "0  Clc1ccc(cc1)C=1CC(CCC=1CN1CCN(CC1)c1cc(Oc2cc3c...    0.440594  \n",
       "1  S(=O)(=O)(N=C(O)[C@@]1(N=C(O)[C@H]2N3C[C@H](Oc...    0.333498  \n",
       "2  O1c2cc(ccc2-c2n(c3c(cc(cc3)-c3nc([nH]c3)[C@H]3...    0.351485  \n",
       "3        Brc1nnc(SCC(O)=O)n1-c1c2c(cccc2)c(cc1)C1CC1    0.329208  \n",
       "4  S1[C@H]2N(C(C(O)=O)=C(OC)C1)C(=O)[C@H]2NC(=O)[...    0.121040  "
      ]
     },
     "execution_count": 9,
     "metadata": {},
     "output_type": "execute_result"
    }
   ],
   "source": [
    "df_predicted = pd.read_csv('../data/output_task2.csv')\n",
    "df_predicted.head()"
   ]
  },
  {
   "cell_type": "markdown",
   "id": "4cfdbfc1-049a-4425-9c17-1efffc182d16",
   "metadata": {},
   "source": [
    "## Renaming the columns to match the publication data"
   ]
  },
  {
   "cell_type": "code",
   "execution_count": 10,
   "id": "cbd67507-1e0a-4ae9-9de2-af538b9a38fc",
   "metadata": {},
   "outputs": [
    {
     "data": {
      "text/html": [
       "<div>\n",
       "<style scoped>\n",
       "    .dataframe tbody tr th:only-of-type {\n",
       "        vertical-align: middle;\n",
       "    }\n",
       "\n",
       "    .dataframe tbody tr th {\n",
       "        vertical-align: top;\n",
       "    }\n",
       "\n",
       "    .dataframe thead th {\n",
       "        text-align: right;\n",
       "    }\n",
       "</style>\n",
       "<table border=\"1\" class=\"dataframe\">\n",
       "  <thead>\n",
       "    <tr style=\"text-align: right;\">\n",
       "      <th></th>\n",
       "      <th>Inchi_key</th>\n",
       "      <th>Smiles</th>\n",
       "      <th>Predicted positive probability</th>\n",
       "    </tr>\n",
       "  </thead>\n",
       "  <tbody>\n",
       "    <tr>\n",
       "      <th>0</th>\n",
       "      <td>LQBVNQSMGBZMKD-UHFFFAOYSA-N</td>\n",
       "      <td>Clc1ccc(cc1)C=1CC(CCC=1CN1CCN(CC1)c1cc(Oc2cc3c...</td>\n",
       "      <td>0.440594</td>\n",
       "    </tr>\n",
       "    <tr>\n",
       "      <th>1</th>\n",
       "      <td>OBMNJSNZOWALQB-NCQNOWPTSA-N</td>\n",
       "      <td>S(=O)(=O)(N=C(O)[C@@]1(N=C(O)[C@H]2N3C[C@H](Oc...</td>\n",
       "      <td>0.333498</td>\n",
       "    </tr>\n",
       "    <tr>\n",
       "      <th>2</th>\n",
       "      <td>BVAZQCUMNICBAQ-PZHYSIFUSA-N</td>\n",
       "      <td>O1c2cc(ccc2-c2n(c3c(cc(cc3)-c3nc([nH]c3)[C@H]3...</td>\n",
       "      <td>0.351485</td>\n",
       "    </tr>\n",
       "    <tr>\n",
       "      <th>3</th>\n",
       "      <td>FGQFOYHRJSUHMR-UHFFFAOYSA-N</td>\n",
       "      <td>Brc1nnc(SCC(O)=O)n1-c1c2c(cccc2)c(cc1)C1CC1</td>\n",
       "      <td>0.329208</td>\n",
       "    </tr>\n",
       "    <tr>\n",
       "      <th>4</th>\n",
       "      <td>RDMOROXKXONCAL-UEKVPHQBSA-N</td>\n",
       "      <td>S1[C@H]2N(C(C(O)=O)=C(OC)C1)C(=O)[C@H]2NC(=O)[...</td>\n",
       "      <td>0.121040</td>\n",
       "    </tr>\n",
       "  </tbody>\n",
       "</table>\n",
       "</div>"
      ],
      "text/plain": [
       "                     Inchi_key  \\\n",
       "0  LQBVNQSMGBZMKD-UHFFFAOYSA-N   \n",
       "1  OBMNJSNZOWALQB-NCQNOWPTSA-N   \n",
       "2  BVAZQCUMNICBAQ-PZHYSIFUSA-N   \n",
       "3  FGQFOYHRJSUHMR-UHFFFAOYSA-N   \n",
       "4  RDMOROXKXONCAL-UEKVPHQBSA-N   \n",
       "\n",
       "                                              Smiles  \\\n",
       "0  Clc1ccc(cc1)C=1CC(CCC=1CN1CCN(CC1)c1cc(Oc2cc3c...   \n",
       "1  S(=O)(=O)(N=C(O)[C@@]1(N=C(O)[C@H]2N3C[C@H](Oc...   \n",
       "2  O1c2cc(ccc2-c2n(c3c(cc(cc3)-c3nc([nH]c3)[C@H]3...   \n",
       "3        Brc1nnc(SCC(O)=O)n1-c1c2c(cccc2)c(cc1)C1CC1   \n",
       "4  S1[C@H]2N(C(C(O)=O)=C(OC)C1)C(=O)[C@H]2NC(=O)[...   \n",
       "\n",
       "   Predicted positive probability  \n",
       "0                        0.440594  \n",
       "1                        0.333498  \n",
       "2                        0.351485  \n",
       "3                        0.329208  \n",
       "4                        0.121040  "
      ]
     },
     "execution_count": 10,
     "metadata": {},
     "output_type": "execute_result"
    }
   ],
   "source": [
    "new_columns = ['Inchi_key', 'Smiles', 'Predicted positive probability']\n",
    "df_predicted.columns =  new_columns\n",
    "df_predicted.head()"
   ]
  },
  {
   "cell_type": "code",
   "execution_count": 11,
   "id": "621571c0-583c-42d0-a90d-da4d2a771bdd",
   "metadata": {},
   "outputs": [
    {
     "data": {
      "text/plain": [
       "Index(['Inchi_key', 'Smiles', 'Predicted positive probability'], dtype='object')"
      ]
     },
     "execution_count": 11,
     "metadata": {},
     "output_type": "execute_result"
    }
   ],
   "source": [
    "df_predicted.columns"
   ]
  },
  {
   "cell_type": "markdown",
   "id": "8f3c925a-16ce-4f42-a248-1cbe76f5bba3",
   "metadata": {},
   "source": [
    "## Adding the columns 'Name' and 'DrugBank ID' to predicted data"
   ]
  },
  {
   "cell_type": "code",
   "execution_count": 12,
   "id": "a193d295-b2bd-49cf-864a-429b1a9132f5",
   "metadata": {},
   "outputs": [
    {
     "data": {
      "text/html": [
       "<div>\n",
       "<style scoped>\n",
       "    .dataframe tbody tr th:only-of-type {\n",
       "        vertical-align: middle;\n",
       "    }\n",
       "\n",
       "    .dataframe tbody tr th {\n",
       "        vertical-align: top;\n",
       "    }\n",
       "\n",
       "    .dataframe thead th {\n",
       "        text-align: right;\n",
       "    }\n",
       "</style>\n",
       "<table border=\"1\" class=\"dataframe\">\n",
       "  <thead>\n",
       "    <tr style=\"text-align: right;\">\n",
       "      <th></th>\n",
       "      <th>DrugBank ID</th>\n",
       "      <th>Smiles</th>\n",
       "      <th>Name</th>\n",
       "      <th>Predicted positive probability</th>\n",
       "    </tr>\n",
       "  </thead>\n",
       "  <tbody>\n",
       "    <tr>\n",
       "      <th>0</th>\n",
       "      <td>DB11581</td>\n",
       "      <td>Clc1ccc(cc1)C=1CC(CCC=1CN1CCN(CC1)c1cc(Oc2cc3c...</td>\n",
       "      <td>Venetoclax</td>\n",
       "      <td>0.440594</td>\n",
       "    </tr>\n",
       "    <tr>\n",
       "      <th>1</th>\n",
       "      <td>DB11575</td>\n",
       "      <td>S(=O)(=O)(N=C(O)[C@@]1(N=C(O)[C@H]2N3C[C@H](Oc...</td>\n",
       "      <td>Grazoprevir</td>\n",
       "      <td>0.333498</td>\n",
       "    </tr>\n",
       "    <tr>\n",
       "      <th>2</th>\n",
       "      <td>DB11574</td>\n",
       "      <td>O1c2cc(ccc2-c2n(c3c(cc(cc3)-c3nc([nH]c3)[C@H]3...</td>\n",
       "      <td>Elbasvir</td>\n",
       "      <td>0.351485</td>\n",
       "    </tr>\n",
       "    <tr>\n",
       "      <th>3</th>\n",
       "      <td>DB11560</td>\n",
       "      <td>Brc1nnc(SCC(O)=O)n1-c1c2c(cccc2)c(cc1)C1CC1</td>\n",
       "      <td>Lesinurad</td>\n",
       "      <td>0.329208</td>\n",
       "    </tr>\n",
       "    <tr>\n",
       "      <th>4</th>\n",
       "      <td>DB11367</td>\n",
       "      <td>S1[C@H]2N(C(C(O)=O)=C(OC)C1)C(=O)[C@H]2NC(=O)[...</td>\n",
       "      <td>Cefroxadine</td>\n",
       "      <td>0.121040</td>\n",
       "    </tr>\n",
       "  </tbody>\n",
       "</table>\n",
       "</div>"
      ],
      "text/plain": [
       "  DrugBank ID                                             Smiles         Name  \\\n",
       "0     DB11581  Clc1ccc(cc1)C=1CC(CCC=1CN1CCN(CC1)c1cc(Oc2cc3c...   Venetoclax   \n",
       "1     DB11575  S(=O)(=O)(N=C(O)[C@@]1(N=C(O)[C@H]2N3C[C@H](Oc...  Grazoprevir   \n",
       "2     DB11574  O1c2cc(ccc2-c2n(c3c(cc(cc3)-c3nc([nH]c3)[C@H]3...     Elbasvir   \n",
       "3     DB11560        Brc1nnc(SCC(O)=O)n1-c1c2c(cccc2)c(cc1)C1CC1    Lesinurad   \n",
       "4     DB11367  S1[C@H]2N(C(C(O)=O)=C(OC)C1)C(=O)[C@H]2NC(=O)[...  Cefroxadine   \n",
       "\n",
       "   Predicted positive probability  \n",
       "0                        0.440594  \n",
       "1                        0.333498  \n",
       "2                        0.351485  \n",
       "3                        0.329208  \n",
       "4                        0.121040  "
      ]
     },
     "execution_count": 12,
     "metadata": {},
     "output_type": "execute_result"
    }
   ],
   "source": [
    "df_predicted = pd.merge(df_predicted, df_publication[['DrugBank ID', 'Name']], left_index=True, right_index=True)\n",
    "#dropping inchi key from prediction data\n",
    "df_predicted.drop('Inchi_key', axis = 1, inplace = True)\n",
    "#rearranging columns\n",
    "column_order = ['DrugBank ID', 'Smiles', 'Name', 'Predicted positive probability']\n",
    "df_predicted = df_predicted[column_order]\n",
    "df_predicted.head()"
   ]
  },
  {
   "cell_type": "markdown",
   "id": "a4c9160d-9926-4abb-9ff6-ad6e63e7a4e7",
   "metadata": {},
   "source": [
    "## Finding predicted negative probability"
   ]
  },
  {
   "cell_type": "code",
   "execution_count": 13,
   "id": "c31c5037-4cf4-4b9c-bbbc-353fea27a78d",
   "metadata": {},
   "outputs": [
    {
     "data": {
      "text/html": [
       "<div>\n",
       "<style scoped>\n",
       "    .dataframe tbody tr th:only-of-type {\n",
       "        vertical-align: middle;\n",
       "    }\n",
       "\n",
       "    .dataframe tbody tr th {\n",
       "        vertical-align: top;\n",
       "    }\n",
       "\n",
       "    .dataframe thead th {\n",
       "        text-align: right;\n",
       "    }\n",
       "</style>\n",
       "<table border=\"1\" class=\"dataframe\">\n",
       "  <thead>\n",
       "    <tr style=\"text-align: right;\">\n",
       "      <th></th>\n",
       "      <th>DrugBank ID</th>\n",
       "      <th>Smiles</th>\n",
       "      <th>Name</th>\n",
       "      <th>Predicted positive probability</th>\n",
       "      <th>Predicted negative probability</th>\n",
       "    </tr>\n",
       "  </thead>\n",
       "  <tbody>\n",
       "    <tr>\n",
       "      <th>0</th>\n",
       "      <td>DB11581</td>\n",
       "      <td>Clc1ccc(cc1)C=1CC(CCC=1CN1CCN(CC1)c1cc(Oc2cc3c...</td>\n",
       "      <td>Venetoclax</td>\n",
       "      <td>0.440594</td>\n",
       "      <td>0.559406</td>\n",
       "    </tr>\n",
       "    <tr>\n",
       "      <th>1</th>\n",
       "      <td>DB11575</td>\n",
       "      <td>S(=O)(=O)(N=C(O)[C@@]1(N=C(O)[C@H]2N3C[C@H](Oc...</td>\n",
       "      <td>Grazoprevir</td>\n",
       "      <td>0.333498</td>\n",
       "      <td>0.666502</td>\n",
       "    </tr>\n",
       "    <tr>\n",
       "      <th>2</th>\n",
       "      <td>DB11574</td>\n",
       "      <td>O1c2cc(ccc2-c2n(c3c(cc(cc3)-c3nc([nH]c3)[C@H]3...</td>\n",
       "      <td>Elbasvir</td>\n",
       "      <td>0.351485</td>\n",
       "      <td>0.648515</td>\n",
       "    </tr>\n",
       "    <tr>\n",
       "      <th>3</th>\n",
       "      <td>DB11560</td>\n",
       "      <td>Brc1nnc(SCC(O)=O)n1-c1c2c(cccc2)c(cc1)C1CC1</td>\n",
       "      <td>Lesinurad</td>\n",
       "      <td>0.329208</td>\n",
       "      <td>0.670792</td>\n",
       "    </tr>\n",
       "    <tr>\n",
       "      <th>4</th>\n",
       "      <td>DB11367</td>\n",
       "      <td>S1[C@H]2N(C(C(O)=O)=C(OC)C1)C(=O)[C@H]2NC(=O)[...</td>\n",
       "      <td>Cefroxadine</td>\n",
       "      <td>0.121040</td>\n",
       "      <td>0.878960</td>\n",
       "    </tr>\n",
       "  </tbody>\n",
       "</table>\n",
       "</div>"
      ],
      "text/plain": [
       "  DrugBank ID                                             Smiles         Name  \\\n",
       "0     DB11581  Clc1ccc(cc1)C=1CC(CCC=1CN1CCN(CC1)c1cc(Oc2cc3c...   Venetoclax   \n",
       "1     DB11575  S(=O)(=O)(N=C(O)[C@@]1(N=C(O)[C@H]2N3C[C@H](Oc...  Grazoprevir   \n",
       "2     DB11574  O1c2cc(ccc2-c2n(c3c(cc(cc3)-c3nc([nH]c3)[C@H]3...     Elbasvir   \n",
       "3     DB11560        Brc1nnc(SCC(O)=O)n1-c1c2c(cccc2)c(cc1)C1CC1    Lesinurad   \n",
       "4     DB11367  S1[C@H]2N(C(C(O)=O)=C(OC)C1)C(=O)[C@H]2NC(=O)[...  Cefroxadine   \n",
       "\n",
       "   Predicted positive probability  Predicted negative probability  \n",
       "0                        0.440594                        0.559406  \n",
       "1                        0.333498                        0.666502  \n",
       "2                        0.351485                        0.648515  \n",
       "3                        0.329208                        0.670792  \n",
       "4                        0.121040                        0.878960  "
      ]
     },
     "execution_count": 13,
     "metadata": {},
     "output_type": "execute_result"
    }
   ],
   "source": [
    "df_predicted['Predicted negative probability'] = 1 - df_predicted['Predicted positive probability']\n",
    "df_predicted.head()"
   ]
  },
  {
   "cell_type": "markdown",
   "id": "443c8ed8-3dff-4de4-948b-9136bf20c18b",
   "metadata": {},
   "source": [
    "## Finding the classification of molecules on the basis of predicted positive probabilites"
   ]
  },
  {
   "cell_type": "code",
   "execution_count": 14,
   "id": "bdf6c0a9-ebb8-4c4a-b883-0a1eab6f2783",
   "metadata": {},
   "outputs": [
    {
     "data": {
      "text/html": [
       "<div>\n",
       "<style scoped>\n",
       "    .dataframe tbody tr th:only-of-type {\n",
       "        vertical-align: middle;\n",
       "    }\n",
       "\n",
       "    .dataframe tbody tr th {\n",
       "        vertical-align: top;\n",
       "    }\n",
       "\n",
       "    .dataframe thead th {\n",
       "        text-align: right;\n",
       "    }\n",
       "</style>\n",
       "<table border=\"1\" class=\"dataframe\">\n",
       "  <thead>\n",
       "    <tr style=\"text-align: right;\">\n",
       "      <th></th>\n",
       "      <th>DrugBank ID</th>\n",
       "      <th>Smiles</th>\n",
       "      <th>Name</th>\n",
       "      <th>Predicted positive probability</th>\n",
       "      <th>Predicted negative probability</th>\n",
       "      <th>Predicted classification</th>\n",
       "    </tr>\n",
       "  </thead>\n",
       "  <tbody>\n",
       "    <tr>\n",
       "      <th>0</th>\n",
       "      <td>DB11581</td>\n",
       "      <td>Clc1ccc(cc1)C=1CC(CCC=1CN1CCN(CC1)c1cc(Oc2cc3c...</td>\n",
       "      <td>Venetoclax</td>\n",
       "      <td>0.440594</td>\n",
       "      <td>0.559406</td>\n",
       "      <td>0</td>\n",
       "    </tr>\n",
       "    <tr>\n",
       "      <th>1</th>\n",
       "      <td>DB11575</td>\n",
       "      <td>S(=O)(=O)(N=C(O)[C@@]1(N=C(O)[C@H]2N3C[C@H](Oc...</td>\n",
       "      <td>Grazoprevir</td>\n",
       "      <td>0.333498</td>\n",
       "      <td>0.666502</td>\n",
       "      <td>0</td>\n",
       "    </tr>\n",
       "    <tr>\n",
       "      <th>2</th>\n",
       "      <td>DB11574</td>\n",
       "      <td>O1c2cc(ccc2-c2n(c3c(cc(cc3)-c3nc([nH]c3)[C@H]3...</td>\n",
       "      <td>Elbasvir</td>\n",
       "      <td>0.351485</td>\n",
       "      <td>0.648515</td>\n",
       "      <td>0</td>\n",
       "    </tr>\n",
       "    <tr>\n",
       "      <th>3</th>\n",
       "      <td>DB11560</td>\n",
       "      <td>Brc1nnc(SCC(O)=O)n1-c1c2c(cccc2)c(cc1)C1CC1</td>\n",
       "      <td>Lesinurad</td>\n",
       "      <td>0.329208</td>\n",
       "      <td>0.670792</td>\n",
       "      <td>0</td>\n",
       "    </tr>\n",
       "    <tr>\n",
       "      <th>4</th>\n",
       "      <td>DB11367</td>\n",
       "      <td>S1[C@H]2N(C(C(O)=O)=C(OC)C1)C(=O)[C@H]2NC(=O)[...</td>\n",
       "      <td>Cefroxadine</td>\n",
       "      <td>0.121040</td>\n",
       "      <td>0.878960</td>\n",
       "      <td>0</td>\n",
       "    </tr>\n",
       "  </tbody>\n",
       "</table>\n",
       "</div>"
      ],
      "text/plain": [
       "  DrugBank ID                                             Smiles         Name  \\\n",
       "0     DB11581  Clc1ccc(cc1)C=1CC(CCC=1CN1CCN(CC1)c1cc(Oc2cc3c...   Venetoclax   \n",
       "1     DB11575  S(=O)(=O)(N=C(O)[C@@]1(N=C(O)[C@H]2N3C[C@H](Oc...  Grazoprevir   \n",
       "2     DB11574  O1c2cc(ccc2-c2n(c3c(cc(cc3)-c3nc([nH]c3)[C@H]3...     Elbasvir   \n",
       "3     DB11560        Brc1nnc(SCC(O)=O)n1-c1c2c(cccc2)c(cc1)C1CC1    Lesinurad   \n",
       "4     DB11367  S1[C@H]2N(C(C(O)=O)=C(OC)C1)C(=O)[C@H]2NC(=O)[...  Cefroxadine   \n",
       "\n",
       "   Predicted positive probability  Predicted negative probability  \\\n",
       "0                        0.440594                        0.559406   \n",
       "1                        0.333498                        0.666502   \n",
       "2                        0.351485                        0.648515   \n",
       "3                        0.329208                        0.670792   \n",
       "4                        0.121040                        0.878960   \n",
       "\n",
       "   Predicted classification  \n",
       "0                         0  \n",
       "1                         0  \n",
       "2                         0  \n",
       "3                         0  \n",
       "4                         0  "
      ]
     },
     "execution_count": 14,
     "metadata": {},
     "output_type": "execute_result"
    }
   ],
   "source": [
    "df_predicted['Predicted classification'] = np.where(df_predicted['Predicted positive probability'] >= 0.5, 1, 0)\n",
    "df_predicted.head()"
   ]
  },
  {
   "cell_type": "markdown",
   "id": "4bbe9b1b-b084-45e5-a29f-3144468475a6",
   "metadata": {},
   "source": [
    "## Number of blockers and non-blockers in the prediction dataset"
   ]
  },
  {
   "cell_type": "code",
   "execution_count": 15,
   "id": "32bf68ae-5e52-4107-bb66-aacee1e257dc",
   "metadata": {},
   "outputs": [
    {
     "name": "stdout",
     "output_type": "stream",
     "text": [
      "+----------+--------+------------+\n",
      "| Blockers | Number | Percentage |\n",
      "+----------+--------+------------+\n",
      "|   Yes    |  413   |   22.64%   |\n",
      "|    No    |  1411  |   77.36%   |\n",
      "+----------+--------+------------+\n"
     ]
    }
   ],
   "source": [
    "# Calculate classification counts\n",
    "prediction_classification_counts = df_predicted['Predicted classification'].value_counts()\n",
    "\n",
    "# Calculate percentage of classification counts\n",
    "total_count = prediction_classification_counts.sum()\n",
    "percentage = (prediction_classification_counts / total_count) * 100\n",
    "\n",
    "# Create PrettyTable\n",
    "prediction_table = PrettyTable()\n",
    "prediction_table.field_names = ['Blockers', 'Number', 'Percentage']\n",
    "\n",
    "# Add rows to the table\n",
    "prediction_table.add_row(['Yes', prediction_classification_counts[1], f\"{percentage[1]:.2f}%\"])\n",
    "prediction_table.add_row(['No', prediction_classification_counts[0], f\"{percentage[0]:.2f}%\"])\n",
    "\n",
    "# Print the table\n",
    "print(prediction_table)"
   ]
  },
  {
   "cell_type": "markdown",
   "id": "38319dd9-8e7e-4642-8a18-175fd3426427",
   "metadata": {},
   "source": [
    "Here, we see that the percentage of hERG blockers predicted using Ersilia Model Hub, i.e., 22.64% differs from the percentage given by the authors, i.e., 29.6%."
   ]
  },
  {
   "cell_type": "markdown",
   "id": "de1e9f09-d974-4b5b-bee9-909e8ba9d065",
   "metadata": {},
   "source": [
    "Thus, we will now find for how many molecules is the prediction differing."
   ]
  },
  {
   "cell_type": "markdown",
   "id": "2a1d3766-eada-41f8-9120-81e9ef3888dc",
   "metadata": {},
   "source": [
    "# Finding differing classifications"
   ]
  },
  {
   "cell_type": "code",
   "execution_count": 16,
   "id": "4d6aac7c-a24a-42ae-983c-bab671094ef8",
   "metadata": {},
   "outputs": [
    {
     "name": "stdout",
     "output_type": "stream",
     "text": [
      "Number of molecules with different classification values: 301\n",
      "Percentage of molecules with different classification values: 16.50%\n"
     ]
    }
   ],
   "source": [
    "# Merge the dataframes on 'Smiles' to align the classification values\n",
    "merged_df = df_predicted.merge(df_publication[['Smiles', 'Predicted classification']], on='Smiles', suffixes=('_predicted', '_publication'))\n",
    "\n",
    "# Count the number of molecules where the classification values are different\n",
    "different_classification_count = (merged_df['Predicted classification_predicted'] != merged_df['Predicted classification_publication']).sum()\n",
    "\n",
    "total_molecules = len(df_predicted)\n",
    "percentage_different_classification = (different_classification_count / total_molecules) * 100\n",
    "\n",
    "print(\"Number of molecules with different classification values:\", different_classification_count)\n",
    "print(\"Percentage of molecules with different classification values: {:.2f}%\".format(percentage_different_classification))"
   ]
  },
  {
   "cell_type": "markdown",
   "id": "ff773932-68fa-4a76-a276-87dd8f13b30f",
   "metadata": {},
   "source": [
    "# Comparing the original implementation vs the EMH result"
   ]
  },
  {
   "cell_type": "markdown",
   "id": "3dbeccc0-2ddd-443e-ac38-645d8e24005a",
   "metadata": {},
   "source": [
    "## Comparison of predicted positive probabilities"
   ]
  },
  {
   "cell_type": "code",
   "execution_count": 17,
   "id": "351ea20f-f114-492f-a8cf-a8598758a1e9",
   "metadata": {},
   "outputs": [
    {
     "data": {
      "image/png": "[encoded data removed]",
      "text/plain": [
       "<Figure size 1000x600 with 1 Axes>"
      ]
     },
     "metadata": {},
     "output_type": "display_data"
    }
   ],
   "source": [
    "publication_probabilities_sorted = df_publication['Predicted positive probability'].sort_values().reset_index(drop=True)\n",
    "prediction_probabilities_sorted = df_predicted['Predicted positive probability'].sort_values().reset_index(drop=True)\n",
    "\n",
    "# Plotting\n",
    "plt.figure(figsize=(10, 6))\n",
    "plt.plot(publication_probabilities_sorted, label='Publication Probabilities', color='blue')\n",
    "plt.plot(prediction_probabilities_sorted, label='Prediction Probabilities', color='green')\n",
    "plt.title('Comparison of Positive Predictive Probabilities')\n",
    "plt.xlabel('Molecule Index')\n",
    "plt.ylabel('Predicted Probability')\n",
    "plt.legend()\n",
    "plt.grid(True)\n",
    "#Save the plot\n",
    "figure_path = '../figures/comparison_of_predicted_positive_probabilities.png'\n",
    "plt.savefig(figure_path)\n",
    "plt.show()"
   ]
  },
  {
   "cell_type": "markdown",
   "id": "5eb0f352-8ea2-4bd7-b4bc-be88f0e4a18e",
   "metadata": {},
   "source": [
    "## Comparison of predicted negative probabilities"
   ]
  },
  {
   "cell_type": "code",
   "execution_count": 18,
   "id": "261cdd5f-761c-4bc3-8559-06fe37c6324e",
   "metadata": {},
   "outputs": [
    {
     "data": {
      "image/png": "[encoded data removed]",
      "text/plain": [
       "<Figure size 1000x600 with 1 Axes>"
      ]
     },
     "metadata": {},
     "output_type": "display_data"
    }
   ],
   "source": [
    "publication_probabilities_sorted = df_publication['Predicted negative probability'].sort_values().reset_index(drop=True)\n",
    "prediction_probabilities_sorted = df_predicted['Predicted negative probability'].sort_values().reset_index(drop=True)\n",
    "\n",
    "# Plotting\n",
    "plt.figure(figsize=(10, 6))\n",
    "plt.plot(publication_probabilities_sorted, label='Publication Probabilities', color='red')\n",
    "plt.plot(prediction_probabilities_sorted, label='Prediction Probabilities', color='orange')\n",
    "plt.title('Comparison of Negative Predictive Probabilities')\n",
    "plt.xlabel('Molecule Index')\n",
    "plt.ylabel('Predicted Probability')\n",
    "plt.legend()\n",
    "plt.grid(True)\n",
    "#Save the plot\n",
    "figure_path = '../figures/comparison_of_predicted_negative_probabilities.png'\n",
    "plt.savefig(figure_path)\n",
    "plt.show()"
   ]
  },
  {
   "cell_type": "markdown",
   "id": "d13b4893-8894-47bd-9d67-d8c841448574",
   "metadata": {},
   "source": [
    "## Comparison of percentage of blockers"
   ]
  },
  {
   "cell_type": "code",
   "execution_count": 19,
   "id": "6ce73c68-5dc9-495a-983c-c1006a45dffb",
   "metadata": {},
   "outputs": [
    {
     "data": {
      "image/png": "[encoded data removed]",
      "text/plain": [
       "<Figure size 1000x600 with 1 Axes>"
      ]
     },
     "metadata": {},
     "output_type": "display_data"
    }
   ],
   "source": [
    "# Data\n",
    "blockers = ['Yes', 'No']\n",
    "publication_numbers = [540, 1284]\n",
    "prediction_numbers = [413, 1411]\n",
    "publication_percentages = [29.61, 70.39]\n",
    "prediction_percentages = [22.64, 77.36]\n",
    "\n",
    "# Plotting\n",
    "fig, ax = plt.subplots(figsize=(10, 6))\n",
    "\n",
    "# Plotting bars\n",
    "bar_width = 0.35\n",
    "x = range(len(blockers))\n",
    "ax.bar(x, publication_percentages, width=bar_width, label='Publication', color='skyblue')\n",
    "ax.bar([i + bar_width for i in x], prediction_percentages, width=bar_width, label='Prediction', color='orange')\n",
    "\n",
    "# Annotating percentages\n",
    "for i in range(len(blockers)):\n",
    "    ax.text(i, publication_percentages[i] + 1, f'{publication_percentages[i]:.2f}%', ha='center', color='black', fontsize=10)\n",
    "    ax.text(i + bar_width, prediction_percentages[i] + 1, f'{prediction_percentages[i]:.2f}%', ha='center', color='black', fontsize=10)\n",
    "\n",
    "# Customizing plot\n",
    "ax.set_xlabel('Blockers', fontsize=12)\n",
    "ax.set_ylabel('Percentage', fontsize=12)\n",
    "ax.set_title('Comparison of Blockers by Percentage', fontsize=14)\n",
    "ax.set_xticks([i + bar_width / 2 for i in x])\n",
    "ax.set_xticklabels(blockers)\n",
    "ax.legend()\n",
    "\n",
    "#Save the plot\n",
    "figure_path = '../figures/comparison_of_percentage_of_blockers.png'\n",
    "plt.savefig(figure_path)\n",
    "\n",
    "# Show plot\n",
    "plt.tight_layout()\n",
    "plt.show()\n"
   ]
  },
  {
   "cell_type": "markdown",
   "id": "88de6083-78f6-4183-9abb-d254333dff9b",
   "metadata": {},
   "source": [
    "**So, from the above analysis, we can conclude that the output results generated by the model from Ersilia Model Hub does not match the results of the publication. Therefore, we can say that the model `eos30gr` is not reproducible.** "
   ]
  },
  {
   "cell_type": "code",
   "execution_count": null,
   "id": "d001dded-d06d-4205-9482-24b6304e8421",
   "metadata": {},
   "outputs": [],
   "source": []
  }
 ],
 "metadata": {
  "kernelspec": {
   "display_name": "Python 3 (ipykernel)",
   "language": "python",
   "name": "python3"
  },
  "language_info": {
   "codemirror_mode": {
    "name": "ipython",
    "version": 3
   },
   "file_extension": ".py",
   "mimetype": "text/x-python",
   "name": "python",
   "nbconvert_exporter": "python",
   "pygments_lexer": "ipython3",
   "version": "3.10.13"
  }
 },
 "nbformat": 4,
 "nbformat_minor": 5
}
