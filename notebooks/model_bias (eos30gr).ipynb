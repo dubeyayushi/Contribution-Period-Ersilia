{
 "cells": [
  {
   "cell_type": "markdown",
   "id": "e01b3926-90c5-4e32-a7cb-32921de110f5",
   "metadata": {},
   "source": [
    "`Created by Ayushi Dubey`"
   ]
  },
  {
   "cell_type": "markdown",
   "id": "58aedb17-5be3-42cd-9611-355aa5e32fec",
   "metadata": {},
   "source": [
    "# Importing Necessary Libraries"
   ]
  },
  {
   "cell_type": "markdown",
   "id": "e4eb0bbb-a680-4df0-aa48-3907b0d92852",
   "metadata": {},
   "source": [
    "All the necessary libraries used in the notebook are imported in the below cell. The functions - `standardise_smiles` and `standardise_inchikey` described in the `src` directory are also imported below."
   ]
  },
  {
   "cell_type": "code",
   "execution_count": 1,
   "id": "8ae596bb-957a-4135-869e-5de836891a02",
   "metadata": {},
   "outputs": [],
   "source": [
    "import pandas as pd\n",
    "import numpy as np\n",
    "import seaborn as sns\n",
    "import matplotlib.pyplot as plt\n",
    "import sys\n",
    "sys.path.append('../src')\n",
    "from smiles_processing import standardise_smiles\n",
    "from inchikey_processing import standardise_inchikey"
   ]
  },
  {
   "cell_type": "markdown",
   "id": "7b00c479-b824-496a-a5e4-6621e09d7c62",
   "metadata": {},
   "source": [
    "# Data Preprocessing"
   ]
  },
  {
   "cell_type": "markdown",
   "id": "648ab3ba-c423-4c40-9882-eeb8def6c1c5",
   "metadata": {},
   "source": [
    "The dataset was downloaded from ChEMBL in tsv format. Dataset contains 8715 entries. Thus, it is preprocessed to check for null or irrelevant data and satisfy the required format."
   ]
  },
  {
   "cell_type": "markdown",
   "id": "f6d84ccb-9ab2-4208-9aca-e4873bba1d5a",
   "metadata": {},
   "source": [
    "## Reading the raw data"
   ]
  },
  {
   "cell_type": "code",
   "execution_count": 2,
   "id": "e519a120-4ba3-4d4d-9089-10dc154565c1",
   "metadata": {},
   "outputs": [],
   "source": [
    "df = pd.read_csv('../data/raw_data.tsv', delimiter='\\t')"
   ]
  },
  {
   "cell_type": "markdown",
   "id": "56bff5b6-17c1-422b-ada4-024500e23ed9",
   "metadata": {},
   "source": [
    "## Exploring the raw data"
   ]
  },
  {
   "cell_type": "code",
   "execution_count": 3,
   "id": "58be537f-7ea0-40af-90ac-ef1dfe8b5826",
   "metadata": {},
   "outputs": [
    {
     "data": {
      "text/html": [
       "<div>\n",
       "<style scoped>\n",
       "    .dataframe tbody tr th:only-of-type {\n",
       "        vertical-align: middle;\n",
       "    }\n",
       "\n",
       "    .dataframe tbody tr th {\n",
       "        vertical-align: top;\n",
       "    }\n",
       "\n",
       "    .dataframe thead th {\n",
       "        text-align: right;\n",
       "    }\n",
       "</style>\n",
       "<table border=\"1\" class=\"dataframe\">\n",
       "  <thead>\n",
       "    <tr style=\"text-align: right;\">\n",
       "      <th></th>\n",
       "      <th>ChEMBL ID</th>\n",
       "      <th>Name</th>\n",
       "      <th>Synonyms</th>\n",
       "      <th>Type</th>\n",
       "      <th>Max Phase</th>\n",
       "      <th>Molecular Weight</th>\n",
       "      <th>Targets</th>\n",
       "      <th>Bioactivities</th>\n",
       "      <th>AlogP</th>\n",
       "      <th>Polar Surface Area</th>\n",
       "      <th>...</th>\n",
       "      <th>Heavy Atoms</th>\n",
       "      <th>HBA (Lipinski)</th>\n",
       "      <th>HBD (Lipinski)</th>\n",
       "      <th>#RO5 Violations (Lipinski)</th>\n",
       "      <th>Molecular Weight (Monoisotopic)</th>\n",
       "      <th>Np Likeness Score</th>\n",
       "      <th>Molecular Species</th>\n",
       "      <th>Molecular Formula</th>\n",
       "      <th>Smiles</th>\n",
       "      <th>Inchi Key</th>\n",
       "    </tr>\n",
       "  </thead>\n",
       "  <tbody>\n",
       "    <tr>\n",
       "      <th>0</th>\n",
       "      <td>CHEMBL1964670</td>\n",
       "      <td>NaN</td>\n",
       "      <td>NaN</td>\n",
       "      <td>Small molecule</td>\n",
       "      <td>NaN</td>\n",
       "      <td>132.16</td>\n",
       "      <td>53.0</td>\n",
       "      <td>53.0</td>\n",
       "      <td>0.32</td>\n",
       "      <td>46.53</td>\n",
       "      <td>...</td>\n",
       "      <td>9</td>\n",
       "      <td>3</td>\n",
       "      <td>1</td>\n",
       "      <td>0</td>\n",
       "      <td>132.0786</td>\n",
       "      <td>0.45</td>\n",
       "      <td>NEUTRAL</td>\n",
       "      <td>C6H12O3</td>\n",
       "      <td>CCOC(=O)CCCO</td>\n",
       "      <td>AYPJVXQBVHCUCJ-UHFFFAOYSA-N</td>\n",
       "    </tr>\n",
       "    <tr>\n",
       "      <th>1</th>\n",
       "      <td>CHEMBL3120732</td>\n",
       "      <td>NaN</td>\n",
       "      <td>NaN</td>\n",
       "      <td>Small molecule</td>\n",
       "      <td>NaN</td>\n",
       "      <td>198.27</td>\n",
       "      <td>2.0</td>\n",
       "      <td>3.0</td>\n",
       "      <td>0.57</td>\n",
       "      <td>58.20</td>\n",
       "      <td>...</td>\n",
       "      <td>14</td>\n",
       "      <td>4</td>\n",
       "      <td>2</td>\n",
       "      <td>0</td>\n",
       "      <td>198.1368</td>\n",
       "      <td>-0.39</td>\n",
       "      <td>NEUTRAL</td>\n",
       "      <td>C10H18N2O2</td>\n",
       "      <td>CC(=O)NC1CCC(NC(C)=O)CC1</td>\n",
       "      <td>TVILGUBKPIUIFC-UHFFFAOYSA-N</td>\n",
       "    </tr>\n",
       "    <tr>\n",
       "      <th>2</th>\n",
       "      <td>CHEMBL44100</td>\n",
       "      <td>NaN</td>\n",
       "      <td>NaN</td>\n",
       "      <td>Small molecule</td>\n",
       "      <td>NaN</td>\n",
       "      <td>179.18</td>\n",
       "      <td>5.0</td>\n",
       "      <td>5.0</td>\n",
       "      <td>0.72</td>\n",
       "      <td>80.36</td>\n",
       "      <td>...</td>\n",
       "      <td>13</td>\n",
       "      <td>5</td>\n",
       "      <td>4</td>\n",
       "      <td>0</td>\n",
       "      <td>179.0695</td>\n",
       "      <td>-0.51</td>\n",
       "      <td>BASE</td>\n",
       "      <td>C8H9N3O2</td>\n",
       "      <td>N=C(N)Nc1ccc2c(c1)OCO2</td>\n",
       "      <td>OZINHCFSCQEUPW-UHFFFAOYSA-N</td>\n",
       "    </tr>\n",
       "    <tr>\n",
       "      <th>3</th>\n",
       "      <td>CHEMBL111759</td>\n",
       "      <td>NaN</td>\n",
       "      <td>N-Prenyl Agmatine</td>\n",
       "      <td>Small molecule</td>\n",
       "      <td>NaN</td>\n",
       "      <td>198.31</td>\n",
       "      <td>3.0</td>\n",
       "      <td>11.0</td>\n",
       "      <td>0.81</td>\n",
       "      <td>73.93</td>\n",
       "      <td>...</td>\n",
       "      <td>14</td>\n",
       "      <td>4</td>\n",
       "      <td>5</td>\n",
       "      <td>0</td>\n",
       "      <td>198.1844</td>\n",
       "      <td>1.25</td>\n",
       "      <td>BASE</td>\n",
       "      <td>C10H22N4</td>\n",
       "      <td>CC(C)=CCNC(=N)NCCCCN</td>\n",
       "      <td>VACJHYSOFQSYAC-UHFFFAOYSA-N</td>\n",
       "    </tr>\n",
       "    <tr>\n",
       "      <th>4</th>\n",
       "      <td>CHEMBL1968584</td>\n",
       "      <td>NaN</td>\n",
       "      <td>NaN</td>\n",
       "      <td>Small molecule</td>\n",
       "      <td>NaN</td>\n",
       "      <td>140.14</td>\n",
       "      <td>56.0</td>\n",
       "      <td>56.0</td>\n",
       "      <td>0.75</td>\n",
       "      <td>54.37</td>\n",
       "      <td>...</td>\n",
       "      <td>10</td>\n",
       "      <td>3</td>\n",
       "      <td>1</td>\n",
       "      <td>0</td>\n",
       "      <td>140.0473</td>\n",
       "      <td>0.47</td>\n",
       "      <td>ACID</td>\n",
       "      <td>C7H8O3</td>\n",
       "      <td>CC(O)=C1C(=O)CCC1=O</td>\n",
       "      <td>AJIYRXFNAHUXKP-UHFFFAOYSA-N</td>\n",
       "    </tr>\n",
       "  </tbody>\n",
       "</table>\n",
       "<p>5 rows × 33 columns</p>\n",
       "</div>"
      ],
      "text/plain": [
       "       ChEMBL ID Name           Synonyms            Type  Max Phase  \\\n",
       "0  CHEMBL1964670  NaN                NaN  Small molecule        NaN   \n",
       "1  CHEMBL3120732  NaN                NaN  Small molecule        NaN   \n",
       "2    CHEMBL44100  NaN                NaN  Small molecule        NaN   \n",
       "3   CHEMBL111759  NaN  N-Prenyl Agmatine  Small molecule        NaN   \n",
       "4  CHEMBL1968584  NaN                NaN  Small molecule        NaN   \n",
       "\n",
       "   Molecular Weight  Targets  Bioactivities  AlogP  Polar Surface Area  ...  \\\n",
       "0            132.16     53.0           53.0   0.32               46.53  ...   \n",
       "1            198.27      2.0            3.0   0.57               58.20  ...   \n",
       "2            179.18      5.0            5.0   0.72               80.36  ...   \n",
       "3            198.31      3.0           11.0   0.81               73.93  ...   \n",
       "4            140.14     56.0           56.0   0.75               54.37  ...   \n",
       "\n",
       "   Heavy Atoms  HBA (Lipinski)  HBD (Lipinski)  #RO5 Violations (Lipinski)  \\\n",
       "0            9               3               1                           0   \n",
       "1           14               4               2                           0   \n",
       "2           13               5               4                           0   \n",
       "3           14               4               5                           0   \n",
       "4           10               3               1                           0   \n",
       "\n",
       "  Molecular Weight (Monoisotopic)  Np Likeness Score Molecular Species  \\\n",
       "0                        132.0786               0.45           NEUTRAL   \n",
       "1                        198.1368              -0.39           NEUTRAL   \n",
       "2                        179.0695              -0.51              BASE   \n",
       "3                        198.1844               1.25              BASE   \n",
       "4                        140.0473               0.47              ACID   \n",
       "\n",
       "  Molecular Formula                    Smiles                    Inchi Key  \n",
       "0           C6H12O3              CCOC(=O)CCCO  AYPJVXQBVHCUCJ-UHFFFAOYSA-N  \n",
       "1        C10H18N2O2  CC(=O)NC1CCC(NC(C)=O)CC1  TVILGUBKPIUIFC-UHFFFAOYSA-N  \n",
       "2          C8H9N3O2    N=C(N)Nc1ccc2c(c1)OCO2  OZINHCFSCQEUPW-UHFFFAOYSA-N  \n",
       "3          C10H22N4      CC(C)=CCNC(=N)NCCCCN  VACJHYSOFQSYAC-UHFFFAOYSA-N  \n",
       "4            C7H8O3       CC(O)=C1C(=O)CCC1=O  AJIYRXFNAHUXKP-UHFFFAOYSA-N  \n",
       "\n",
       "[5 rows x 33 columns]"
      ]
     },
     "execution_count": 3,
     "metadata": {},
     "output_type": "execute_result"
    }
   ],
   "source": [
    "df.head()"
   ]
  },
  {
   "cell_type": "code",
   "execution_count": 4,
   "id": "3bca1ae0-b1f1-4ccd-994c-1c19ee9ece56",
   "metadata": {},
   "outputs": [
    {
     "name": "stdout",
     "output_type": "stream",
     "text": [
      "<class 'pandas.core.frame.DataFrame'>\n",
      "RangeIndex: 8715 entries, 0 to 8714\n",
      "Data columns (total 33 columns):\n",
      " #   Column                           Non-Null Count  Dtype  \n",
      "---  ------                           --------------  -----  \n",
      " 0   ChEMBL ID                        8715 non-null   object \n",
      " 1   Name                             670 non-null    object \n",
      " 2   Synonyms                         1168 non-null   object \n",
      " 3   Type                             8715 non-null   object \n",
      " 4   Max Phase                        243 non-null    float64\n",
      " 5   Molecular Weight                 8715 non-null   float64\n",
      " 6   Targets                          7689 non-null   float64\n",
      " 7   Bioactivities                    7689 non-null   float64\n",
      " 8   AlogP                            8715 non-null   float64\n",
      " 9   Polar Surface Area               8715 non-null   float64\n",
      " 10  HBA                              8715 non-null   int64  \n",
      " 11  HBD                              8715 non-null   int64  \n",
      " 12  #RO5 Violations                  8715 non-null   int64  \n",
      " 13  #Rotatable Bonds                 8715 non-null   int64  \n",
      " 14  Passes Ro3                       8715 non-null   object \n",
      " 15  QED Weighted                     8715 non-null   float64\n",
      " 16  CX Acidic pKa                    8715 non-null   object \n",
      " 17  CX Basic pKa                     8715 non-null   object \n",
      " 18  CX LogP                          8715 non-null   float64\n",
      " 19  CX LogD                          8715 non-null   float64\n",
      " 20  Aromatic Rings                   8715 non-null   int64  \n",
      " 21  Structure Type                   8715 non-null   object \n",
      " 22  Inorganic Flag                   8715 non-null   int64  \n",
      " 23  Heavy Atoms                      8715 non-null   int64  \n",
      " 24  HBA (Lipinski)                   8715 non-null   int64  \n",
      " 25  HBD (Lipinski)                   8715 non-null   int64  \n",
      " 26  #RO5 Violations (Lipinski)       8715 non-null   int64  \n",
      " 27  Molecular Weight (Monoisotopic)  8715 non-null   float64\n",
      " 28  Np Likeness Score                8715 non-null   float64\n",
      " 29  Molecular Species                8715 non-null   object \n",
      " 30  Molecular Formula                8715 non-null   object \n",
      " 31  Smiles                           8715 non-null   object \n",
      " 32  Inchi Key                        8715 non-null   object \n",
      "dtypes: float64(11), int64(10), object(12)\n",
      "memory usage: 2.2+ MB\n"
     ]
    }
   ],
   "source": [
    "df.info()"
   ]
  },
  {
   "cell_type": "markdown",
   "id": "a04b3f01-03d4-4b13-b4d0-c8802401e0b4",
   "metadata": {},
   "source": [
    "We only require the `Smiles` and `Inchi Key` columns for further analysis. So we remove all the other columns except these."
   ]
  },
  {
   "cell_type": "code",
   "execution_count": 5,
   "id": "41a89209-0695-4c46-8dce-317fd4ea032b",
   "metadata": {},
   "outputs": [],
   "source": [
    "selected_columns = ['Smiles', 'Inchi Key']\n",
    "df = df.loc[:, selected_columns]"
   ]
  },
  {
   "cell_type": "code",
   "execution_count": 6,
   "id": "283bda1a-cde9-44c5-88ea-9d764e828680",
   "metadata": {},
   "outputs": [
    {
     "data": {
      "text/html": [
       "<div>\n",
       "<style scoped>\n",
       "    .dataframe tbody tr th:only-of-type {\n",
       "        vertical-align: middle;\n",
       "    }\n",
       "\n",
       "    .dataframe tbody tr th {\n",
       "        vertical-align: top;\n",
       "    }\n",
       "\n",
       "    .dataframe thead th {\n",
       "        text-align: right;\n",
       "    }\n",
       "</style>\n",
       "<table border=\"1\" class=\"dataframe\">\n",
       "  <thead>\n",
       "    <tr style=\"text-align: right;\">\n",
       "      <th></th>\n",
       "      <th>Smiles</th>\n",
       "      <th>Inchi Key</th>\n",
       "    </tr>\n",
       "  </thead>\n",
       "  <tbody>\n",
       "    <tr>\n",
       "      <th>0</th>\n",
       "      <td>CCOC(=O)CCCO</td>\n",
       "      <td>AYPJVXQBVHCUCJ-UHFFFAOYSA-N</td>\n",
       "    </tr>\n",
       "    <tr>\n",
       "      <th>1</th>\n",
       "      <td>CC(=O)NC1CCC(NC(C)=O)CC1</td>\n",
       "      <td>TVILGUBKPIUIFC-UHFFFAOYSA-N</td>\n",
       "    </tr>\n",
       "    <tr>\n",
       "      <th>2</th>\n",
       "      <td>N=C(N)Nc1ccc2c(c1)OCO2</td>\n",
       "      <td>OZINHCFSCQEUPW-UHFFFAOYSA-N</td>\n",
       "    </tr>\n",
       "    <tr>\n",
       "      <th>3</th>\n",
       "      <td>CC(C)=CCNC(=N)NCCCCN</td>\n",
       "      <td>VACJHYSOFQSYAC-UHFFFAOYSA-N</td>\n",
       "    </tr>\n",
       "    <tr>\n",
       "      <th>4</th>\n",
       "      <td>CC(O)=C1C(=O)CCC1=O</td>\n",
       "      <td>AJIYRXFNAHUXKP-UHFFFAOYSA-N</td>\n",
       "    </tr>\n",
       "  </tbody>\n",
       "</table>\n",
       "</div>"
      ],
      "text/plain": [
       "                     Smiles                    Inchi Key\n",
       "0              CCOC(=O)CCCO  AYPJVXQBVHCUCJ-UHFFFAOYSA-N\n",
       "1  CC(=O)NC1CCC(NC(C)=O)CC1  TVILGUBKPIUIFC-UHFFFAOYSA-N\n",
       "2    N=C(N)Nc1ccc2c(c1)OCO2  OZINHCFSCQEUPW-UHFFFAOYSA-N\n",
       "3      CC(C)=CCNC(=N)NCCCCN  VACJHYSOFQSYAC-UHFFFAOYSA-N\n",
       "4       CC(O)=C1C(=O)CCC1=O  AJIYRXFNAHUXKP-UHFFFAOYSA-N"
      ]
     },
     "execution_count": 6,
     "metadata": {},
     "output_type": "execute_result"
    }
   ],
   "source": [
    "df.head()"
   ]
  },
  {
   "cell_type": "code",
   "execution_count": 7,
   "id": "c157858d-ceb6-4693-8fea-7f7838c6e698",
   "metadata": {},
   "outputs": [
    {
     "name": "stdout",
     "output_type": "stream",
     "text": [
      "<class 'pandas.core.frame.DataFrame'>\n",
      "RangeIndex: 8715 entries, 0 to 8714\n",
      "Data columns (total 2 columns):\n",
      " #   Column     Non-Null Count  Dtype \n",
      "---  ------     --------------  ----- \n",
      " 0   Smiles     8715 non-null   object\n",
      " 1   Inchi Key  8715 non-null   object\n",
      "dtypes: object(2)\n",
      "memory usage: 136.3+ KB\n"
     ]
    }
   ],
   "source": [
    "df.info()"
   ]
  },
  {
   "cell_type": "markdown",
   "id": "6fe34af1-b218-47b3-a4de-6da76435c64b",
   "metadata": {},
   "source": [
    "# Standardising Smiles and Inchi Key"
   ]
  },
  {
   "cell_type": "markdown",
   "id": "28e39e52-299e-48f1-9ec7-4491c89a2968",
   "metadata": {},
   "source": [
    "We standardise both `Smiles` and `InChiKeys` of the molecules using the functions described in the `src` directory"
   ]
  },
  {
   "cell_type": "code",
   "execution_count": 8,
   "id": "3ae0238d-70e9-4b47-b305-6d2dfe2f0926",
   "metadata": {},
   "outputs": [
    {
     "name": "stderr",
     "output_type": "stream",
     "text": [
      "[13:36:10] Can't kekulize mol.  Unkekulized atoms: 3 5\n",
      "[13:36:11] Can't kekulize mol.  Unkekulized atoms: 3 9\n",
      "[13:36:11] Can't kekulize mol.  Unkekulized atoms: 3 9\n",
      "[13:36:11] Can't kekulize mol.  Unkekulized atoms: 3 5\n",
      "[13:36:11] Can't kekulize mol.  Unkekulized atoms: 3 7\n",
      "[13:36:11] Can't kekulize mol.  Unkekulized atoms: 3 6\n",
      "[13:36:11] Can't kekulize mol.  Unkekulized atoms: 3 7\n",
      "[13:36:11] Can't kekulize mol.  Unkekulized atoms: 3 7\n",
      "[13:36:11] Can't kekulize mol.  Unkekulized atoms: 2 5 9 10 11 12\n",
      "[13:36:11] Can't kekulize mol.  Unkekulized atoms: 2 5 10 11 12 13\n",
      "[13:36:12] Can't kekulize mol.  Unkekulized atoms: 3 6\n",
      "[13:36:12] Can't kekulize mol.  Unkekulized atoms: 3 5\n",
      "[13:36:12] Can't kekulize mol.  Unkekulized atoms: 3 7\n",
      "[13:36:12] Can't kekulize mol.  Unkekulized atoms: 3 7\n",
      "[13:36:12] Can't kekulize mol.  Unkekulized atoms: 3 7\n",
      "[13:36:13] Can't kekulize mol.  Unkekulized atoms: 3 5\n",
      "[13:36:13] Can't kekulize mol.  Unkekulized atoms: 3 4 5 6 8 9\n",
      "[13:36:13] Can't kekulize mol.  Unkekulized atoms: 3 6\n",
      "[13:36:13] Can't kekulize mol.  Unkekulized atoms: 3 4 5 6 7 9\n",
      "[13:36:13] Can't kekulize mol.  Unkekulized atoms: 3 7\n",
      "[13:36:14] Can't kekulize mol.  Unkekulized atoms: 0 2 4 6 7 9\n",
      "[13:36:14] Can't kekulize mol.  Unkekulized atoms: 3 4 5 6 7 10\n"
     ]
    },
    {
     "data": {
      "text/html": [
       "<div>\n",
       "<style scoped>\n",
       "    .dataframe tbody tr th:only-of-type {\n",
       "        vertical-align: middle;\n",
       "    }\n",
       "\n",
       "    .dataframe tbody tr th {\n",
       "        vertical-align: top;\n",
       "    }\n",
       "\n",
       "    .dataframe thead th {\n",
       "        text-align: right;\n",
       "    }\n",
       "</style>\n",
       "<table border=\"1\" class=\"dataframe\">\n",
       "  <thead>\n",
       "    <tr style=\"text-align: right;\">\n",
       "      <th></th>\n",
       "      <th>Smiles</th>\n",
       "      <th>Inchi Key</th>\n",
       "      <th>standardised_smiles</th>\n",
       "    </tr>\n",
       "  </thead>\n",
       "  <tbody>\n",
       "    <tr>\n",
       "      <th>0</th>\n",
       "      <td>CCOC(=O)CCCO</td>\n",
       "      <td>AYPJVXQBVHCUCJ-UHFFFAOYSA-N</td>\n",
       "      <td>CCOC(=O)CCCO</td>\n",
       "    </tr>\n",
       "    <tr>\n",
       "      <th>1</th>\n",
       "      <td>CC(=O)NC1CCC(NC(C)=O)CC1</td>\n",
       "      <td>TVILGUBKPIUIFC-UHFFFAOYSA-N</td>\n",
       "      <td>CC(=O)NC1CCC(NC(C)=O)CC1</td>\n",
       "    </tr>\n",
       "    <tr>\n",
       "      <th>2</th>\n",
       "      <td>N=C(N)Nc1ccc2c(c1)OCO2</td>\n",
       "      <td>OZINHCFSCQEUPW-UHFFFAOYSA-N</td>\n",
       "      <td>N=C(N)Nc1ccc2c(c1)OCO2</td>\n",
       "    </tr>\n",
       "    <tr>\n",
       "      <th>3</th>\n",
       "      <td>CC(C)=CCNC(=N)NCCCCN</td>\n",
       "      <td>VACJHYSOFQSYAC-UHFFFAOYSA-N</td>\n",
       "      <td>CC(C)=CCNC(=N)NCCCCN</td>\n",
       "    </tr>\n",
       "    <tr>\n",
       "      <th>4</th>\n",
       "      <td>CC(O)=C1C(=O)CCC1=O</td>\n",
       "      <td>AJIYRXFNAHUXKP-UHFFFAOYSA-N</td>\n",
       "      <td>CC(=O)C1C(=O)CCC1=O</td>\n",
       "    </tr>\n",
       "    <tr>\n",
       "      <th>...</th>\n",
       "      <td>...</td>\n",
       "      <td>...</td>\n",
       "      <td>...</td>\n",
       "    </tr>\n",
       "    <tr>\n",
       "      <th>8710</th>\n",
       "      <td>CSCC[C@H](N)[11C](=O)O</td>\n",
       "      <td>FFEARJCKVFRZRR-YMNXMHMNSA-N</td>\n",
       "      <td>CSCC[C@H](N)[11C](=O)O</td>\n",
       "    </tr>\n",
       "    <tr>\n",
       "      <th>8711</th>\n",
       "      <td>OCCCNC(=S)[S-].[Na+]</td>\n",
       "      <td>DKXSDDDDKKDNIP-UHFFFAOYSA-M</td>\n",
       "      <td>OCCCNC(=S)S</td>\n",
       "    </tr>\n",
       "    <tr>\n",
       "      <th>8712</th>\n",
       "      <td>[3H]C1(O)C=C(C(=O)O)CC1</td>\n",
       "      <td>VKJGQKRRULDFCI-XHHURNKPSA-N</td>\n",
       "      <td>[3H]C1(O)C=C(C(=O)O)CC1</td>\n",
       "    </tr>\n",
       "    <tr>\n",
       "      <th>8713</th>\n",
       "      <td>[3H][C@](O)(CN)c1ccc(O)c(O)c1</td>\n",
       "      <td>SFLSHLFXELFNJZ-CMIMLBRMSA-N</td>\n",
       "      <td>[3H][C@](O)(CN)c1ccc(O)c(O)c1</td>\n",
       "    </tr>\n",
       "    <tr>\n",
       "      <th>8714</th>\n",
       "      <td>CN(C)C(=O)Oc1ccc[n+](C)c1</td>\n",
       "      <td>RVOLLAQWKVFTGE-UHFFFAOYSA-N</td>\n",
       "      <td>CN(C)C(=O)Oc1ccc[n+](C)c1</td>\n",
       "    </tr>\n",
       "  </tbody>\n",
       "</table>\n",
       "<p>8715 rows × 3 columns</p>\n",
       "</div>"
      ],
      "text/plain": [
       "                             Smiles                    Inchi Key  \\\n",
       "0                      CCOC(=O)CCCO  AYPJVXQBVHCUCJ-UHFFFAOYSA-N   \n",
       "1          CC(=O)NC1CCC(NC(C)=O)CC1  TVILGUBKPIUIFC-UHFFFAOYSA-N   \n",
       "2            N=C(N)Nc1ccc2c(c1)OCO2  OZINHCFSCQEUPW-UHFFFAOYSA-N   \n",
       "3              CC(C)=CCNC(=N)NCCCCN  VACJHYSOFQSYAC-UHFFFAOYSA-N   \n",
       "4               CC(O)=C1C(=O)CCC1=O  AJIYRXFNAHUXKP-UHFFFAOYSA-N   \n",
       "...                             ...                          ...   \n",
       "8710         CSCC[C@H](N)[11C](=O)O  FFEARJCKVFRZRR-YMNXMHMNSA-N   \n",
       "8711           OCCCNC(=S)[S-].[Na+]  DKXSDDDDKKDNIP-UHFFFAOYSA-M   \n",
       "8712        [3H]C1(O)C=C(C(=O)O)CC1  VKJGQKRRULDFCI-XHHURNKPSA-N   \n",
       "8713  [3H][C@](O)(CN)c1ccc(O)c(O)c1  SFLSHLFXELFNJZ-CMIMLBRMSA-N   \n",
       "8714      CN(C)C(=O)Oc1ccc[n+](C)c1  RVOLLAQWKVFTGE-UHFFFAOYSA-N   \n",
       "\n",
       "                standardised_smiles  \n",
       "0                      CCOC(=O)CCCO  \n",
       "1          CC(=O)NC1CCC(NC(C)=O)CC1  \n",
       "2            N=C(N)Nc1ccc2c(c1)OCO2  \n",
       "3              CC(C)=CCNC(=N)NCCCCN  \n",
       "4               CC(=O)C1C(=O)CCC1=O  \n",
       "...                             ...  \n",
       "8710         CSCC[C@H](N)[11C](=O)O  \n",
       "8711                    OCCCNC(=S)S  \n",
       "8712        [3H]C1(O)C=C(C(=O)O)CC1  \n",
       "8713  [3H][C@](O)(CN)c1ccc(O)c(O)c1  \n",
       "8714      CN(C)C(=O)Oc1ccc[n+](C)c1  \n",
       "\n",
       "[8715 rows x 3 columns]"
      ]
     },
     "execution_count": 8,
     "metadata": {},
     "output_type": "execute_result"
    }
   ],
   "source": [
    "smiles_list = df['Smiles'].tolist()\n",
    "standardised_smiles_list = standardise_smiles(smiles_list)\n",
    "df['standardised_smiles'] = standardised_smiles_list\n",
    "df"
   ]
  },
  {
   "cell_type": "code",
   "execution_count": 9,
   "id": "69054de0-d87c-4700-8747-a8bafdb3cabd",
   "metadata": {},
   "outputs": [
    {
     "name": "stdout",
     "output_type": "stream",
     "text": [
      "<class 'pandas.core.frame.DataFrame'>\n",
      "RangeIndex: 8715 entries, 0 to 8714\n",
      "Data columns (total 3 columns):\n",
      " #   Column               Non-Null Count  Dtype \n",
      "---  ------               --------------  ----- \n",
      " 0   Smiles               8715 non-null   object\n",
      " 1   Inchi Key            8715 non-null   object\n",
      " 2   standardised_smiles  8697 non-null   object\n",
      "dtypes: object(3)\n",
      "memory usage: 204.4+ KB\n"
     ]
    }
   ],
   "source": [
    "df.info()"
   ]
  },
  {
   "cell_type": "markdown",
   "id": "e9f9e7e2-1455-4cf2-a2a2-7580bbfb7862",
   "metadata": {},
   "source": [
    "Since few molecules could not be kekulized, we remove those rows from our dataset as they contain `NULL` entries in the `standardised_smiles` column."
   ]
  },
  {
   "cell_type": "code",
   "execution_count": 10,
   "id": "3806c8df-2061-4dba-981e-a731027c3f69",
   "metadata": {},
   "outputs": [
    {
     "data": {
      "text/html": [
       "<div>\n",
       "<style scoped>\n",
       "    .dataframe tbody tr th:only-of-type {\n",
       "        vertical-align: middle;\n",
       "    }\n",
       "\n",
       "    .dataframe tbody tr th {\n",
       "        vertical-align: top;\n",
       "    }\n",
       "\n",
       "    .dataframe thead th {\n",
       "        text-align: right;\n",
       "    }\n",
       "</style>\n",
       "<table border=\"1\" class=\"dataframe\">\n",
       "  <thead>\n",
       "    <tr style=\"text-align: right;\">\n",
       "      <th></th>\n",
       "      <th>Smiles</th>\n",
       "      <th>Inchi Key</th>\n",
       "      <th>standardised_smiles</th>\n",
       "    </tr>\n",
       "  </thead>\n",
       "  <tbody>\n",
       "    <tr>\n",
       "      <th>0</th>\n",
       "      <td>CCOC(=O)CCCO</td>\n",
       "      <td>AYPJVXQBVHCUCJ-UHFFFAOYSA-N</td>\n",
       "      <td>CCOC(=O)CCCO</td>\n",
       "    </tr>\n",
       "    <tr>\n",
       "      <th>1</th>\n",
       "      <td>CC(=O)NC1CCC(NC(C)=O)CC1</td>\n",
       "      <td>TVILGUBKPIUIFC-UHFFFAOYSA-N</td>\n",
       "      <td>CC(=O)NC1CCC(NC(C)=O)CC1</td>\n",
       "    </tr>\n",
       "    <tr>\n",
       "      <th>2</th>\n",
       "      <td>N=C(N)Nc1ccc2c(c1)OCO2</td>\n",
       "      <td>OZINHCFSCQEUPW-UHFFFAOYSA-N</td>\n",
       "      <td>N=C(N)Nc1ccc2c(c1)OCO2</td>\n",
       "    </tr>\n",
       "    <tr>\n",
       "      <th>3</th>\n",
       "      <td>CC(C)=CCNC(=N)NCCCCN</td>\n",
       "      <td>VACJHYSOFQSYAC-UHFFFAOYSA-N</td>\n",
       "      <td>CC(C)=CCNC(=N)NCCCCN</td>\n",
       "    </tr>\n",
       "    <tr>\n",
       "      <th>4</th>\n",
       "      <td>CC(O)=C1C(=O)CCC1=O</td>\n",
       "      <td>AJIYRXFNAHUXKP-UHFFFAOYSA-N</td>\n",
       "      <td>CC(=O)C1C(=O)CCC1=O</td>\n",
       "    </tr>\n",
       "    <tr>\n",
       "      <th>...</th>\n",
       "      <td>...</td>\n",
       "      <td>...</td>\n",
       "      <td>...</td>\n",
       "    </tr>\n",
       "    <tr>\n",
       "      <th>8692</th>\n",
       "      <td>CSCC[C@H](N)[11C](=O)O</td>\n",
       "      <td>FFEARJCKVFRZRR-YMNXMHMNSA-N</td>\n",
       "      <td>CSCC[C@H](N)[11C](=O)O</td>\n",
       "    </tr>\n",
       "    <tr>\n",
       "      <th>8693</th>\n",
       "      <td>OCCCNC(=S)[S-].[Na+]</td>\n",
       "      <td>DKXSDDDDKKDNIP-UHFFFAOYSA-M</td>\n",
       "      <td>OCCCNC(=S)S</td>\n",
       "    </tr>\n",
       "    <tr>\n",
       "      <th>8694</th>\n",
       "      <td>[3H]C1(O)C=C(C(=O)O)CC1</td>\n",
       "      <td>VKJGQKRRULDFCI-XHHURNKPSA-N</td>\n",
       "      <td>[3H]C1(O)C=C(C(=O)O)CC1</td>\n",
       "    </tr>\n",
       "    <tr>\n",
       "      <th>8695</th>\n",
       "      <td>[3H][C@](O)(CN)c1ccc(O)c(O)c1</td>\n",
       "      <td>SFLSHLFXELFNJZ-CMIMLBRMSA-N</td>\n",
       "      <td>[3H][C@](O)(CN)c1ccc(O)c(O)c1</td>\n",
       "    </tr>\n",
       "    <tr>\n",
       "      <th>8696</th>\n",
       "      <td>CN(C)C(=O)Oc1ccc[n+](C)c1</td>\n",
       "      <td>RVOLLAQWKVFTGE-UHFFFAOYSA-N</td>\n",
       "      <td>CN(C)C(=O)Oc1ccc[n+](C)c1</td>\n",
       "    </tr>\n",
       "  </tbody>\n",
       "</table>\n",
       "<p>8697 rows × 3 columns</p>\n",
       "</div>"
      ],
      "text/plain": [
       "                             Smiles                    Inchi Key  \\\n",
       "0                      CCOC(=O)CCCO  AYPJVXQBVHCUCJ-UHFFFAOYSA-N   \n",
       "1          CC(=O)NC1CCC(NC(C)=O)CC1  TVILGUBKPIUIFC-UHFFFAOYSA-N   \n",
       "2            N=C(N)Nc1ccc2c(c1)OCO2  OZINHCFSCQEUPW-UHFFFAOYSA-N   \n",
       "3              CC(C)=CCNC(=N)NCCCCN  VACJHYSOFQSYAC-UHFFFAOYSA-N   \n",
       "4               CC(O)=C1C(=O)CCC1=O  AJIYRXFNAHUXKP-UHFFFAOYSA-N   \n",
       "...                             ...                          ...   \n",
       "8692         CSCC[C@H](N)[11C](=O)O  FFEARJCKVFRZRR-YMNXMHMNSA-N   \n",
       "8693           OCCCNC(=S)[S-].[Na+]  DKXSDDDDKKDNIP-UHFFFAOYSA-M   \n",
       "8694        [3H]C1(O)C=C(C(=O)O)CC1  VKJGQKRRULDFCI-XHHURNKPSA-N   \n",
       "8695  [3H][C@](O)(CN)c1ccc(O)c(O)c1  SFLSHLFXELFNJZ-CMIMLBRMSA-N   \n",
       "8696      CN(C)C(=O)Oc1ccc[n+](C)c1  RVOLLAQWKVFTGE-UHFFFAOYSA-N   \n",
       "\n",
       "                standardised_smiles  \n",
       "0                      CCOC(=O)CCCO  \n",
       "1          CC(=O)NC1CCC(NC(C)=O)CC1  \n",
       "2            N=C(N)Nc1ccc2c(c1)OCO2  \n",
       "3              CC(C)=CCNC(=N)NCCCCN  \n",
       "4               CC(=O)C1C(=O)CCC1=O  \n",
       "...                             ...  \n",
       "8692         CSCC[C@H](N)[11C](=O)O  \n",
       "8693                    OCCCNC(=S)S  \n",
       "8694        [3H]C1(O)C=C(C(=O)O)CC1  \n",
       "8695  [3H][C@](O)(CN)c1ccc(O)c(O)c1  \n",
       "8696      CN(C)C(=O)Oc1ccc[n+](C)c1  \n",
       "\n",
       "[8697 rows x 3 columns]"
      ]
     },
     "execution_count": 10,
     "metadata": {},
     "output_type": "execute_result"
    }
   ],
   "source": [
    "df.dropna(inplace=True)\n",
    "df.reset_index(drop=True, inplace=True)\n",
    "df"
   ]
  },
  {
   "cell_type": "code",
   "execution_count": 11,
   "id": "0bcaa3fd-558c-4ced-b1f4-670cd012cdc5",
   "metadata": {},
   "outputs": [
    {
     "name": "stdout",
     "output_type": "stream",
     "text": [
      "<class 'pandas.core.frame.DataFrame'>\n",
      "RangeIndex: 8697 entries, 0 to 8696\n",
      "Data columns (total 3 columns):\n",
      " #   Column               Non-Null Count  Dtype \n",
      "---  ------               --------------  ----- \n",
      " 0   Smiles               8697 non-null   object\n",
      " 1   Inchi Key            8697 non-null   object\n",
      " 2   standardised_smiles  8697 non-null   object\n",
      "dtypes: object(3)\n",
      "memory usage: 204.0+ KB\n"
     ]
    }
   ],
   "source": [
    "df.info()"
   ]
  },
  {
   "cell_type": "markdown",
   "id": "1bb0105e-c7d4-4363-ab3c-4d8c0b05e709",
   "metadata": {},
   "source": [
    "We standardise the `Inchi Key` column also using the function described in the `src` directory."
   ]
  },
  {
   "cell_type": "code",
   "execution_count": 12,
   "id": "583a11e6-32cb-4cf5-b519-777e8a0c4165",
   "metadata": {},
   "outputs": [
    {
     "data": {
      "text/html": [
       "<div>\n",
       "<style scoped>\n",
       "    .dataframe tbody tr th:only-of-type {\n",
       "        vertical-align: middle;\n",
       "    }\n",
       "\n",
       "    .dataframe tbody tr th {\n",
       "        vertical-align: top;\n",
       "    }\n",
       "\n",
       "    .dataframe thead th {\n",
       "        text-align: right;\n",
       "    }\n",
       "</style>\n",
       "<table border=\"1\" class=\"dataframe\">\n",
       "  <thead>\n",
       "    <tr style=\"text-align: right;\">\n",
       "      <th></th>\n",
       "      <th>Smiles</th>\n",
       "      <th>Inchi Key</th>\n",
       "      <th>standardised_smiles</th>\n",
       "      <th>standardised_inchikeys</th>\n",
       "    </tr>\n",
       "  </thead>\n",
       "  <tbody>\n",
       "    <tr>\n",
       "      <th>0</th>\n",
       "      <td>CCOC(=O)CCCO</td>\n",
       "      <td>AYPJVXQBVHCUCJ-UHFFFAOYSA-N</td>\n",
       "      <td>CCOC(=O)CCCO</td>\n",
       "      <td>AYPJVXQBVHCUCJ-UHFFFAOYSA-N</td>\n",
       "    </tr>\n",
       "    <tr>\n",
       "      <th>1</th>\n",
       "      <td>CC(=O)NC1CCC(NC(C)=O)CC1</td>\n",
       "      <td>TVILGUBKPIUIFC-UHFFFAOYSA-N</td>\n",
       "      <td>CC(=O)NC1CCC(NC(C)=O)CC1</td>\n",
       "      <td>TVILGUBKPIUIFC-UHFFFAOYSA-N</td>\n",
       "    </tr>\n",
       "    <tr>\n",
       "      <th>2</th>\n",
       "      <td>N=C(N)Nc1ccc2c(c1)OCO2</td>\n",
       "      <td>OZINHCFSCQEUPW-UHFFFAOYSA-N</td>\n",
       "      <td>N=C(N)Nc1ccc2c(c1)OCO2</td>\n",
       "      <td>OZINHCFSCQEUPW-UHFFFAOYSA-N</td>\n",
       "    </tr>\n",
       "    <tr>\n",
       "      <th>3</th>\n",
       "      <td>CC(C)=CCNC(=N)NCCCCN</td>\n",
       "      <td>VACJHYSOFQSYAC-UHFFFAOYSA-N</td>\n",
       "      <td>CC(C)=CCNC(=N)NCCCCN</td>\n",
       "      <td>VACJHYSOFQSYAC-UHFFFAOYSA-N</td>\n",
       "    </tr>\n",
       "    <tr>\n",
       "      <th>4</th>\n",
       "      <td>CC(O)=C1C(=O)CCC1=O</td>\n",
       "      <td>AJIYRXFNAHUXKP-UHFFFAOYSA-N</td>\n",
       "      <td>CC(=O)C1C(=O)CCC1=O</td>\n",
       "      <td>WYBUYWCJZMQESH-UHFFFAOYSA-N</td>\n",
       "    </tr>\n",
       "    <tr>\n",
       "      <th>...</th>\n",
       "      <td>...</td>\n",
       "      <td>...</td>\n",
       "      <td>...</td>\n",
       "      <td>...</td>\n",
       "    </tr>\n",
       "    <tr>\n",
       "      <th>8692</th>\n",
       "      <td>CSCC[C@H](N)[11C](=O)O</td>\n",
       "      <td>FFEARJCKVFRZRR-YMNXMHMNSA-N</td>\n",
       "      <td>CSCC[C@H](N)[11C](=O)O</td>\n",
       "      <td>FFEARJCKVFRZRR-YMNXMHMNSA-N</td>\n",
       "    </tr>\n",
       "    <tr>\n",
       "      <th>8693</th>\n",
       "      <td>OCCCNC(=S)[S-].[Na+]</td>\n",
       "      <td>DKXSDDDDKKDNIP-UHFFFAOYSA-M</td>\n",
       "      <td>OCCCNC(=S)S</td>\n",
       "      <td>HSXNXTGUYOUXQI-UHFFFAOYSA-N</td>\n",
       "    </tr>\n",
       "    <tr>\n",
       "      <th>8694</th>\n",
       "      <td>[3H]C1(O)C=C(C(=O)O)CC1</td>\n",
       "      <td>VKJGQKRRULDFCI-XHHURNKPSA-N</td>\n",
       "      <td>[3H]C1(O)C=C(C(=O)O)CC1</td>\n",
       "      <td>VKJGQKRRULDFCI-XHHURNKPSA-N</td>\n",
       "    </tr>\n",
       "    <tr>\n",
       "      <th>8695</th>\n",
       "      <td>[3H][C@](O)(CN)c1ccc(O)c(O)c1</td>\n",
       "      <td>SFLSHLFXELFNJZ-CMIMLBRMSA-N</td>\n",
       "      <td>[3H][C@](O)(CN)c1ccc(O)c(O)c1</td>\n",
       "      <td>SFLSHLFXELFNJZ-CMIMLBRMSA-N</td>\n",
       "    </tr>\n",
       "    <tr>\n",
       "      <th>8696</th>\n",
       "      <td>CN(C)C(=O)Oc1ccc[n+](C)c1</td>\n",
       "      <td>RVOLLAQWKVFTGE-UHFFFAOYSA-N</td>\n",
       "      <td>CN(C)C(=O)Oc1ccc[n+](C)c1</td>\n",
       "      <td>RVOLLAQWKVFTGE-UHFFFAOYSA-N</td>\n",
       "    </tr>\n",
       "  </tbody>\n",
       "</table>\n",
       "<p>8697 rows × 4 columns</p>\n",
       "</div>"
      ],
      "text/plain": [
       "                             Smiles                    Inchi Key  \\\n",
       "0                      CCOC(=O)CCCO  AYPJVXQBVHCUCJ-UHFFFAOYSA-N   \n",
       "1          CC(=O)NC1CCC(NC(C)=O)CC1  TVILGUBKPIUIFC-UHFFFAOYSA-N   \n",
       "2            N=C(N)Nc1ccc2c(c1)OCO2  OZINHCFSCQEUPW-UHFFFAOYSA-N   \n",
       "3              CC(C)=CCNC(=N)NCCCCN  VACJHYSOFQSYAC-UHFFFAOYSA-N   \n",
       "4               CC(O)=C1C(=O)CCC1=O  AJIYRXFNAHUXKP-UHFFFAOYSA-N   \n",
       "...                             ...                          ...   \n",
       "8692         CSCC[C@H](N)[11C](=O)O  FFEARJCKVFRZRR-YMNXMHMNSA-N   \n",
       "8693           OCCCNC(=S)[S-].[Na+]  DKXSDDDDKKDNIP-UHFFFAOYSA-M   \n",
       "8694        [3H]C1(O)C=C(C(=O)O)CC1  VKJGQKRRULDFCI-XHHURNKPSA-N   \n",
       "8695  [3H][C@](O)(CN)c1ccc(O)c(O)c1  SFLSHLFXELFNJZ-CMIMLBRMSA-N   \n",
       "8696      CN(C)C(=O)Oc1ccc[n+](C)c1  RVOLLAQWKVFTGE-UHFFFAOYSA-N   \n",
       "\n",
       "                standardised_smiles       standardised_inchikeys  \n",
       "0                      CCOC(=O)CCCO  AYPJVXQBVHCUCJ-UHFFFAOYSA-N  \n",
       "1          CC(=O)NC1CCC(NC(C)=O)CC1  TVILGUBKPIUIFC-UHFFFAOYSA-N  \n",
       "2            N=C(N)Nc1ccc2c(c1)OCO2  OZINHCFSCQEUPW-UHFFFAOYSA-N  \n",
       "3              CC(C)=CCNC(=N)NCCCCN  VACJHYSOFQSYAC-UHFFFAOYSA-N  \n",
       "4               CC(=O)C1C(=O)CCC1=O  WYBUYWCJZMQESH-UHFFFAOYSA-N  \n",
       "...                             ...                          ...  \n",
       "8692         CSCC[C@H](N)[11C](=O)O  FFEARJCKVFRZRR-YMNXMHMNSA-N  \n",
       "8693                    OCCCNC(=S)S  HSXNXTGUYOUXQI-UHFFFAOYSA-N  \n",
       "8694        [3H]C1(O)C=C(C(=O)O)CC1  VKJGQKRRULDFCI-XHHURNKPSA-N  \n",
       "8695  [3H][C@](O)(CN)c1ccc(O)c(O)c1  SFLSHLFXELFNJZ-CMIMLBRMSA-N  \n",
       "8696      CN(C)C(=O)Oc1ccc[n+](C)c1  RVOLLAQWKVFTGE-UHFFFAOYSA-N  \n",
       "\n",
       "[8697 rows x 4 columns]"
      ]
     },
     "execution_count": 12,
     "metadata": {},
     "output_type": "execute_result"
    }
   ],
   "source": [
    "smiles_list = df['standardised_smiles'].tolist()\n",
    "standardised_inchikeys_list = standardise_inchikey(smiles_list)\n",
    "df['standardised_inchikeys'] = standardised_inchikeys_list\n",
    "df"
   ]
  },
  {
   "cell_type": "code",
   "execution_count": 13,
   "id": "8cb268f6-fe15-46cf-be9d-7d05577ac059",
   "metadata": {},
   "outputs": [
    {
     "name": "stdout",
     "output_type": "stream",
     "text": [
      "<class 'pandas.core.frame.DataFrame'>\n",
      "RangeIndex: 8697 entries, 0 to 8696\n",
      "Data columns (total 4 columns):\n",
      " #   Column                  Non-Null Count  Dtype \n",
      "---  ------                  --------------  ----- \n",
      " 0   Smiles                  8697 non-null   object\n",
      " 1   Inchi Key               8697 non-null   object\n",
      " 2   standardised_smiles     8697 non-null   object\n",
      " 3   standardised_inchikeys  8697 non-null   object\n",
      "dtypes: object(4)\n",
      "memory usage: 271.9+ KB\n"
     ]
    }
   ],
   "source": [
    "df.info()"
   ]
  },
  {
   "cell_type": "markdown",
   "id": "14cbf291-cdad-4938-8a20-e7b3c77dfc5f",
   "metadata": {},
   "source": [
    "Here, the preprocessing is completed. The dataset now contains 8697 entries. We now create a sample dataset of 1000 entries using the sample function. We also rename the column names to `Smiles` and `Inchi_key` for convenience."
   ]
  },
  {
   "cell_type": "markdown",
   "id": "33552142-104f-434e-ab3c-cacdff25769a",
   "metadata": {},
   "source": [
    "# Creating the Sample of 1000 Entries"
   ]
  },
  {
   "cell_type": "code",
   "execution_count": 14,
   "id": "cf3584f9-9c3d-4101-b095-29bd4d37471a",
   "metadata": {},
   "outputs": [
    {
     "data": {
      "text/html": [
       "<div>\n",
       "<style scoped>\n",
       "    .dataframe tbody tr th:only-of-type {\n",
       "        vertical-align: middle;\n",
       "    }\n",
       "\n",
       "    .dataframe tbody tr th {\n",
       "        vertical-align: top;\n",
       "    }\n",
       "\n",
       "    .dataframe thead th {\n",
       "        text-align: right;\n",
       "    }\n",
       "</style>\n",
       "<table border=\"1\" class=\"dataframe\">\n",
       "  <thead>\n",
       "    <tr style=\"text-align: right;\">\n",
       "      <th></th>\n",
       "      <th>Inchi_key</th>\n",
       "      <th>Smiles</th>\n",
       "    </tr>\n",
       "  </thead>\n",
       "  <tbody>\n",
       "    <tr>\n",
       "      <th>0</th>\n",
       "      <td>RAEDEZWVLQSYAR-CLFYSBASSA-N</td>\n",
       "      <td>[O-]/[N+](=N\\OCCl)N1CCOCC1</td>\n",
       "    </tr>\n",
       "    <tr>\n",
       "      <th>1</th>\n",
       "      <td>UTXDPIGHIUIJIS-UHFFFAOYSA-N</td>\n",
       "      <td>CC(CN)c1cnc[nH]1</td>\n",
       "    </tr>\n",
       "    <tr>\n",
       "      <th>2</th>\n",
       "      <td>ODJQKYXPKWQWNK-UHFFFAOYSA-N</td>\n",
       "      <td>O=C(O)CCSCCC(=O)O</td>\n",
       "    </tr>\n",
       "    <tr>\n",
       "      <th>3</th>\n",
       "      <td>BWUFFNRDKQQEQQ-GDVGLLTNSA-N</td>\n",
       "      <td>CC1SC(=O)[C@@H]2CCCN2C1=O</td>\n",
       "    </tr>\n",
       "    <tr>\n",
       "      <th>4</th>\n",
       "      <td>RSXWJXPKLRYMHW-UHFFFAOYSA-N</td>\n",
       "      <td>Cc1nc([N+](=O)[O-])cn1CCO</td>\n",
       "    </tr>\n",
       "  </tbody>\n",
       "</table>\n",
       "</div>"
      ],
      "text/plain": [
       "                     Inchi_key                      Smiles\n",
       "0  RAEDEZWVLQSYAR-CLFYSBASSA-N  [O-]/[N+](=N\\OCCl)N1CCOCC1\n",
       "1  UTXDPIGHIUIJIS-UHFFFAOYSA-N            CC(CN)c1cnc[nH]1\n",
       "2  ODJQKYXPKWQWNK-UHFFFAOYSA-N           O=C(O)CCSCCC(=O)O\n",
       "3  BWUFFNRDKQQEQQ-GDVGLLTNSA-N   CC1SC(=O)[C@@H]2CCCN2C1=O\n",
       "4  RSXWJXPKLRYMHW-UHFFFAOYSA-N   Cc1nc([N+](=O)[O-])cn1CCO"
      ]
     },
     "execution_count": 14,
     "metadata": {},
     "output_type": "execute_result"
    }
   ],
   "source": [
    "input_data = df.sample(n=1000, random_state=42)\n",
    "input_data = input_data[['standardised_inchikeys', 'standardised_smiles']]\n",
    "input_data.rename(columns={'standardised_inchikeys': 'Inchi_key', 'standardised_smiles': 'Smiles'}, inplace=True)\n",
    "input_data.reset_index(drop=True, inplace=True)\n",
    "input_data.to_csv('../data/input_data.csv', index=False)\n",
    "input_data.head()"
   ]
  },
  {
   "cell_type": "code",
   "execution_count": 15,
   "id": "56345232-d795-4303-a57d-f3e8d30151d7",
   "metadata": {},
   "outputs": [
    {
     "name": "stdout",
     "output_type": "stream",
     "text": [
      "<class 'pandas.core.frame.DataFrame'>\n",
      "RangeIndex: 1000 entries, 0 to 999\n",
      "Data columns (total 2 columns):\n",
      " #   Column     Non-Null Count  Dtype \n",
      "---  ------     --------------  ----- \n",
      " 0   Inchi_key  1000 non-null   object\n",
      " 1   Smiles     1000 non-null   object\n",
      "dtypes: object(2)\n",
      "memory usage: 15.8+ KB\n"
     ]
    }
   ],
   "source": [
    "input_data.info()"
   ]
  },
  {
   "cell_type": "markdown",
   "id": "4e23a9d4-dc4b-4643-a070-e7045dd66ea0",
   "metadata": {},
   "source": [
    "# Running the Model on the Input Data"
   ]
  },
  {
   "cell_type": "markdown",
   "id": "3de4982d-53b5-4d5e-b690-776003f793cf",
   "metadata": {},
   "source": [
    "The model is run on the terminal on the input data using the following commands:\n",
    "```\n",
    "ersilia -v fetch eos30gr\n",
    "ersilia serve eos30gr\n",
    "ersilia -v api run -i input_data.csv -o output_data.csv\n",
    "```\n",
    "\n",
    "The output after running the model is saved in `output_data.csv` file which is present the `data` directory."
   ]
  },
  {
   "cell_type": "markdown",
   "id": "006e9aba-0e21-47a2-b455-4a4d604cdec5",
   "metadata": {},
   "source": [
    "# Model Bias Evaluation"
   ]
  },
  {
   "cell_type": "markdown",
   "id": "c0d4157b-a2ab-42c8-944b-6f2450074380",
   "metadata": {},
   "source": [
    "## Exploring the output data"
   ]
  },
  {
   "cell_type": "code",
   "execution_count": 16,
   "id": "67e60921-a504-44a0-8545-276ccbc0ae1f",
   "metadata": {},
   "outputs": [
    {
     "data": {
      "text/html": [
       "<div>\n",
       "<style scoped>\n",
       "    .dataframe tbody tr th:only-of-type {\n",
       "        vertical-align: middle;\n",
       "    }\n",
       "\n",
       "    .dataframe tbody tr th {\n",
       "        vertical-align: top;\n",
       "    }\n",
       "\n",
       "    .dataframe thead th {\n",
       "        text-align: right;\n",
       "    }\n",
       "</style>\n",
       "<table border=\"1\" class=\"dataframe\">\n",
       "  <thead>\n",
       "    <tr style=\"text-align: right;\">\n",
       "      <th></th>\n",
       "      <th>key</th>\n",
       "      <th>input</th>\n",
       "      <th>activity10</th>\n",
       "    </tr>\n",
       "  </thead>\n",
       "  <tbody>\n",
       "    <tr>\n",
       "      <th>0</th>\n",
       "      <td>RAEDEZWVLQSYAR-CLFYSBASSA-N</td>\n",
       "      <td>[O-]/[N+](=N\\OCCl)N1CCOCC1</td>\n",
       "      <td>0.342822</td>\n",
       "    </tr>\n",
       "    <tr>\n",
       "      <th>1</th>\n",
       "      <td>UTXDPIGHIUIJIS-UHFFFAOYSA-N</td>\n",
       "      <td>CC(CN)c1cnc[nH]1</td>\n",
       "      <td>0.183168</td>\n",
       "    </tr>\n",
       "    <tr>\n",
       "      <th>2</th>\n",
       "      <td>ODJQKYXPKWQWNK-UHFFFAOYSA-N</td>\n",
       "      <td>O=C(O)CCSCCC(=O)O</td>\n",
       "      <td>0.034653</td>\n",
       "    </tr>\n",
       "    <tr>\n",
       "      <th>3</th>\n",
       "      <td>BWUFFNRDKQQEQQ-GDVGLLTNSA-N</td>\n",
       "      <td>CC1SC(=O)[C@@H]2CCCN2C1=O</td>\n",
       "      <td>0.224422</td>\n",
       "    </tr>\n",
       "    <tr>\n",
       "      <th>4</th>\n",
       "      <td>RSXWJXPKLRYMHW-UHFFFAOYSA-N</td>\n",
       "      <td>Cc1nc([N+](=O)[O-])cn1CCO</td>\n",
       "      <td>0.136492</td>\n",
       "    </tr>\n",
       "  </tbody>\n",
       "</table>\n",
       "</div>"
      ],
      "text/plain": [
       "                           key                       input  activity10\n",
       "0  RAEDEZWVLQSYAR-CLFYSBASSA-N  [O-]/[N+](=N\\OCCl)N1CCOCC1    0.342822\n",
       "1  UTXDPIGHIUIJIS-UHFFFAOYSA-N            CC(CN)c1cnc[nH]1    0.183168\n",
       "2  ODJQKYXPKWQWNK-UHFFFAOYSA-N           O=C(O)CCSCCC(=O)O    0.034653\n",
       "3  BWUFFNRDKQQEQQ-GDVGLLTNSA-N   CC1SC(=O)[C@@H]2CCCN2C1=O    0.224422\n",
       "4  RSXWJXPKLRYMHW-UHFFFAOYSA-N   Cc1nc([N+](=O)[O-])cn1CCO    0.136492"
      ]
     },
     "execution_count": 16,
     "metadata": {},
     "output_type": "execute_result"
    }
   ],
   "source": [
    "predictions_df = pd.read_csv('../data/output_data.csv')\n",
    "predictions_df.head()"
   ]
  },
  {
   "cell_type": "code",
   "execution_count": 17,
   "id": "b082fa5f-e8ee-42a8-b340-283bc41c4038",
   "metadata": {},
   "outputs": [
    {
     "name": "stdout",
     "output_type": "stream",
     "text": [
      "<class 'pandas.core.frame.DataFrame'>\n",
      "RangeIndex: 1000 entries, 0 to 999\n",
      "Data columns (total 3 columns):\n",
      " #   Column      Non-Null Count  Dtype  \n",
      "---  ------      --------------  -----  \n",
      " 0   key         1000 non-null   object \n",
      " 1   input       1000 non-null   object \n",
      " 2   activity10  1000 non-null   float64\n",
      "dtypes: float64(1), object(2)\n",
      "memory usage: 23.6+ KB\n"
     ]
    }
   ],
   "source": [
    "predictions_df.info()"
   ]
  },
  {
   "cell_type": "markdown",
   "id": "2455f06f-e2bc-48ab-9807-5fe1023a3265",
   "metadata": {},
   "source": [
    "The output data contains the `key` - which is the `InChiKey`, the `input` - which is the `Smiles` string and the `activity10` column which contains the `probability of hERG blockade`. "
   ]
  },
  {
   "cell_type": "markdown",
   "id": "5a710e86-d655-4c0e-8d1d-f5453cae59cb",
   "metadata": {},
   "source": [
    "## Visualizing the predictions"
   ]
  },
  {
   "cell_type": "markdown",
   "id": "a2fdedec-4fe9-4c4b-b04f-148dc25c557e",
   "metadata": {},
   "source": [
    "### Molecules with highest predicted probabilities"
   ]
  },
  {
   "cell_type": "code",
   "execution_count": 23,
   "id": "c4ac3580-6773-4e72-b834-ce889e104fe5",
   "metadata": {},
   "outputs": [],
   "source": [
    "# Sort the DataFrame by predicted probabilities in descending order\n",
    "top_predictions = predictions_df.sort_values(by='activity10', ascending=False).head(10)"
   ]
  },
  {
   "cell_type": "code",
   "execution_count": 24,
   "id": "9e83888b-8be9-4ca6-a9b4-00e727512914",
   "metadata": {},
   "outputs": [
    {
     "data": {
      "image/png": "[encoded data removed]",
      "text/plain": [
       "<Figure size 1200x600 with 1 Axes>"
      ]
     },
     "metadata": {},
     "output_type": "display_data"
    }
   ],
   "source": [
    "# Create a bar plot\n",
    "plt.figure(figsize=(12, 6))\n",
    "sns.barplot(x='activity10', y='input', hue='input', data=top_predictions, palette='magma', legend=False)\n",
    "\n",
    "# Set plot labels and title\n",
    "plt.xlabel('Predicted Probability')\n",
    "plt.ylabel('SMILES')\n",
    "plt.title('Top 10 Molecules with Highest Predicted Probabilities')\n",
    "\n",
    "#Save the plot\n",
    "figure_path = '../figures/molecules_with_highest_predicted_probabilities.png'\n",
    "plt.savefig(figure_path)\n",
    "\n",
    "# Show the plot\n",
    "plt.show()"
   ]
  },
  {
   "cell_type": "code",
   "execution_count": null,
   "id": "afc121e2-6d38-4c71-9e00-080857fc1781",
   "metadata": {},
   "outputs": [],
   "source": []
  },
  {
   "cell_type": "markdown",
   "id": "358bde3d-347a-48d1-a3f9-1cec792db7d8",
   "metadata": {},
   "source": [
    "The above visualization depicts the top ten molecules with the highest probability of being a hERG blockade."
   ]
  },
  {
   "cell_type": "markdown",
   "id": "8287b854-9c76-4ebe-9365-76c078f42340",
   "metadata": {},
   "source": [
    "### Molecules with lowest predicted probabilities"
   ]
  },
  {
   "cell_type": "code",
   "execution_count": 25,
   "id": "19872477-79c8-4236-8cc6-5ba24adafd3f",
   "metadata": {},
   "outputs": [],
   "source": [
    "# Sort the DataFrame by predicted probabilities in descending order\n",
    "low_predictions = predictions_df.sort_values(by='activity10', ascending=False).tail(10)"
   ]
  },
  {
   "cell_type": "code",
   "execution_count": 26,
   "id": "63691dec-84dc-4df7-95c7-d17ace26875b",
   "metadata": {},
   "outputs": [
    {
     "data": {
      "image/png": "[encoded data removed]",
      "text/plain": [
       "<Figure size 1200x600 with 1 Axes>"
      ]
     },
     "metadata": {},
     "output_type": "display_data"
    }
   ],
   "source": [
    "# Create a bar plot\n",
    "plt.figure(figsize=(12, 6))\n",
    "sns.barplot(x='activity10', y='input', hue='input', data=low_predictions, palette='plasma', legend=False)\n",
    "\n",
    "# Set plot labels and title\n",
    "plt.xlabel('Predicted Probability')\n",
    "plt.ylabel('SMILES')\n",
    "plt.title('Top 10 Molecules with Highest Predicted Probabilities')\n",
    "\n",
    "#Save the plot\n",
    "figure_path = '../figures/molecules_with_lowest_predicted_probabilities.png'\n",
    "plt.savefig(figure_path)\n",
    "\n",
    "# Show the plot\n",
    "plt.show()"
   ]
  },
  {
   "cell_type": "markdown",
   "id": "64b40261-680a-4700-84aa-d93689001320",
   "metadata": {},
   "source": [
    "The above visualization depicts the top ten molecules with the least probability of being a hERG blockade."
   ]
  },
  {
   "cell_type": "markdown",
   "id": "b3774211-7dc6-47b4-89c7-17a612cba02f",
   "metadata": {},
   "source": [
    "### Distribution of molecules by probability range"
   ]
  },
  {
   "cell_type": "code",
   "execution_count": 27,
   "id": "249f420b-18a4-4834-b5b8-cac9b7ad90d7",
   "metadata": {},
   "outputs": [
    {
     "data": {
      "image/png": "[encoded data removed]",
      "text/plain": [
       "<Figure size 800x800 with 1 Axes>"
      ]
     },
     "metadata": {},
     "output_type": "display_data"
    }
   ],
   "source": [
    "predictions_df['Probability Range'] = pd.cut(predictions_df['activity10'], bins=[-float('inf'), 0.1, 0.2, 0.3, 0.5, float('inf')],\n",
    "                                            labels=['< 0.1', '0.1 - 0.2', '0.2 - 0.3', '0.3 - 0.5', '> 0.5'])\n",
    "\n",
    "# Count the number of molecules in each probability range\n",
    "counts = predictions_df['Probability Range'].value_counts()\n",
    "\n",
    "# Define colors for each category\n",
    "colors = ['lightcoral', 'gold', 'lightgreen', 'lightskyblue', 'mediumorchid']\n",
    "\n",
    "# Create a pie chart\n",
    "plt.figure(figsize=(8, 8))\n",
    "plt.pie(counts, autopct='%1.1f%%', startangle=90, colors=colors)\n",
    "\n",
    "# Create a legend outside the pie chart\n",
    "plt.legend(labels=['< 0.1', '0.1 - 0.2', '0.2 - 0.3', '0.3 - 0.5', '> 0.5'], loc='upper left', bbox_to_anchor=(1, 0.5))\n",
    "\n",
    "plt.title('Distribution of Molecules by Probability Range')\n",
    "\n",
    "#Save the plot\n",
    "figure_path = '../figures/distribution_of_molecules_by_probability_range.png'\n",
    "plt.savefig(figure_path)\n",
    "\n",
    "plt.show()"
   ]
  },
  {
   "cell_type": "markdown",
   "id": "9b3d3e6c-cd02-4c96-a83b-5d22e35f664e",
   "metadata": {},
   "source": [
    "From the above visualization, we can see that from the sample of 1000 molecules, major percentage has a very low probability of being a hERG bloakade. And around 1.1% molecules have the probability of being a hERG blockade."
   ]
  },
  {
   "cell_type": "code",
   "execution_count": null,
   "id": "d6d240e4-cd29-4b8b-bb7d-304af8546bb3",
   "metadata": {},
   "outputs": [],
   "source": []
  }
 ],
 "metadata": {
  "kernelspec": {
   "display_name": "Python 3 (ipykernel)",
   "language": "python",
   "name": "python3"
  },
  "language_info": {
   "codemirror_mode": {
    "name": "ipython",
    "version": 3
   },
   "file_extension": ".py",
   "mimetype": "text/x-python",
   "name": "python",
   "nbconvert_exporter": "python",
   "pygments_lexer": "ipython3",
   "version": "3.10.13"
  }
 },
 "nbformat": 4,
 "nbformat_minor": 5
}
